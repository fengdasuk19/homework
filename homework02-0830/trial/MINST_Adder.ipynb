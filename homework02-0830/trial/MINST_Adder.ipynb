{
 "cells": [
  {
   "cell_type": "markdown",
   "metadata": {},
   "source": [
    "# 作业：手写数字加法机\n",
    "\n",
    "本文件是与集智AI学园出品的系列课程“火炬上的深度学习”配套的作业notebook。本作业要求学员构造一个卷积神经网，输入两张手写数字图片，输出这两个数字的和。\n",
    "\n",
    "本文件提供了一个完成做的大框架，学员需要自行修改、添加代码，从而完成任务\n",
    "\n",
    "本文件是集智AI学园http://campus.swarma.org 出品的“火炬上的深度学习”第III课的配套源代码\n"
   ]
  },
  {
   "cell_type": "code",
   "execution_count": 1,
   "metadata": {
    "collapsed": true
   },
   "outputs": [],
   "source": [
    "# 导入所需要的包，请保证torchvision已经在你的环境中安装好\n",
    "import torch\n",
    "import torch.nn as nn\n",
    "from torch.autograd import Variable\n",
    "import torch.optim as optim\n",
    "import torch.nn.functional as F\n",
    "\n",
    "import torchvision.datasets as dsets\n",
    "import torchvision.transforms as transforms\n",
    "\n",
    "import matplotlib.pyplot as plt\n",
    "import numpy as np\n",
    "\n",
    "%matplotlib inline"
   ]
  },
  {
   "cell_type": "code",
   "execution_count": 2,
   "metadata": {},
   "outputs": [],
   "source": [
    "\n",
    "# 定义需要用到的超参数\n",
    "image_size = 28  #图像的总尺寸28*28\n",
    "num_classes = 10  #标签的种类数\n",
    "num_epochs = 20  #训练的总循环周期\n",
    "batch_size = 64\n",
    "\n",
    "# 加载MINIST数据，如果没有下载过，就会在当前路径下新建/data子目录，并把文件存放其中\n",
    "\n",
    "train_dataset = dsets.MNIST(root='./data',  #文件存放路径\n",
    "                            train=True,   #提取训练集\n",
    "                            transform=transforms.ToTensor(),  #将图像转化为Tensor\n",
    "                            download=True)\n",
    "\n",
    "test_dataset = dsets.MNIST(root='./data', \n",
    "                           train=False, \n",
    "                           transform=transforms.ToTensor())\n",
    "\n",
    "# 由于每一个样本需要输入两个图片，因此每一个loader和sampler都有两个\n",
    "\n",
    "sampler1 = torch.utils.data.sampler.SubsetRandomSampler(\n",
    "    np.random.permutation(range(len(train_dataset))))\n",
    "sampler2 = torch.utils.data.sampler.SubsetRandomSampler(\n",
    "    np.random.permutation(range(len(train_dataset))))\n",
    "\n",
    "# 训练数据的两个加载器\n",
    "train_loader1 = torch.utils.data.DataLoader(dataset = train_dataset,\n",
    "                                           batch_size = batch_size,\n",
    "                                           shuffle = False,\n",
    "                                           sampler = sampler1\n",
    "                                           )\n",
    "train_loader2 = torch.utils.data.DataLoader(dataset = train_dataset,\n",
    "                                           batch_size = batch_size,\n",
    "                                           shuffle = False,\n",
    "                                           sampler = sampler2\n",
    "                                           )\n",
    "\n",
    "# 校验数据和测试数据都各自有两套\n",
    "val_size = 5000\n",
    "val_indices1 = range(val_size)\n",
    "val_indices2 = np.random.permutation(range(val_size))\n",
    "test_indices1 = range(val_size, len(test_dataset))\n",
    "test_indices2 = np.random.permutation(test_indices1)\n",
    "val_sampler1 = torch.utils.data.sampler.SubsetRandomSampler(val_indices1)\n",
    "val_sampler2 = torch.utils.data.sampler.SubsetRandomSampler(val_indices2)\n",
    "\n",
    "test_sampler1 = torch.utils.data.sampler.SubsetRandomSampler(test_indices1)\n",
    "test_sampler2 = torch.utils.data.sampler.SubsetRandomSampler(test_indices2)\n",
    "\n",
    "val_loader1 = torch.utils.data.DataLoader(dataset = test_dataset,\n",
    "                                        batch_size = batch_size,\n",
    "                                        shuffle = False,\n",
    "                                        sampler = val_sampler1\n",
    "                                        )\n",
    "val_loader2 = torch.utils.data.DataLoader(dataset = test_dataset,\n",
    "                                        batch_size = batch_size,\n",
    "                                        shuffle = False,\n",
    "                                        sampler = val_sampler2\n",
    "                                        )\n",
    "test_loader1 = torch.utils.data.DataLoader(dataset = test_dataset,\n",
    "                                         batch_size = batch_size,\n",
    "                                         shuffle = False,\n",
    "                                         sampler = test_sampler1\n",
    "                                         )\n",
    "test_loader2 = torch.utils.data.DataLoader(dataset = test_dataset,\n",
    "                                         batch_size = batch_size,\n",
    "                                         shuffle = False,\n",
    "                                         sampler = test_sampler2\n",
    "                                         )"
   ]
  },
  {
   "cell_type": "markdown",
   "metadata": {},
   "source": [
    "# MINST Adder"
   ]
  },
  {
   "cell_type": "markdown",
   "metadata": {},
   "source": [
    "为了实现加法器，需要同时处理两个手写体数字图像，并对它进行相应的图像处理\n",
    "因此，网络的架构为两个卷积神经网络，串联上两个全链接层"
   ]
  },
  {
   "cell_type": "code",
   "execution_count": 84,
   "metadata": {},
   "outputs": [
    {
     "data": {
      "text/plain": [
       "9"
      ]
     },
     "execution_count": 84,
     "metadata": {},
     "output_type": "execute_result"
    }
   ],
   "source": [
    "(28//4//2)*(28//4//2)"
   ]
  },
  {
   "cell_type": "code",
   "execution_count": 105,
   "metadata": {
    "collapsed": true
   },
   "outputs": [],
   "source": [
    "depth = [16, 32, 64]\n",
    "fc = [1024, 128, 1]\n",
    "class MINSTAdder(nn.Module):\n",
    "    def __init__(self):\n",
    "        super(MINSTAdder, self).__init__()\n",
    "        #公共网络部件\n",
    "        self.net_pool = nn.MaxPool2d(kernel_size=2, stride=2)\n",
    "        self.bn1d = nn.BatchNorm1d(num_features=fc[1])\n",
    "        \n",
    "        #处理第一个图像处理用的卷积网络部件\n",
    "        self.net1_conv1 = nn.Conv2d(in_channels=1, out_channels=depth[0], kernel_size=5, padding = 2)\n",
    "        self.net1_conv2 = nn.Conv2d(in_channels=depth[0], out_channels=depth[1], kernel_size=5, padding = 2) \n",
    "        self.net1_conv3 = nn.Conv2d(in_channels=depth[1], out_channels=depth[2], kernel_size=5, padding = 2) \n",
    "         \n",
    "        #处理第二个图像处理用的卷积网络部件\n",
    "        self.net2_conv1 = nn.Conv2d(in_channels=1, out_channels=depth[0], kernel_size=5, padding = 2)\n",
    "        self.net2_conv2 = nn.Conv2d(in_channels=depth[0], out_channels=depth[1], kernel_size=5, padding = 2)\n",
    "        self.net2_conv3 = nn.Conv2d(in_channels=depth[1], out_channels=depth[2], kernel_size=5, padding = 2) \n",
    "         \n",
    "        #后面的全连阶层\n",
    "        self.fc1 = nn.Linear(in_features=2 * (image_size // 4 // 2) * (image_size // 4 // 2) * depth[2] , \n",
    "                             out_features=fc[0])\n",
    "        self.fc2 = nn.Linear(in_features=fc[0], out_features=fc[1])\n",
    "        self.fc3 = nn.Linear(in_features=fc[1], out_features=fc[2])\n",
    " \n",
    "    def forward(self, x, y, training = True):\n",
    "        #第一张图像的处理流程\n",
    "        x = F.leaky_relu(self.net1_conv1(x)) # 1*28*28 -> 16*28*28\n",
    "        x = self.net_pool(x) # 16*28*28 -> 16*14*14\n",
    "        x = F.leaky_relu(self.net1_conv2(x)) # 16*14*14 -> 32*14*14\n",
    "        x = self.net_pool(x) # 32*14*14 -> 32*7*7\n",
    "        x = F.leaky_relu(self.net1_conv3(x)) # 32*7*7 -> 64*7*7\n",
    "        x = self.net_pool(x) # 64*7*7 -> 64*3*3\n",
    "        x = x.view(-1, (image_size // 4 // 2) * (image_size // 4 // 2) * depth[2]) # flatten\n",
    "         \n",
    "        #第二张图像的处理流程\n",
    "        y = F.leaky_relu(self.net2_conv1(y)) # size change like above\n",
    "        y = self.net_pool(y)\n",
    "        y = F.leaky_relu(self.net2_conv2(y))\n",
    "        y = self.net_pool(y)\n",
    "        y = F.leaky_relu(self.net2_conv3(y))\n",
    "        y = self.net_pool(y)\n",
    "        y = y.view(-1, (image_size // 4 // 2) * (image_size // 4 // 2) * depth[2])\n",
    "         \n",
    "        #将前两部处理得到的张量并列到一起，喂给两层全链接前馈网络，最后输出预测数值\n",
    "        z = torch.cat((x, y), 1) # concatenate in columns\n",
    "        z = F.leaky_relu(self.fc1(z))\n",
    "        z = F.dropout(z, training=self.training) #以默认为0.5的概率对这一层进行dropout操作\n",
    "        z = F.leaky_relu(self.fc2(z))\n",
    "        z = self.bn1d(z) #批量正则化\n",
    "        z = F.leaky_relu(self.fc3(z))\n",
    "        \n",
    "        return z\n",
    "\n",
    "# 计算准确度的函数（有多少数字给出了严格的正确输出结果）\n",
    "def rightness(y, target):\n",
    "    out = torch.round(y.view(-1)).type(torch.LongTensor)\n",
    "    out = out.eq(target).sum()\n",
    "    out1 = y.size()[0]\n",
    "    return(out, out1)\n"
   ]
  },
  {
   "cell_type": "code",
   "execution_count": 106,
   "metadata": {
    "collapsed": true
   },
   "outputs": [],
   "source": [
    "#将网络定义为一个预测器，来对加法的结果进行预测，因此用MSE平均平房误差作为我们的损失函数\n",
    "net = MINSTAdder()\n",
    "criterion = nn.MSELoss() #nn.CrossEntropyLoss() #\n",
    "optimizer = optim.Adam(net.parameters()) #SGD(net.parameters(), lr = 0.0001, momentum = 0.9)\n",
    "results = {}"
   ]
  },
  {
   "cell_type": "code",
   "execution_count": 107,
   "metadata": {
    "scrolled": true
   },
   "outputs": [
    {
     "name": "stdout",
     "output_type": "stream",
     "text": [
      "第0周期，第(0/938)个撮，训练误差：88.24, 校验误差：95.14, 准确率：0.01\n",
      "第0周期，第(100/938)个撮，训练误差：50.82, 校验误差：15.90, 准确率：0.09\n",
      "第0周期，第(200/938)个撮，训练误差：32.37, 校验误差：9.51, 准确率：0.12\n",
      "第0周期，第(300/938)个撮，训练误差：24.22, 校验误差：7.32, 准确率：0.14\n",
      "第0周期，第(400/938)个撮，训练误差：19.85, 校验误差：6.31, 准确率：0.19\n",
      "第0周期，第(500/938)个撮，训练误差：16.96, 校验误差：3.37, 准确率：0.26\n",
      "第0周期，第(600/938)个撮，训练误差：14.82, 校验误差：3.43, 准确率：0.26\n",
      "第0周期，第(700/938)个撮，训练误差：13.26, 校验误差：2.71, 准确率：0.30\n",
      "第0周期，第(800/938)个撮，训练误差：12.04, 校验误差：3.09, 准确率：0.27\n",
      "第0周期，第(900/938)个撮，训练误差：11.04, 校验误差：2.30, 准确率：0.32\n",
      "第1周期，第(0/938)个撮，训练误差：2.54, 校验误差：10.61, 准确率：0.06\n",
      "第1周期，第(100/938)个撮，训练误差：3.17, 校验误差：2.61, 准确率：0.30\n",
      "第1周期，第(200/938)个撮，训练误差：2.94, 校验误差：2.13, 准确率：0.34\n",
      "第1周期，第(300/938)个撮，训练误差：2.77, 校验误差：2.48, 准确率：0.29\n",
      "第1周期，第(400/938)个撮，训练误差：2.68, 校验误差：2.25, 准确率：0.30\n",
      "第1周期，第(500/938)个撮，训练误差：2.58, 校验误差：1.78, 准确率：0.34\n",
      "第1周期，第(600/938)个撮，训练误差：2.48, 校验误差：1.68, 准确率：0.39\n",
      "第1周期，第(700/938)个撮，训练误差：2.42, 校验误差：1.51, 准确率：0.40\n",
      "第1周期，第(800/938)个撮，训练误差：2.34, 校验误差：1.54, 准确率：0.42\n",
      "第1周期，第(900/938)个撮，训练误差：2.28, 校验误差：1.50, 准确率：0.38\n",
      "第2周期，第(0/938)个撮，训练误差：1.34, 校验误差：1.62, 准确率：0.40\n",
      "第2周期，第(100/938)个撮，训练误差：1.57, 校验误差：1.50, 准确率：0.42\n",
      "第2周期，第(200/938)个撮，训练误差：1.53, 校验误差：1.34, 准确率：0.40\n",
      "第2周期，第(300/938)个撮，训练误差：1.49, 校验误差：1.32, 准确率：0.44\n",
      "第2周期，第(400/938)个撮，训练误差：1.47, 校验误差：1.23, 准确率：0.44\n",
      "第2周期，第(500/938)个撮，训练误差：1.47, 校验误差：1.36, 准确率：0.40\n",
      "第2周期，第(600/938)个撮，训练误差：1.47, 校验误差：1.14, 准确率：0.44\n",
      "第2周期，第(700/938)个撮，训练误差：1.43, 校验误差：1.02, 准确率：0.52\n",
      "第2周期，第(800/938)个撮，训练误差：1.42, 校验误差：1.33, 准确率：0.46\n",
      "第2周期，第(900/938)个撮，训练误差：1.40, 校验误差：1.09, 准确率：0.54\n",
      "第3周期，第(0/938)个撮，训练误差：1.73, 校验误差：1.01, 准确率：0.52\n",
      "第3周期，第(100/938)个撮，训练误差：1.16, 校验误差：1.01, 准确率：0.50\n",
      "第3周期，第(200/938)个撮，训练误差：1.12, 校验误差：0.92, 准确率：0.56\n",
      "第3周期，第(300/938)个撮，训练误差：1.13, 校验误差：0.97, 准确率：0.54\n",
      "第3周期，第(400/938)个撮，训练误差：1.12, 校验误差：0.86, 准确率：0.59\n",
      "第3周期，第(500/938)个撮，训练误差：1.11, 校验误差：0.81, 准确率：0.62\n",
      "第3周期，第(600/938)个撮，训练误差：1.10, 校验误差：0.82, 准确率：0.60\n",
      "第3周期，第(700/938)个撮，训练误差：1.10, 校验误差：0.79, 准确率：0.64\n",
      "第3周期，第(800/938)个撮，训练误差：1.09, 校验误差：0.80, 准确率：0.60\n",
      "第3周期，第(900/938)个撮，训练误差：1.07, 校验误差：0.74, 准确率：0.65\n",
      "第4周期，第(0/938)个撮，训练误差：1.39, 校验误差：0.86, 准确率：0.58\n",
      "第4周期，第(100/938)个撮，训练误差：0.94, 校验误差：0.73, 准确率：0.66\n",
      "第4周期，第(200/938)个撮，训练误差：0.93, 校验误差：0.85, 准确率：0.63\n",
      "第4周期，第(300/938)个撮，训练误差：0.94, 校验误差：0.74, 准确率：0.65\n",
      "第4周期，第(400/938)个撮，训练误差：0.91, 校验误差：0.81, 准确率：0.56\n",
      "第4周期，第(500/938)个撮，训练误差：0.92, 校验误差：0.61, 准确率：0.70\n",
      "第4周期，第(600/938)个撮，训练误差：0.91, 校验误差：0.63, 准确率：0.71\n",
      "第4周期，第(700/938)个撮，训练误差：0.90, 校验误差：0.66, 准确率：0.69\n",
      "第4周期，第(800/938)个撮，训练误差：0.89, 校验误差：0.67, 准确率：0.67\n",
      "第4周期，第(900/938)个撮，训练误差：0.88, 校验误差：0.63, 准确率：0.71\n",
      "第5周期，第(0/938)个撮，训练误差：1.50, 校验误差：0.68, 准确率：0.74\n",
      "第5周期，第(100/938)个撮，训练误差：0.77, 校验误差：0.52, 准确率：0.76\n",
      "第5周期，第(200/938)个撮，训练误差：0.73, 校验误差：0.62, 准确率：0.74\n",
      "第5周期，第(300/938)个撮，训练误差：0.73, 校验误差：0.54, 准确率：0.74\n",
      "第5周期，第(400/938)个撮，训练误差：0.71, 校验误差：0.53, 准确率：0.77\n",
      "第5周期，第(500/938)个撮，训练误差：0.70, 校验误差：0.60, 准确率：0.75\n",
      "第5周期，第(600/938)个撮，训练误差：0.71, 校验误差：0.56, 准确率：0.79\n",
      "第5周期，第(700/938)个撮，训练误差：0.71, 校验误差：0.64, 准确率：0.78\n",
      "第5周期，第(800/938)个撮，训练误差：0.72, 校验误差：0.61, 准确率：0.75\n",
      "第5周期，第(900/938)个撮，训练误差：0.73, 校验误差：0.62, 准确率：0.76\n",
      "第6周期，第(0/938)个撮，训练误差：0.44, 校验误差：0.51, 准确率：0.81\n",
      "第6周期，第(100/938)个撮，训练误差：0.65, 校验误差：0.53, 准确率：0.80\n",
      "第6周期，第(200/938)个撮，训练误差：0.64, 校验误差：0.59, 准确率：0.76\n",
      "第6周期，第(300/938)个撮，训练误差：0.65, 校验误差：0.48, 准确率：0.80\n",
      "第6周期，第(400/938)个撮，训练误差：0.64, 校验误差：0.51, 准确率：0.81\n",
      "第6周期，第(500/938)个撮，训练误差：0.63, 校验误差：0.54, 准确率：0.79\n",
      "第6周期，第(600/938)个撮，训练误差：0.63, 校验误差：0.51, 准确率：0.82\n"
     ]
    },
    {
     "ename": "KeyboardInterrupt",
     "evalue": "",
     "output_type": "error",
     "traceback": [
      "\u001b[0;31m---------------------------------------------------------------------------\u001b[0m",
      "\u001b[0;31mKeyboardInterrupt\u001b[0m                         Traceback (most recent call last)",
      "\u001b[0;32m<ipython-input-107-8d0ee1c1e94f>\u001b[0m in \u001b[0;36m<module>\u001b[0;34m()\u001b[0m\n\u001b[1;32m     11\u001b[0m         \u001b[0moptimizer\u001b[0m\u001b[0;34m.\u001b[0m\u001b[0mzero_grad\u001b[0m\u001b[0;34m(\u001b[0m\u001b[0;34m)\u001b[0m\u001b[0;34m\u001b[0m\u001b[0m\n\u001b[1;32m     12\u001b[0m         \u001b[0mnet\u001b[0m\u001b[0;34m.\u001b[0m\u001b[0mtrain\u001b[0m\u001b[0;34m(\u001b[0m\u001b[0;34m)\u001b[0m\u001b[0;34m\u001b[0m\u001b[0m\n\u001b[0;32m---> 13\u001b[0;31m         \u001b[0moutputs\u001b[0m \u001b[0;34m=\u001b[0m \u001b[0mnet\u001b[0m\u001b[0;34m(\u001b[0m\u001b[0mVariable\u001b[0m\u001b[0;34m(\u001b[0m\u001b[0mx1\u001b[0m\u001b[0;34m)\u001b[0m\u001b[0;34m,\u001b[0m \u001b[0mVariable\u001b[0m\u001b[0;34m(\u001b[0m\u001b[0mx2\u001b[0m\u001b[0;34m)\u001b[0m\u001b[0;34m)\u001b[0m\u001b[0;34m\u001b[0m\u001b[0m\n\u001b[0m\u001b[1;32m     14\u001b[0m         \u001b[0mlabels\u001b[0m \u001b[0;34m=\u001b[0m \u001b[0my1\u001b[0m \u001b[0;34m+\u001b[0m \u001b[0my2\u001b[0m\u001b[0;34m\u001b[0m\u001b[0m\n\u001b[1;32m     15\u001b[0m \u001b[0;31m#         if 0==idx:\u001b[0m\u001b[0;34m\u001b[0m\u001b[0;34m\u001b[0m\u001b[0m\n",
      "\u001b[0;32m~/Location/anaconda3/envs/py3/lib/python3.6/site-packages/torch/nn/modules/module.py\u001b[0m in \u001b[0;36m__call__\u001b[0;34m(self, *input, **kwargs)\u001b[0m\n\u001b[1;32m    222\u001b[0m         \u001b[0;32mfor\u001b[0m \u001b[0mhook\u001b[0m \u001b[0;32min\u001b[0m \u001b[0mself\u001b[0m\u001b[0;34m.\u001b[0m\u001b[0m_forward_pre_hooks\u001b[0m\u001b[0;34m.\u001b[0m\u001b[0mvalues\u001b[0m\u001b[0;34m(\u001b[0m\u001b[0;34m)\u001b[0m\u001b[0;34m:\u001b[0m\u001b[0;34m\u001b[0m\u001b[0m\n\u001b[1;32m    223\u001b[0m             \u001b[0mhook\u001b[0m\u001b[0;34m(\u001b[0m\u001b[0mself\u001b[0m\u001b[0;34m,\u001b[0m \u001b[0minput\u001b[0m\u001b[0;34m)\u001b[0m\u001b[0;34m\u001b[0m\u001b[0m\n\u001b[0;32m--> 224\u001b[0;31m         \u001b[0mresult\u001b[0m \u001b[0;34m=\u001b[0m \u001b[0mself\u001b[0m\u001b[0;34m.\u001b[0m\u001b[0mforward\u001b[0m\u001b[0;34m(\u001b[0m\u001b[0;34m*\u001b[0m\u001b[0minput\u001b[0m\u001b[0;34m,\u001b[0m \u001b[0;34m**\u001b[0m\u001b[0mkwargs\u001b[0m\u001b[0;34m)\u001b[0m\u001b[0;34m\u001b[0m\u001b[0m\n\u001b[0m\u001b[1;32m    225\u001b[0m         \u001b[0;32mfor\u001b[0m \u001b[0mhook\u001b[0m \u001b[0;32min\u001b[0m \u001b[0mself\u001b[0m\u001b[0;34m.\u001b[0m\u001b[0m_forward_hooks\u001b[0m\u001b[0;34m.\u001b[0m\u001b[0mvalues\u001b[0m\u001b[0;34m(\u001b[0m\u001b[0;34m)\u001b[0m\u001b[0;34m:\u001b[0m\u001b[0;34m\u001b[0m\u001b[0m\n\u001b[1;32m    226\u001b[0m             \u001b[0mhook_result\u001b[0m \u001b[0;34m=\u001b[0m \u001b[0mhook\u001b[0m\u001b[0;34m(\u001b[0m\u001b[0mself\u001b[0m\u001b[0;34m,\u001b[0m \u001b[0minput\u001b[0m\u001b[0;34m,\u001b[0m \u001b[0mresult\u001b[0m\u001b[0;34m)\u001b[0m\u001b[0;34m\u001b[0m\u001b[0m\n",
      "\u001b[0;32m<ipython-input-105-92cfbb01419c>\u001b[0m in \u001b[0;36mforward\u001b[0;34m(self, x, y, training)\u001b[0m\n\u001b[1;32m     45\u001b[0m         \u001b[0;31m#将前两部处理得到的张量并列到一起，喂给两层全链接前馈网络，最后输出预测数值\u001b[0m\u001b[0;34m\u001b[0m\u001b[0;34m\u001b[0m\u001b[0m\n\u001b[1;32m     46\u001b[0m         \u001b[0mz\u001b[0m \u001b[0;34m=\u001b[0m \u001b[0mtorch\u001b[0m\u001b[0;34m.\u001b[0m\u001b[0mcat\u001b[0m\u001b[0;34m(\u001b[0m\u001b[0;34m(\u001b[0m\u001b[0mx\u001b[0m\u001b[0;34m,\u001b[0m \u001b[0my\u001b[0m\u001b[0;34m)\u001b[0m\u001b[0;34m,\u001b[0m \u001b[0;36m1\u001b[0m\u001b[0;34m)\u001b[0m \u001b[0;31m# concatenate in columns\u001b[0m\u001b[0;34m\u001b[0m\u001b[0m\n\u001b[0;32m---> 47\u001b[0;31m         \u001b[0mz\u001b[0m \u001b[0;34m=\u001b[0m \u001b[0mF\u001b[0m\u001b[0;34m.\u001b[0m\u001b[0mleaky_relu\u001b[0m\u001b[0;34m(\u001b[0m\u001b[0mself\u001b[0m\u001b[0;34m.\u001b[0m\u001b[0mfc1\u001b[0m\u001b[0;34m(\u001b[0m\u001b[0mz\u001b[0m\u001b[0;34m)\u001b[0m\u001b[0;34m)\u001b[0m\u001b[0;34m\u001b[0m\u001b[0m\n\u001b[0m\u001b[1;32m     48\u001b[0m         \u001b[0mz\u001b[0m \u001b[0;34m=\u001b[0m \u001b[0mF\u001b[0m\u001b[0;34m.\u001b[0m\u001b[0mdropout\u001b[0m\u001b[0;34m(\u001b[0m\u001b[0mz\u001b[0m\u001b[0;34m,\u001b[0m \u001b[0mtraining\u001b[0m\u001b[0;34m=\u001b[0m\u001b[0mself\u001b[0m\u001b[0;34m.\u001b[0m\u001b[0mtraining\u001b[0m\u001b[0;34m)\u001b[0m \u001b[0;31m#以默认为0.5的概率对这一层进行dropout操作\u001b[0m\u001b[0;34m\u001b[0m\u001b[0m\n\u001b[1;32m     49\u001b[0m         \u001b[0mz\u001b[0m \u001b[0;34m=\u001b[0m \u001b[0mF\u001b[0m\u001b[0;34m.\u001b[0m\u001b[0mleaky_relu\u001b[0m\u001b[0;34m(\u001b[0m\u001b[0mself\u001b[0m\u001b[0;34m.\u001b[0m\u001b[0mfc2\u001b[0m\u001b[0;34m(\u001b[0m\u001b[0mz\u001b[0m\u001b[0;34m)\u001b[0m\u001b[0;34m)\u001b[0m\u001b[0;34m\u001b[0m\u001b[0m\n",
      "\u001b[0;32m~/Location/anaconda3/envs/py3/lib/python3.6/site-packages/torch/nn/modules/module.py\u001b[0m in \u001b[0;36m__call__\u001b[0;34m(self, *input, **kwargs)\u001b[0m\n\u001b[1;32m    222\u001b[0m         \u001b[0;32mfor\u001b[0m \u001b[0mhook\u001b[0m \u001b[0;32min\u001b[0m \u001b[0mself\u001b[0m\u001b[0;34m.\u001b[0m\u001b[0m_forward_pre_hooks\u001b[0m\u001b[0;34m.\u001b[0m\u001b[0mvalues\u001b[0m\u001b[0;34m(\u001b[0m\u001b[0;34m)\u001b[0m\u001b[0;34m:\u001b[0m\u001b[0;34m\u001b[0m\u001b[0m\n\u001b[1;32m    223\u001b[0m             \u001b[0mhook\u001b[0m\u001b[0;34m(\u001b[0m\u001b[0mself\u001b[0m\u001b[0;34m,\u001b[0m \u001b[0minput\u001b[0m\u001b[0;34m)\u001b[0m\u001b[0;34m\u001b[0m\u001b[0m\n\u001b[0;32m--> 224\u001b[0;31m         \u001b[0mresult\u001b[0m \u001b[0;34m=\u001b[0m \u001b[0mself\u001b[0m\u001b[0;34m.\u001b[0m\u001b[0mforward\u001b[0m\u001b[0;34m(\u001b[0m\u001b[0;34m*\u001b[0m\u001b[0minput\u001b[0m\u001b[0;34m,\u001b[0m \u001b[0;34m**\u001b[0m\u001b[0mkwargs\u001b[0m\u001b[0;34m)\u001b[0m\u001b[0;34m\u001b[0m\u001b[0m\n\u001b[0m\u001b[1;32m    225\u001b[0m         \u001b[0;32mfor\u001b[0m \u001b[0mhook\u001b[0m \u001b[0;32min\u001b[0m \u001b[0mself\u001b[0m\u001b[0;34m.\u001b[0m\u001b[0m_forward_hooks\u001b[0m\u001b[0;34m.\u001b[0m\u001b[0mvalues\u001b[0m\u001b[0;34m(\u001b[0m\u001b[0;34m)\u001b[0m\u001b[0;34m:\u001b[0m\u001b[0;34m\u001b[0m\u001b[0m\n\u001b[1;32m    226\u001b[0m             \u001b[0mhook_result\u001b[0m \u001b[0;34m=\u001b[0m \u001b[0mhook\u001b[0m\u001b[0;34m(\u001b[0m\u001b[0mself\u001b[0m\u001b[0;34m,\u001b[0m \u001b[0minput\u001b[0m\u001b[0;34m,\u001b[0m \u001b[0mresult\u001b[0m\u001b[0;34m)\u001b[0m\u001b[0;34m\u001b[0m\u001b[0m\n",
      "\u001b[0;32m~/Location/anaconda3/envs/py3/lib/python3.6/site-packages/torch/nn/modules/linear.py\u001b[0m in \u001b[0;36mforward\u001b[0;34m(self, input)\u001b[0m\n\u001b[1;32m     51\u001b[0m \u001b[0;34m\u001b[0m\u001b[0m\n\u001b[1;32m     52\u001b[0m     \u001b[0;32mdef\u001b[0m \u001b[0mforward\u001b[0m\u001b[0;34m(\u001b[0m\u001b[0mself\u001b[0m\u001b[0;34m,\u001b[0m \u001b[0minput\u001b[0m\u001b[0;34m)\u001b[0m\u001b[0;34m:\u001b[0m\u001b[0;34m\u001b[0m\u001b[0m\n\u001b[0;32m---> 53\u001b[0;31m         \u001b[0;32mreturn\u001b[0m \u001b[0mF\u001b[0m\u001b[0;34m.\u001b[0m\u001b[0mlinear\u001b[0m\u001b[0;34m(\u001b[0m\u001b[0minput\u001b[0m\u001b[0;34m,\u001b[0m \u001b[0mself\u001b[0m\u001b[0;34m.\u001b[0m\u001b[0mweight\u001b[0m\u001b[0;34m,\u001b[0m \u001b[0mself\u001b[0m\u001b[0;34m.\u001b[0m\u001b[0mbias\u001b[0m\u001b[0;34m)\u001b[0m\u001b[0;34m\u001b[0m\u001b[0m\n\u001b[0m\u001b[1;32m     54\u001b[0m \u001b[0;34m\u001b[0m\u001b[0m\n\u001b[1;32m     55\u001b[0m     \u001b[0;32mdef\u001b[0m \u001b[0m__repr__\u001b[0m\u001b[0;34m(\u001b[0m\u001b[0mself\u001b[0m\u001b[0;34m)\u001b[0m\u001b[0;34m:\u001b[0m\u001b[0;34m\u001b[0m\u001b[0m\n",
      "\u001b[0;32m~/Location/anaconda3/envs/py3/lib/python3.6/site-packages/torch/nn/functional.py\u001b[0m in \u001b[0;36mlinear\u001b[0;34m(input, weight, bias)\u001b[0m\n\u001b[1;32m    551\u001b[0m     \u001b[0;32mif\u001b[0m \u001b[0minput\u001b[0m\u001b[0;34m.\u001b[0m\u001b[0mdim\u001b[0m\u001b[0;34m(\u001b[0m\u001b[0;34m)\u001b[0m \u001b[0;34m==\u001b[0m \u001b[0;36m2\u001b[0m \u001b[0;32mand\u001b[0m \u001b[0mbias\u001b[0m \u001b[0;32mis\u001b[0m \u001b[0;32mnot\u001b[0m \u001b[0;32mNone\u001b[0m\u001b[0;34m:\u001b[0m\u001b[0;34m\u001b[0m\u001b[0m\n\u001b[1;32m    552\u001b[0m         \u001b[0;31m# fused op is marginally faster\u001b[0m\u001b[0;34m\u001b[0m\u001b[0;34m\u001b[0m\u001b[0m\n\u001b[0;32m--> 553\u001b[0;31m         \u001b[0;32mreturn\u001b[0m \u001b[0mtorch\u001b[0m\u001b[0;34m.\u001b[0m\u001b[0maddmm\u001b[0m\u001b[0;34m(\u001b[0m\u001b[0mbias\u001b[0m\u001b[0;34m,\u001b[0m \u001b[0minput\u001b[0m\u001b[0;34m,\u001b[0m \u001b[0mweight\u001b[0m\u001b[0;34m.\u001b[0m\u001b[0mt\u001b[0m\u001b[0;34m(\u001b[0m\u001b[0;34m)\u001b[0m\u001b[0;34m)\u001b[0m\u001b[0;34m\u001b[0m\u001b[0m\n\u001b[0m\u001b[1;32m    554\u001b[0m \u001b[0;34m\u001b[0m\u001b[0m\n\u001b[1;32m    555\u001b[0m     \u001b[0moutput\u001b[0m \u001b[0;34m=\u001b[0m \u001b[0minput\u001b[0m\u001b[0;34m.\u001b[0m\u001b[0mmatmul\u001b[0m\u001b[0;34m(\u001b[0m\u001b[0mweight\u001b[0m\u001b[0;34m.\u001b[0m\u001b[0mt\u001b[0m\u001b[0;34m(\u001b[0m\u001b[0;34m)\u001b[0m\u001b[0;34m)\u001b[0m\u001b[0;34m\u001b[0m\u001b[0m\n",
      "\u001b[0;32m~/Location/anaconda3/envs/py3/lib/python3.6/site-packages/torch/autograd/variable.py\u001b[0m in \u001b[0;36maddmm\u001b[0;34m(cls, *args)\u001b[0m\n\u001b[1;32m    922\u001b[0m         \u001b[0;34m@\u001b[0m\u001b[0mclassmethod\u001b[0m\u001b[0;34m\u001b[0m\u001b[0m\n\u001b[1;32m    923\u001b[0m         \u001b[0;32mdef\u001b[0m \u001b[0maddmm\u001b[0m\u001b[0;34m(\u001b[0m\u001b[0mcls\u001b[0m\u001b[0;34m,\u001b[0m \u001b[0;34m*\u001b[0m\u001b[0margs\u001b[0m\u001b[0;34m)\u001b[0m\u001b[0;34m:\u001b[0m\u001b[0;34m\u001b[0m\u001b[0m\n\u001b[0;32m--> 924\u001b[0;31m             \u001b[0;32mreturn\u001b[0m \u001b[0mcls\u001b[0m\u001b[0;34m.\u001b[0m\u001b[0m_blas\u001b[0m\u001b[0;34m(\u001b[0m\u001b[0mAddmm\u001b[0m\u001b[0;34m,\u001b[0m \u001b[0margs\u001b[0m\u001b[0;34m,\u001b[0m \u001b[0;32mFalse\u001b[0m\u001b[0;34m)\u001b[0m\u001b[0;34m\u001b[0m\u001b[0m\n\u001b[0m\u001b[1;32m    925\u001b[0m \u001b[0;34m\u001b[0m\u001b[0m\n\u001b[1;32m    926\u001b[0m         \u001b[0;34m@\u001b[0m\u001b[0mclassmethod\u001b[0m\u001b[0;34m\u001b[0m\u001b[0m\n",
      "\u001b[0;32m~/Location/anaconda3/envs/py3/lib/python3.6/site-packages/torch/autograd/variable.py\u001b[0m in \u001b[0;36m_blas\u001b[0;34m(cls, args, inplace)\u001b[0m\n\u001b[1;32m    918\u001b[0m             \u001b[0;32melse\u001b[0m\u001b[0;34m:\u001b[0m\u001b[0;34m\u001b[0m\u001b[0m\n\u001b[1;32m    919\u001b[0m                 \u001b[0mtensors\u001b[0m \u001b[0;34m=\u001b[0m \u001b[0margs\u001b[0m\u001b[0;34m\u001b[0m\u001b[0m\n\u001b[0;32m--> 920\u001b[0;31m             \u001b[0;32mreturn\u001b[0m \u001b[0mcls\u001b[0m\u001b[0;34m.\u001b[0m\u001b[0mapply\u001b[0m\u001b[0;34m(\u001b[0m\u001b[0;34m*\u001b[0m\u001b[0;34m(\u001b[0m\u001b[0mtensors\u001b[0m \u001b[0;34m+\u001b[0m \u001b[0;34m(\u001b[0m\u001b[0malpha\u001b[0m\u001b[0;34m,\u001b[0m \u001b[0mbeta\u001b[0m\u001b[0;34m,\u001b[0m \u001b[0minplace\u001b[0m\u001b[0;34m)\u001b[0m\u001b[0;34m)\u001b[0m\u001b[0;34m)\u001b[0m\u001b[0;34m\u001b[0m\u001b[0m\n\u001b[0m\u001b[1;32m    921\u001b[0m \u001b[0;34m\u001b[0m\u001b[0m\n\u001b[1;32m    922\u001b[0m         \u001b[0;34m@\u001b[0m\u001b[0mclassmethod\u001b[0m\u001b[0;34m\u001b[0m\u001b[0m\n",
      "\u001b[0;32m~/Location/anaconda3/envs/py3/lib/python3.6/site-packages/torch/autograd/_functions/blas.py\u001b[0m in \u001b[0;36mforward\u001b[0;34m(ctx, add_matrix, matrix1, matrix2, alpha, beta, inplace)\u001b[0m\n\u001b[1;32m     24\u001b[0m         \u001b[0moutput\u001b[0m \u001b[0;34m=\u001b[0m \u001b[0m_get_output\u001b[0m\u001b[0;34m(\u001b[0m\u001b[0mctx\u001b[0m\u001b[0;34m,\u001b[0m \u001b[0madd_matrix\u001b[0m\u001b[0;34m,\u001b[0m \u001b[0minplace\u001b[0m\u001b[0;34m=\u001b[0m\u001b[0minplace\u001b[0m\u001b[0;34m)\u001b[0m\u001b[0;34m\u001b[0m\u001b[0m\n\u001b[1;32m     25\u001b[0m         return torch.addmm(alpha, add_matrix, beta,\n\u001b[0;32m---> 26\u001b[0;31m                            matrix1, matrix2, out=output)\n\u001b[0m\u001b[1;32m     27\u001b[0m \u001b[0;34m\u001b[0m\u001b[0m\n\u001b[1;32m     28\u001b[0m     \u001b[0;34m@\u001b[0m\u001b[0mstaticmethod\u001b[0m\u001b[0;34m\u001b[0m\u001b[0m\n",
      "\u001b[0;31mKeyboardInterrupt\u001b[0m: "
     ]
    }
   ],
   "source": [
    "stranges = []\n",
    "\n",
    "#开始训练循环，本部分代码需要补齐\n",
    "num_epochs = 20\n",
    "records = []\n",
    "for epoch in range(num_epochs):\n",
    "    losses = []\n",
    "    # 一个关键技术难点是对两个数据加载器进行读取成对儿的数据。我们的办法是通过zip命令，将loader1和2并列在一起，一对一对的读取数据\n",
    "    for idx, data in enumerate(zip(train_loader1, train_loader2)):\n",
    "        ((x1, y1), (x2, y2)) = data\n",
    "        optimizer.zero_grad()\n",
    "        net.train()\n",
    "        outputs = net(Variable(x1), Variable(x2))\n",
    "        labels = y1 + y2\n",
    "#         if 0==idx:\n",
    "#             break\n",
    "        loss = criterion(outputs.type(torch.FloatTensor), Variable(labels.type(torch.FloatTensor)))\n",
    "        loss.backward()\n",
    "        optimizer.step()\n",
    "        # update losses\n",
    "        losses.append(loss.data.numpy())\n",
    "        \n",
    "        if idx % 100 == 0:\n",
    "            net.eval()\n",
    "            val_losses = []\n",
    "            val_right_all = []\n",
    "#             size_right, size_all = [], []\n",
    "            for jdx, data_val in enumerate(zip(val_loader1, val_loader2)):\n",
    "                ((xx1, yy1), (xx2, yy2)) = data_val\n",
    "                v_outputs = net(Variable(xx1), Variable(xx2)) \n",
    "                v_labels = yy1 + yy2\n",
    "                v_loss = criterion(v_outputs.type(torch.FloatTensor), Variable(v_labels.type(torch.FloatTensor)))\n",
    "                # add val_loss, val_rights\n",
    "                val_losses.append(v_loss.data.numpy())\n",
    "                val_right_all.append(rightness(v_outputs.data, v_labels))\n",
    "#                 aa,bb = rightness(v_outputs.data, v_labels)\n",
    "#                 if aa > bb:\n",
    "#                     stranges.append((data_val, v_outputs, aa, bb))\n",
    "#                     break\n",
    "#                 print(v_outputs.data.shape, v_labels.shape, rightness(v_outputs.data, v_labels))\n",
    "                \n",
    "            right_ratio = np.sum([rr for rr,aa in val_right_all]) / float(np.sum([aa for rr,aa in val_right_all]))\n",
    "            #每间隔一定周期就打印一下训练集、校验集的准确率结果\n",
    "            print('第{}周期，第({}/{})个撮，训练误差：{:.2f}, 校验误差：{:.2f}, 准确率：{:.2f}'.format(\n",
    "                epoch, idx, len(train_loader1),\n",
    "                np.mean(losses), np.mean(val_losses), right_ratio))\n",
    "            records.append([np.mean(losses), np.mean(val_losses), right_ratio])\n"
   ]
  },
  {
   "cell_type": "code",
   "execution_count": 113,
   "metadata": {
    "scrolled": true
   },
   "outputs": [
    {
     "data": {
      "text/plain": [
       "[[88.239807, 95.137733, 0.0077999999999999996],\n",
       " [50.824718, 15.903081, 0.091800000000000007],\n",
       " [32.365791, 9.5143566, 0.124],\n",
       " [24.224188, 7.3175349, 0.14380000000000001],\n",
       " [19.852066, 6.3121114, 0.18559999999999999],\n",
       " [16.962133, 3.3652811, 0.25600000000000001],\n",
       " [14.815106, 3.4299676, 0.25619999999999998],\n",
       " [13.260852, 2.7120414, 0.29959999999999998],\n",
       " [12.043813, 3.0944469, 0.26640000000000003],\n",
       " [11.037914, 2.3001297, 0.32219999999999999],\n",
       " [2.5429177, 10.610318, 0.062],\n",
       " [3.1730094, 2.6071379, 0.29899999999999999],\n",
       " [2.9370244, 2.1331131, 0.34239999999999998],\n",
       " [2.7724783, 2.4785874, 0.29399999999999998],\n",
       " [2.6750629, 2.2527244, 0.30199999999999999],\n",
       " [2.5811553, 1.7762703, 0.33800000000000002],\n",
       " [2.4838691, 1.6803465, 0.38519999999999999],\n",
       " [2.4160404, 1.5079422, 0.4002],\n",
       " [2.3368537, 1.5398281, 0.42320000000000002],\n",
       " [2.2774165, 1.4972588, 0.37980000000000003],\n",
       " [1.3433706, 1.618538, 0.39739999999999998],\n",
       " [1.5665838, 1.5023444, 0.41560000000000002],\n",
       " [1.5326585, 1.3406438, 0.40179999999999999],\n",
       " [1.4925147, 1.3168161, 0.43659999999999999],\n",
       " [1.4731777, 1.2302086, 0.44440000000000002],\n",
       " [1.4715289, 1.3556923, 0.39979999999999999],\n",
       " [1.4680511, 1.1418945, 0.43640000000000001],\n",
       " [1.4349409, 1.0231087, 0.52300000000000002],\n",
       " [1.4181914, 1.3291987, 0.46239999999999998],\n",
       " [1.3962835, 1.0884681, 0.54079999999999995],\n",
       " [1.7259561, 1.0127735, 0.51680000000000004],\n",
       " [1.1638548, 1.0127368, 0.497],\n",
       " [1.1191899, 0.92445791, 0.55559999999999998],\n",
       " [1.1310503, 0.97188663, 0.54400000000000004],\n",
       " [1.122138, 0.85644621, 0.59340000000000004],\n",
       " [1.1123823, 0.80551952, 0.61519999999999997],\n",
       " [1.0975044, 0.82025957, 0.59760000000000002],\n",
       " [1.0953223, 0.79268503, 0.63759999999999994],\n",
       " [1.0870336, 0.79737002, 0.59940000000000004],\n",
       " [1.0724599, 0.74416345, 0.6452],\n",
       " [1.3882003, 0.855003, 0.57679999999999998],\n",
       " [0.9417063, 0.72544122, 0.66020000000000001],\n",
       " [0.92904329, 0.85269636, 0.63319999999999999],\n",
       " [0.94024503, 0.74447304, 0.6462],\n",
       " [0.91499978, 0.81089646, 0.56479999999999997],\n",
       " [0.92187053, 0.60939807, 0.69940000000000002],\n",
       " [0.90967447, 0.63238752, 0.71040000000000003],\n",
       " [0.9025898, 0.65606749, 0.68740000000000001],\n",
       " [0.89303547, 0.66557246, 0.66639999999999999],\n",
       " [0.87789696, 0.63251704, 0.70879999999999999],\n",
       " [1.5028942, 0.6817537, 0.73580000000000001],\n",
       " [0.77330357, 0.51756591, 0.76359999999999995],\n",
       " [0.73305088, 0.61964858, 0.74399999999999999],\n",
       " [0.73111194, 0.53905737, 0.73999999999999999],\n",
       " [0.71322769, 0.52768254, 0.76600000000000001],\n",
       " [0.70412195, 0.59938973, 0.75419999999999998],\n",
       " [0.71251291, 0.55890906, 0.78659999999999997],\n",
       " [0.70944566, 0.63756204, 0.77880000000000005],\n",
       " [0.72001338, 0.6141715, 0.75319999999999998],\n",
       " [0.72982794, 0.6150614, 0.76380000000000003],\n",
       " [0.4446806, 0.51393944, 0.80879999999999996],\n",
       " [0.64752764, 0.53249794, 0.79920000000000002],\n",
       " [0.63650781, 0.58962643, 0.75680000000000003],\n",
       " [0.65315497, 0.48362684, 0.79620000000000002],\n",
       " [0.63740826, 0.50747758, 0.80640000000000001],\n",
       " [0.63201964, 0.53539759, 0.78639999999999999],\n",
       " [0.63352144, 0.50669247, 0.82240000000000002]]"
      ]
     },
     "execution_count": 113,
     "metadata": {},
     "output_type": "execute_result"
    }
   ],
   "source": [
    "records"
   ]
  },
  {
   "cell_type": "code",
   "execution_count": 117,
   "metadata": {},
   "outputs": [
    {
     "data": {
      "image/png": "[encoded data removed]",
      "text/plain": [
       "<matplotlib.figure.Figure at 0x7f492c1c4828>"
      ]
     },
     "metadata": {},
     "output_type": "display_data"
    }
   ],
   "source": [
    "record_loss_train = [xx[0] for xx in records]\n",
    "record_loss_val = [xx[1] for xx in records]\n",
    "record_acc_val = [xx[2] for xx in records]\n",
    "\n",
    "plt.plot(np.arange(len(records))*100, record_loss_train, label='loss_train')\n",
    "plt.plot(np.arange(len(records))*100, record_loss_val, label='loss_validation')\n",
    "plt.xlabel('epoch')\n",
    "plt.ylabel('loss')\n",
    "plt.legend()\n",
    "plt.show()"
   ]
  },
  {
   "cell_type": "code",
   "execution_count": 118,
   "metadata": {},
   "outputs": [
    {
     "data": {
      "image/png": "[encoded data removed]",
      "text/plain": [
       "<matplotlib.figure.Figure at 0x7f492c626710>"
      ]
     },
     "metadata": {},
     "output_type": "display_data"
    }
   ],
   "source": [
    "plt.plot(np.arange(len(records))*100, record_acc_val, label='acc_validation')\n",
    "plt.xlabel('epoch')\n",
    "plt.ylabel('accuray(validation)')\n",
    "plt.legend()\n",
    "plt.show()"
   ]
  },
  {
   "cell_type": "code",
   "execution_count": 119,
   "metadata": {},
   "outputs": [
    {
     "data": {
      "image/png": "[encoded data removed]",
      "text/plain": [
       "<matplotlib.figure.Figure at 0x7f4927f015f8>"
      ]
     },
     "metadata": {},
     "output_type": "display_data"
    }
   ],
   "source": [
    "# 在测试集上运行我们的加法机网络，并测试预测准确度\n",
    "\n",
    "net.eval()\n",
    "\n",
    "eval_rights = []\n",
    "for kdx, data_test in enumerate(zip(test_loader1, test_loader2)):\n",
    "    ((xt1, yt1), (xt2, yt2)) = data_test\n",
    "    xt1, xt2 = Variable(xt1), Variable(xt2)\n",
    "    labelt = Variable(yt1+yt2)\n",
    "    output_t = net(xt1, xt2)\n",
    "    loss = criterion(output_t.type(torch.FloatTensor), labelt.type(torch.FloatTensor))\n",
    "    rr,aa=rightness(output_t.data, labelt.data)\n",
    "    eval_rights.append(rr/float(aa))\n",
    "    \n",
    "plt.plot(np.arange(len(eval_rights)), eval_rights)\n",
    "plt.show()"
   ]
  },
  {
   "cell_type": "code",
   "execution_count": null,
   "metadata": {
    "collapsed": true
   },
   "outputs": [],
   "source": []
  }
 ],
 "metadata": {
  "kernelspec": {
   "display_name": "Python 3",
   "language": "python",
   "name": "python3"
  },
  "language_info": {
   "codemirror_mode": {
    "name": "ipython",
    "version": 3
   },
   "file_extension": ".py",
   "mimetype": "text/x-python",
   "name": "python",
   "nbconvert_exporter": "python",
   "pygments_lexer": "ipython3",
   "version": "3.6.1"
  }
 },
 "nbformat": 4,
 "nbformat_minor": 2
}
