{
 "cells": [
  {
   "cell_type": "markdown",
   "metadata": {},
   "source": [
    "# 作业：手写数字加法机\n",
    "\n",
    "本文件是与集智AI学园出品的系列课程“火炬上的深度学习”配套的作业notebook。本作业要求学员构造一个卷积神经网，输入两张手写数字图片，输出这两个数字的和。\n",
    "\n",
    "本文件提供了一个完成做的大框架，学员需要自行修改、添加代码，从而完成任务\n",
    "\n",
    "本文件是集智AI学园http://campus.swarma.org 出品的“火炬上的深度学习”第III课的配套源代码\n"
   ]
  },
  {
   "cell_type": "code",
   "execution_count": 1,
   "metadata": {
    "collapsed": true
   },
   "outputs": [],
   "source": [
    "# 导入所需要的包，请保证torchvision已经在你的环境中安装好\n",
    "import torch\n",
    "import torch.nn as nn\n",
    "from torch.autograd import Variable\n",
    "import torch.optim as optim\n",
    "import torch.nn.functional as F\n",
    "\n",
    "import torchvision.datasets as dsets\n",
    "import torchvision.transforms as transforms\n",
    "\n",
    "import matplotlib.pyplot as plt\n",
    "import numpy as np\n",
    "\n",
    "%matplotlib inline"
   ]
  },
  {
   "cell_type": "code",
   "execution_count": 2,
   "metadata": {
    "collapsed": true
   },
   "outputs": [],
   "source": [
    "\n",
    "# 定义需要用到的超参数\n",
    "image_size = 28  #图像的总尺寸28*28\n",
    "num_classes = 10  #标签的种类数\n",
    "num_epochs = 20  #训练的总循环周期\n",
    "batch_size = 64\n",
    "\n",
    "# 加载MINIST数据，如果没有下载过，就会在当前路径下新建/data子目录，并把文件存放其中\n",
    "\n",
    "train_dataset = dsets.MNIST(root='./data',  #文件存放路径\n",
    "                            train=True,   #提取训练集\n",
    "                            transform=transforms.ToTensor(),  #将图像转化为Tensor\n",
    "                            download=True)\n",
    "\n",
    "test_dataset = dsets.MNIST(root='./data', \n",
    "                           train=False, \n",
    "                           transform=transforms.ToTensor())\n",
    "\n",
    "# 由于每一个样本需要输入两个图片，因此每一个loader和sampler都有两个\n",
    "\n",
    "sampler1 = torch.utils.data.sampler.SubsetRandomSampler(\n",
    "    np.random.permutation(range(len(train_dataset))))\n",
    "sampler2 = torch.utils.data.sampler.SubsetRandomSampler(\n",
    "    np.random.permutation(range(len(train_dataset))))\n",
    "\n",
    "# 训练数据的两个加载器\n",
    "train_loader1 = torch.utils.data.DataLoader(dataset = train_dataset,\n",
    "                                           batch_size = batch_size,\n",
    "                                           shuffle = False,\n",
    "                                           sampler = sampler1\n",
    "                                           )\n",
    "train_loader2 = torch.utils.data.DataLoader(dataset = train_dataset,\n",
    "                                           batch_size = batch_size,\n",
    "                                           shuffle = False,\n",
    "                                           sampler = sampler2\n",
    "                                           )\n",
    "\n",
    "# 校验数据和测试数据都各自有两套\n",
    "val_size = 5000\n",
    "val_indices1 = range(val_size)\n",
    "val_indices2 = np.random.permutation(range(val_size))\n",
    "test_indices1 = range(val_size, len(test_dataset))\n",
    "test_indices2 = np.random.permutation(test_indices1)\n",
    "val_sampler1 = torch.utils.data.sampler.SubsetRandomSampler(val_indices1)\n",
    "val_sampler2 = torch.utils.data.sampler.SubsetRandomSampler(val_indices2)\n",
    "\n",
    "test_sampler1 = torch.utils.data.sampler.SubsetRandomSampler(test_indices1)\n",
    "test_sampler2 = torch.utils.data.sampler.SubsetRandomSampler(test_indices2)\n",
    "\n",
    "val_loader1 = torch.utils.data.DataLoader(dataset = test_dataset,\n",
    "                                        batch_size = batch_size,\n",
    "                                        shuffle = False,\n",
    "                                        sampler = val_sampler1\n",
    "                                        )\n",
    "val_loader2 = torch.utils.data.DataLoader(dataset = test_dataset,\n",
    "                                        batch_size = batch_size,\n",
    "                                        shuffle = False,\n",
    "                                        sampler = val_sampler2\n",
    "                                        )\n",
    "test_loader1 = torch.utils.data.DataLoader(dataset = test_dataset,\n",
    "                                         batch_size = batch_size,\n",
    "                                         shuffle = False,\n",
    "                                         sampler = test_sampler1\n",
    "                                         )\n",
    "test_loader2 = torch.utils.data.DataLoader(dataset = test_dataset,\n",
    "                                         batch_size = batch_size,\n",
    "                                         shuffle = False,\n",
    "                                         sampler = test_sampler2\n",
    "                                         )"
   ]
  },
  {
   "cell_type": "markdown",
   "metadata": {},
   "source": [
    "# MINST Adder"
   ]
  },
  {
   "cell_type": "markdown",
   "metadata": {},
   "source": [
    "为了实现加法器，需要同时处理两个手写体数字图像，并对它进行相应的图像处理\n",
    "因此，网络的架构为两个卷积神经网络，串联上两个全链接层"
   ]
  },
  {
   "cell_type": "code",
   "execution_count": 4,
   "metadata": {
    "collapsed": true
   },
   "outputs": [],
   "source": [
    "class MathFNN(nn.Module):\n",
    "    def __init__(self, depth):\n",
    "        super(MathFNN, self).__init__()\n",
    "        self.depth = depth\n",
    "        self.layers = []\n",
    "        for idx,dep_this in enumerate(self.depth):\n",
    "            # if last layer\n",
    "            if idx + 1 == len(depth):\n",
    "                dep_next = depth[-1]\n",
    "            else:\n",
    "                dep_next = depth[idx+1]\n",
    "            # add this layer\n",
    "            this_layer = nn.Linear(in_features=dep_this, out_features=depth[dep_next])\n",
    "            self.layers.append(this_layer)\n",
    "    \n",
    "    def forward(self, x, training=True):\n",
    "        last_output = x\n",
    "        for i,_ in enumerate(self.depth):\n",
    "            last_output = self.layers[i](last_output)\n",
    "            \n",
    "        return last_output"
   ]
  },
  {
   "cell_type": "code",
   "execution_count": 6,
   "metadata": {
    "collapsed": true
   },
   "outputs": [],
   "source": [
    "class MINSTConv(nn.Module):\n",
    "    def __init__(self):\n",
    "        super(MINSTAdder, self).__init__()\n",
    "        self.depth = [16, 32, 64]\n",
    "        self.fc = [64, 10]\n",
    "        #公共网络部件\n",
    "        \n",
    "        self.net_pool = nn.MaxPool2d(kernel_size=2, stride=2)\n",
    "        self.bn1d = nn.BatchNorm1d(num_features=self.fc[1])\n",
    "        \n",
    "        #处理第一个图像处理用的卷积网络部件\n",
    "        self.net1_conv1 = nn.Conv2d(in_channels=1, out_channels=self.depth[0], kernel_size=5, padding = 2)\n",
    "        self.net1_conv2 = nn.Conv2d(in_channels=self.depth[0], out_channels=self.depth[1], kernel_size=5, padding = 2) \n",
    "        self.net1_conv3 = nn.Conv2d(in_channels=self.depth[1], out_channels=self.depth[2], kernel_size=5, padding = 2)  \n",
    "         \n",
    "        #后面的全连阶层\n",
    "        self.fc1 = nn.Linear(in_features=(image_size // 4 // 2) * (image_size // 4 // 2) * self.depth[2] , \n",
    "                             out_features=self.fc[0])\n",
    "        self.fc2 = nn.Linear(in_features=self.fc[0], out_features=self.fc[1])\n",
    " \n",
    "    def forward(self, x, y, training = True):\n",
    "        #第一张图像的处理流程\n",
    "        x = F.leaky_relu(self.net1_conv1(x)) # 1*28*28 -> 16*28*28\n",
    "        x = self.net_pool(x) # 16*28*28 -> 16*14*14\n",
    "        x = F.leaky_relu(self.net1_conv2(x)) # 16*14*14 -> 32*14*14\n",
    "        x = self.net_pool(x) # 32*14*14 -> 32*7*7\n",
    "        x = F.leaky_relu(self.net1_conv3(x)) # 32*7*7 -> 64*7*7\n",
    "        x = self.net_pool(x) # 64*7*7 -> 64*3*3\n",
    "        x = x.view(-1, (image_size // 4 // 2) * (image_size // 4 // 2) * self.depth[2]) # flatten\n",
    "         \n",
    "        #将前两部处理得到的张量并列到一起，喂给两层全链接前馈网络，最后输出预测数值\n",
    "        z = x\n",
    "        z = F.leaky_relu(self.fc1(z))\n",
    "        z = F.dropout(z, training=self.training) #以默认为0.5的概率对这一层进行dropout操作\n",
    "        z = F.leaky_relu(self.fc2(z))\n",
    "        z = self.bn1d(z) #批量正则化\n",
    "        z = F.log_softmax(z)\n",
    "        \n",
    "        return z"
   ]
  },
  {
   "cell_type": "code",
   "execution_count": null,
   "metadata": {
    "collapsed": true
   },
   "outputs": [],
   "source": []
  },
  {
   "cell_type": "code",
   "execution_count": null,
   "metadata": {
    "collapsed": true
   },
   "outputs": [],
   "source": [
    "class MINSTMath(object):\n",
    "    def __init__(self, depth):\n",
    "        net_add = MathFNN(depth)\n",
    "        net_img = MINSTConv()\n",
    "    \n",
    "    def \n",
    "    \n",
    "    def fit_img(self, X, y):\n",
    "        pass\n",
    "    \n",
    "    def fit_math(self, X, y):\n",
    "        pass\n",
    "    \n",
    "    def predict_img(self, X):\n",
    "        pass\n",
    "    "
   ]
  },
  {
   "cell_type": "code",
   "execution_count": null,
   "metadata": {
    "collapsed": true
   },
   "outputs": [],
   "source": [
    "# 计算准确度的函数（有多少数字给出了严格的正确输出结果）\n",
    "def rightness(y, target):\n",
    "    out = torch.round(y.view(-1)).type(torch.LongTensor)\n",
    "    out = out.eq(target).sum()\n",
    "    out1 = y.size()[0]\n",
    "    return(out, out1)\n"
   ]
  },
  {
   "cell_type": "code",
   "execution_count": 4,
   "metadata": {
    "collapsed": true
   },
   "outputs": [],
   "source": [
    "#将网络定义为一个预测器，来对加法的结果进行预测，因此用MSE平均平房误差作为我们的损失函数\n",
    "net = MINSTMath() #MINSTAdder()\n",
    "criterion = nn.MSELoss() #nn.CrossEntropyLoss() #\n",
    "optimizer = optim.Adam(net.parameters()) #SGD(net.parameters(), lr = 0.0001, momentum = 0.9)\n",
    "results = {}"
   ]
  },
  {
   "cell_type": "code",
   "execution_count": 5,
   "metadata": {
    "scrolled": true
   },
   "outputs": [
    {
     "name": "stdout",
     "output_type": "stream",
     "text": [
      "第0周期，第(0/938)个撮，训练误差：90.37, 校验误差：96.55, 准确率：0.01\n",
      "第0周期，第(100/938)个撮，训练误差：51.27, 校验误差：16.53, 准确率：0.09\n",
      "第0周期，第(200/938)个撮，训练误差：33.25, 校验误差：16.50, 准确率：0.05\n",
      "第0周期，第(300/938)个撮，训练误差：25.66, 校验误差：13.50, 准确率：0.07\n",
      "第0周期，第(400/938)个撮，训练误差：21.16, 校验误差：4.32, 准确率：0.21\n",
      "第0周期，第(500/938)个撮，训练误差：18.01, 校验误差：3.14, 准确率：0.25\n",
      "第0周期，第(600/938)个撮，训练误差：15.63, 校验误差：3.01, 准确率：0.27\n",
      "第0周期，第(700/938)个撮，训练误差：13.85, 校验误差：2.79, 准确率：0.27\n",
      "第0周期，第(800/938)个撮，训练误差：12.48, 校验误差：2.57, 准确率：0.26\n",
      "第0周期，第(900/938)个撮，训练误差：11.41, 校验误差：2.21, 准确率：0.33\n",
      "第1周期，第(0/938)个撮，训练误差：1.87, 校验误差：2.37, 准确率：0.33\n",
      "第1周期，第(100/938)个撮，训练误差：2.42, 校验误差：2.08, 准确率：0.35\n",
      "第1周期，第(200/938)个撮，训练误差：2.37, 校验误差：1.84, 准确率：0.37\n",
      "第1周期，第(300/938)个撮，训练误差：2.22, 校验误差：1.78, 准确率：0.40\n",
      "第1周期，第(400/938)个撮，训练误差：2.17, 校验误差：1.78, 准确率：0.38\n",
      "第1周期，第(500/938)个撮，训练误差：2.13, 校验误差：1.61, 准确率：0.40\n",
      "第1周期，第(600/938)个撮，训练误差：2.06, 校验误差：1.69, 准确率：0.36\n",
      "第1周期，第(700/938)个撮，训练误差：2.02, 校验误差：1.52, 准确率：0.42\n",
      "第1周期，第(800/938)个撮，训练误差：1.96, 校验误差：1.38, 准确率：0.43\n",
      "第1周期，第(900/938)个撮，训练误差：1.93, 校验误差：1.54, 准确率：0.41\n",
      "第2周期，第(0/938)个撮，训练误差：1.81, 校验误差：1.25, 准确率：0.45\n",
      "第2周期，第(100/938)个撮，训练误差：1.51, 校验误差：1.25, 准确率：0.47\n",
      "第2周期，第(200/938)个撮，训练误差：1.45, 校验误差：1.18, 准确率：0.48\n",
      "第2周期，第(300/938)个撮，训练误差：1.39, 校验误差：1.16, 准确率：0.50\n",
      "第2周期，第(400/938)个撮，训练误差：1.37, 校验误差：1.26, 准确率：0.46\n",
      "第2周期，第(500/938)个撮，训练误差：1.35, 校验误差：1.10, 准确率：0.50\n",
      "第2周期，第(600/938)个撮，训练误差：1.35, 校验误差：1.03, 准确率：0.55\n",
      "第2周期，第(700/938)个撮，训练误差：1.33, 校验误差：1.01, 准确率：0.55\n",
      "第2周期，第(800/938)个撮，训练误差：1.30, 校验误差：0.95, 准确率：0.58\n",
      "第2周期，第(900/938)个撮，训练误差：1.29, 校验误差：0.97, 准确率：0.56\n",
      "第3周期，第(0/938)个撮，训练误差：0.72, 校验误差：0.97, 准确率：0.54\n",
      "第3周期，第(100/938)个撮，训练误差：1.11, 校验误差：1.01, 准确率：0.56\n",
      "第3周期，第(200/938)个撮，训练误差：1.09, 校验误差：1.01, 准确率：0.54\n",
      "第3周期，第(300/938)个撮，训练误差：1.07, 校验误差：0.89, 准确率：0.63\n",
      "第3周期，第(400/938)个撮，训练误差：1.06, 校验误差：0.89, 准确率：0.57\n",
      "第3周期，第(500/938)个撮，训练误差：1.04, 校验误差：0.83, 准确率：0.59\n",
      "第3周期，第(600/938)个撮，训练误差：1.04, 校验误差：0.74, 准确率：0.63\n",
      "第3周期，第(700/938)个撮，训练误差：1.02, 校验误差：0.74, 准确率：0.66\n",
      "第3周期，第(800/938)个撮，训练误差：1.01, 校验误差：0.72, 准确率：0.58\n",
      "第3周期，第(900/938)个撮，训练误差：0.99, 校验误差：0.70, 准确率：0.67\n",
      "第4周期，第(0/938)个撮，训练误差：1.11, 校验误差：0.87, 准确率：0.63\n",
      "第4周期，第(100/938)个撮，训练误差：0.92, 校验误差：0.66, 准确率：0.65\n",
      "第4周期，第(200/938)个撮，训练误差：0.89, 校验误差：0.72, 准确率：0.66\n",
      "第4周期，第(300/938)个撮，训练误差：0.85, 校验误差：0.68, 准确率：0.68\n",
      "第4周期，第(400/938)个撮，训练误差：0.85, 校验误差：0.66, 准确率：0.72\n",
      "第4周期，第(500/938)个撮，训练误差：0.84, 校验误差：0.60, 准确率：0.74\n",
      "第4周期，第(600/938)个撮，训练误差：0.84, 校验误差：0.63, 准确率：0.70\n",
      "第4周期，第(700/938)个撮，训练误差：0.83, 校验误差：0.57, 准确率：0.74\n",
      "第4周期，第(800/938)个撮，训练误差：0.83, 校验误差：0.60, 准确率：0.75\n",
      "第4周期，第(900/938)个撮，训练误差：0.83, 校验误差：0.60, 准确率：0.74\n",
      "第5周期，第(0/938)个撮，训练误差：0.39, 校验误差：0.73, 准确率：0.67\n",
      "第5周期，第(100/938)个撮，训练误差：0.72, 校验误差：0.62, 准确率：0.76\n",
      "第5周期，第(200/938)个撮，训练误差：0.70, 校验误差：0.60, 准确率：0.77\n",
      "第5周期，第(300/938)个撮，训练误差：0.71, 校验误差：0.55, 准确率：0.73\n",
      "第5周期，第(400/938)个撮，训练误差：0.71, 校验误差：0.65, 准确率：0.74\n",
      "第5周期，第(500/938)个撮，训练误差：0.72, 校验误差：0.53, 准确率：0.78\n",
      "第5周期，第(600/938)个撮，训练误差：0.71, 校验误差：0.58, 准确率：0.75\n",
      "第5周期，第(700/938)个撮，训练误差：0.72, 校验误差：0.53, 准确率：0.78\n",
      "第5周期，第(800/938)个撮，训练误差：0.71, 校验误差：0.53, 准确率：0.79\n",
      "第5周期，第(900/938)个撮，训练误差：0.71, 校验误差：0.49, 准确率：0.82\n",
      "第6周期，第(0/938)个撮，训练误差：0.51, 校验误差：0.61, 准确率：0.78\n",
      "第6周期，第(100/938)个撮，训练误差：0.65, 校验误差：0.62, 准确率：0.78\n",
      "第6周期，第(200/938)个撮，训练误差：0.66, 校验误差：0.51, 准确率：0.82\n",
      "第6周期，第(300/938)个撮，训练误差：0.65, 校验误差：0.60, 准确率：0.82\n",
      "第6周期，第(400/938)个撮，训练误差：0.65, 校验误差：0.44, 准确率：0.82\n",
      "第6周期，第(500/938)个撮，训练误差：0.64, 校验误差：0.49, 准确率：0.81\n",
      "第6周期，第(600/938)个撮，训练误差：0.64, 校验误差：0.53, 准确率：0.83\n",
      "第6周期，第(700/938)个撮，训练误差：0.65, 校验误差：0.43, 准确率：0.84\n",
      "第6周期，第(800/938)个撮，训练误差：0.64, 校验误差：0.70, 准确率：0.72\n",
      "第6周期，第(900/938)个撮，训练误差：0.64, 校验误差：0.45, 准确率：0.82\n",
      "第7周期，第(0/938)个撮，训练误差：3.34, 校验误差：0.55, 准确率：0.79\n",
      "第7周期，第(100/938)个撮，训练误差：0.57, 校验误差：0.55, 准确率：0.84\n",
      "第7周期，第(200/938)个撮，训练误差：0.53, 校验误差：0.47, 准确率：0.86\n",
      "第7周期，第(300/938)个撮，训练误差：0.54, 校验误差：0.41, 准确率：0.86\n",
      "第7周期，第(400/938)个撮，训练误差：0.56, 校验误差：0.65, 准确率：0.80\n",
      "第7周期，第(500/938)个撮，训练误差：0.56, 校验误差：0.49, 准确率：0.84\n",
      "第7周期，第(600/938)个撮，训练误差：0.57, 校验误差：0.42, 准确率：0.86\n",
      "第7周期，第(700/938)个撮，训练误差：0.57, 校验误差：0.43, 准确率：0.82\n",
      "第7周期，第(800/938)个撮，训练误差：0.57, 校验误差：0.44, 准确率：0.86\n",
      "第7周期，第(900/938)个撮，训练误差：0.57, 校验误差：0.49, 准确率：0.84\n",
      "第8周期，第(0/938)个撮，训练误差：0.32, 校验误差：0.44, 准确率：0.86\n",
      "第8周期，第(100/938)个撮，训练误差：0.58, 校验误差：0.41, 准确率：0.87\n",
      "第8周期，第(200/938)个撮，训练误差：0.50, 校验误差：0.52, 准确率：0.80\n",
      "第8周期，第(300/938)个撮，训练误差：0.50, 校验误差：0.38, 准确率：0.86\n",
      "第8周期，第(400/938)个撮，训练误差：0.52, 校验误差：0.42, 准确率：0.88\n",
      "第8周期，第(500/938)个撮，训练误差：0.52, 校验误差：0.54, 准确率：0.86\n",
      "第8周期，第(600/938)个撮，训练误差：0.53, 校验误差：0.47, 准确率：0.87\n",
      "第8周期，第(700/938)个撮，训练误差：0.53, 校验误差：0.50, 准确率：0.82\n",
      "第8周期，第(800/938)个撮，训练误差：0.55, 校验误差：0.49, 准确率：0.86\n",
      "第8周期，第(900/938)个撮，训练误差：0.55, 校验误差：0.53, 准确率：0.83\n",
      "第9周期，第(0/938)个撮，训练误差：1.28, 校验误差：0.40, 准确率：0.87\n",
      "第9周期，第(100/938)个撮，训练误差：0.47, 校验误差：0.42, 准确率：0.87\n",
      "第9周期，第(200/938)个撮，训练误差：0.47, 校验误差：0.45, 准确率：0.87\n",
      "第9周期，第(300/938)个撮，训练误差：0.53, 校验误差：0.43, 准确率：0.87\n",
      "第9周期，第(400/938)个撮，训练误差：0.51, 校验误差：0.40, 准确率：0.88\n",
      "第9周期，第(500/938)个撮，训练误差：0.51, 校验误差：0.46, 准确率：0.86\n",
      "第9周期，第(600/938)个撮，训练误差：0.52, 校验误差：0.46, 准确率：0.87\n",
      "第9周期，第(700/938)个撮，训练误差：0.52, 校验误差：0.43, 准确率：0.88\n",
      "第9周期，第(800/938)个撮，训练误差：0.51, 校验误差：0.41, 准确率：0.87\n",
      "第9周期，第(900/938)个撮，训练误差：0.52, 校验误差：0.42, 准确率：0.84\n",
      "第10周期，第(0/938)个撮，训练误差：0.89, 校验误差：0.48, 准确率：0.83\n",
      "第10周期，第(100/938)个撮，训练误差：0.48, 校验误差：0.42, 准确率：0.86\n",
      "第10周期，第(200/938)个撮，训练误差：0.49, 校验误差：0.56, 准确率：0.85\n",
      "第10周期，第(300/938)个撮，训练误差：0.48, 校验误差：0.37, 准确率：0.89\n",
      "第10周期，第(400/938)个撮，训练误差：0.47, 校验误差：0.41, 准确率：0.90\n",
      "第10周期，第(500/938)个撮，训练误差：0.47, 校验误差：0.40, 准确率：0.88\n",
      "第10周期，第(600/938)个撮，训练误差：0.48, 校验误差：0.50, 准确率：0.86\n",
      "第10周期，第(700/938)个撮，训练误差：0.48, 校验误差：0.49, 准确率：0.86\n",
      "第10周期，第(800/938)个撮，训练误差：0.49, 校验误差：0.44, 准确率：0.86\n",
      "第10周期，第(900/938)个撮，训练误差：0.49, 校验误差：0.39, 准确率：0.90\n",
      "第11周期，第(0/938)个撮，训练误差：0.09, 校验误差：0.47, 准确率：0.89\n",
      "第11周期，第(100/938)个撮，训练误差：0.43, 校验误差：0.39, 准确率：0.91\n",
      "第11周期，第(200/938)个撮，训练误差：0.42, 校验误差：0.39, 准确率：0.90\n",
      "第11周期，第(300/938)个撮，训练误差：0.44, 校验误差：0.36, 准确率：0.91\n",
      "第11周期，第(400/938)个撮，训练误差：0.43, 校验误差：0.38, 准确率：0.90\n",
      "第11周期，第(500/938)个撮，训练误差：0.45, 校验误差：0.40, 准确率：0.90\n",
      "第11周期，第(600/938)个撮，训练误差：0.44, 校验误差：0.49, 准确率：0.88\n",
      "第11周期，第(700/938)个撮，训练误差：0.45, 校验误差：0.43, 准确率：0.84\n",
      "第11周期，第(800/938)个撮，训练误差：0.46, 校验误差：0.48, 准确率：0.89\n",
      "第11周期，第(900/938)个撮，训练误差：0.46, 校验误差：0.47, 准确率：0.88\n",
      "第12周期，第(0/938)个撮，训练误差：0.36, 校验误差：0.37, 准确率：0.91\n",
      "第12周期，第(100/938)个撮，训练误差：0.46, 校验误差：0.41, 准确率：0.89\n",
      "第12周期，第(200/938)个撮，训练误差：0.44, 校验误差：0.45, 准确率：0.90\n",
      "第12周期，第(300/938)个撮，训练误差：0.43, 校验误差：0.44, 准确率：0.88\n",
      "第12周期，第(400/938)个撮，训练误差：0.44, 校验误差：0.40, 准确率：0.89\n",
      "第12周期，第(500/938)个撮，训练误差：0.45, 校验误差：0.47, 准确率：0.89\n",
      "第12周期，第(600/938)个撮，训练误差：0.45, 校验误差：0.38, 准确率：0.92\n",
      "第12周期，第(700/938)个撮，训练误差：0.46, 校验误差：0.44, 准确率：0.88\n",
      "第12周期，第(800/938)个撮，训练误差：0.46, 校验误差：0.39, 准确率：0.91\n",
      "第12周期，第(900/938)个撮，训练误差：0.46, 校验误差：0.39, 准确率：0.89\n",
      "第13周期，第(0/938)个撮，训练误差：0.12, 校验误差：0.44, 准确率：0.91\n",
      "第13周期，第(100/938)个撮，训练误差：0.39, 校验误差：0.38, 准确率：0.92\n",
      "第13周期，第(200/938)个撮，训练误差：0.41, 校验误差：0.35, 准确率：0.91\n",
      "第13周期，第(300/938)个撮，训练误差：0.42, 校验误差：0.40, 准确率：0.92\n",
      "第13周期，第(400/938)个撮，训练误差：0.41, 校验误差：0.40, 准确率：0.89\n",
      "第13周期，第(500/938)个撮，训练误差：0.41, 校验误差：0.57, 准确率：0.90\n",
      "第13周期，第(600/938)个撮，训练误差：0.42, 校验误差：0.40, 准确率：0.90\n",
      "第13周期，第(700/938)个撮，训练误差：0.43, 校验误差：0.41, 准确率：0.91\n",
      "第13周期，第(800/938)个撮，训练误差：0.42, 校验误差：0.36, 准确率：0.92\n",
      "第13周期，第(900/938)个撮，训练误差：0.42, 校验误差：0.39, 准确率：0.90\n",
      "第14周期，第(0/938)个撮，训练误差：0.25, 校验误差：0.41, 准确率：0.91\n",
      "第14周期，第(100/938)个撮，训练误差：0.40, 校验误差：0.46, 准确率：0.89\n",
      "第14周期，第(200/938)个撮，训练误差：0.45, 校验误差：0.38, 准确率：0.91\n",
      "第14周期，第(300/938)个撮，训练误差：0.44, 校验误差：0.38, 准确率：0.90\n",
      "第14周期，第(400/938)个撮，训练误差：0.45, 校验误差：0.36, 准确率：0.91\n",
      "第14周期，第(500/938)个撮，训练误差：0.44, 校验误差：0.38, 准确率：0.91\n",
      "第14周期，第(600/938)个撮，训练误差：0.44, 校验误差：0.41, 准确率：0.92\n",
      "第14周期，第(700/938)个撮，训练误差：0.43, 校验误差：0.41, 准确率：0.91\n",
      "第14周期，第(800/938)个撮，训练误差：0.43, 校验误差：0.40, 准确率：0.90\n",
      "第14周期，第(900/938)个撮，训练误差：0.44, 校验误差：0.43, 准确率：0.90\n",
      "第15周期，第(0/938)个撮，训练误差：0.51, 校验误差：0.48, 准确率：0.91\n",
      "第15周期，第(100/938)个撮，训练误差：0.41, 校验误差：0.41, 准确率：0.92\n",
      "第15周期，第(200/938)个撮，训练误差：0.46, 校验误差：0.34, 准确率：0.91\n",
      "第15周期，第(300/938)个撮，训练误差：0.44, 校验误差：0.35, 准确率：0.93\n",
      "第15周期，第(400/938)个撮，训练误差：0.43, 校验误差：0.36, 准确率：0.92\n",
      "第15周期，第(500/938)个撮，训练误差：0.42, 校验误差：0.37, 准确率：0.92\n",
      "第15周期，第(600/938)个撮，训练误差：0.43, 校验误差：0.42, 准确率：0.91\n",
      "第15周期，第(700/938)个撮，训练误差：0.42, 校验误差：0.42, 准确率：0.92\n",
      "第15周期，第(800/938)个撮，训练误差：0.43, 校验误差：0.37, 准确率：0.91\n",
      "第15周期，第(900/938)个撮，训练误差：0.43, 校验误差：0.41, 准确率：0.92\n",
      "第16周期，第(0/938)个撮，训练误差：0.90, 校验误差：0.39, 准确率：0.89\n",
      "第16周期，第(100/938)个撮，训练误差：0.40, 校验误差：0.38, 准确率：0.92\n",
      "第16周期，第(200/938)个撮，训练误差：0.41, 校验误差：0.41, 准确率：0.92\n",
      "第16周期，第(300/938)个撮，训练误差：0.39, 校验误差：0.35, 准确率：0.93\n",
      "第16周期，第(400/938)个撮，训练误差：0.39, 校验误差：0.34, 准确率：0.93\n",
      "第16周期，第(500/938)个撮，训练误差：0.39, 校验误差：0.38, 准确率：0.90\n",
      "第16周期，第(600/938)个撮，训练误差：0.40, 校验误差：0.38, 准确率：0.92\n"
     ]
    },
    {
     "name": "stdout",
     "output_type": "stream",
     "text": [
      "第16周期，第(700/938)个撮，训练误差：0.40, 校验误差：0.34, 准确率：0.92\n",
      "第16周期，第(800/938)个撮，训练误差：0.41, 校验误差：0.40, 准确率：0.93\n",
      "第16周期，第(900/938)个撮，训练误差：0.41, 校验误差：0.40, 准确率：0.92\n",
      "第17周期，第(0/938)个撮，训练误差：0.36, 校验误差：0.42, 准确率：0.90\n",
      "第17周期，第(100/938)个撮，训练误差：0.34, 校验误差：0.39, 准确率：0.92\n",
      "第17周期，第(200/938)个撮，训练误差：0.40, 校验误差：0.38, 准确率：0.92\n",
      "第17周期，第(300/938)个撮，训练误差：0.40, 校验误差：0.33, 准确率：0.93\n",
      "第17周期，第(400/938)个撮，训练误差：0.38, 校验误差：0.34, 准确率：0.93\n",
      "第17周期，第(500/938)个撮，训练误差：0.38, 校验误差：0.38, 准确率：0.92\n",
      "第17周期，第(600/938)个撮，训练误差：0.38, 校验误差：0.39, 准确率：0.93\n",
      "第17周期，第(700/938)个撮，训练误差：0.39, 校验误差：0.36, 准确率：0.93\n",
      "第17周期，第(800/938)个撮，训练误差：0.38, 校验误差：0.35, 准确率：0.92\n",
      "第17周期，第(900/938)个撮，训练误差：0.38, 校验误差：0.35, 准确率：0.93\n",
      "第18周期，第(0/938)个撮，训练误差：0.13, 校验误差：0.37, 准确率：0.93\n",
      "第18周期，第(100/938)个撮，训练误差：0.36, 校验误差：0.37, 准确率：0.93\n",
      "第18周期，第(200/938)个撮，训练误差：0.37, 校验误差：0.31, 准确率：0.93\n",
      "第18周期，第(300/938)个撮，训练误差：0.36, 校验误差：0.36, 准确率：0.93\n",
      "第18周期，第(400/938)个撮，训练误差：0.36, 校验误差：0.40, 准确率：0.87\n",
      "第18周期，第(500/938)个撮，训练误差：0.37, 校验误差：0.41, 准确率：0.93\n",
      "第18周期，第(600/938)个撮，训练误差：0.36, 校验误差：0.36, 准确率：0.94\n",
      "第18周期，第(700/938)个撮，训练误差：0.36, 校验误差：0.36, 准确率：0.93\n",
      "第18周期，第(800/938)个撮，训练误差：0.37, 校验误差：0.47, 准确率：0.92\n",
      "第18周期，第(900/938)个撮，训练误差：0.36, 校验误差：0.38, 准确率：0.92\n",
      "第19周期，第(0/938)个撮，训练误差：0.13, 校验误差：0.42, 准确率：0.91\n",
      "第19周期，第(100/938)个撮，训练误差：0.38, 校验误差：0.46, 准确率：0.92\n",
      "第19周期，第(200/938)个撮，训练误差：0.38, 校验误差：0.44, 准确率：0.93\n",
      "第19周期，第(300/938)个撮，训练误差：0.35, 校验误差：0.32, 准确率：0.93\n",
      "第19周期，第(400/938)个撮，训练误差：0.35, 校验误差：0.35, 准确率：0.93\n",
      "第19周期，第(500/938)个撮，训练误差：0.36, 校验误差：0.32, 准确率：0.94\n",
      "第19周期，第(600/938)个撮，训练误差：0.36, 校验误差：0.34, 准确率：0.92\n",
      "第19周期，第(700/938)个撮，训练误差：0.36, 校验误差：0.34, 准确率：0.94\n",
      "第19周期，第(800/938)个撮，训练误差：0.36, 校验误差：0.42, 准确率：0.92\n",
      "第19周期，第(900/938)个撮，训练误差：0.37, 校验误差：0.42, 准确率：0.91\n",
      "CPU times: user 7h 13min 49s, sys: 15min 50s, total: 7h 29min 39s\n",
      "Wall time: 1h 10min\n"
     ]
    }
   ],
   "source": [
    "%%time\n",
    "\n",
    "stranges = []\n",
    "\n",
    "#开始训练循环，本部分代码需要补齐\n",
    "num_epochs = 20\n",
    "records = []\n",
    "for epoch in range(num_epochs):\n",
    "    losses = []\n",
    "    # 一个关键技术难点是对两个数据加载器进行读取成对儿的数据。我们的办法是通过zip命令，将loader1和2并列在一起，一对一对的读取数据\n",
    "    for idx, data in enumerate(zip(train_loader1, train_loader2)):\n",
    "        ((x1, y1), (x2, y2)) = data\n",
    "        optimizer.zero_grad()\n",
    "        net.train()\n",
    "        outputs = net(Variable(x1), Variable(x2))\n",
    "        labels = y1 + y2\n",
    "#         if 0==idx:\n",
    "#             break\n",
    "        loss = criterion(outputs.type(torch.FloatTensor), Variable(labels.type(torch.FloatTensor)))\n",
    "        loss.backward()\n",
    "        optimizer.step()\n",
    "        # update losses\n",
    "        losses.append(loss.data.numpy())\n",
    "        \n",
    "        if idx % 100 == 0:\n",
    "            net.eval()\n",
    "            val_losses = []\n",
    "            val_right_all = []\n",
    "#             size_right, size_all = [], []\n",
    "            for jdx, data_val in enumerate(zip(val_loader1, val_loader2)):\n",
    "                ((xx1, yy1), (xx2, yy2)) = data_val\n",
    "                v_outputs = net(Variable(xx1), Variable(xx2)) \n",
    "                v_labels = yy1 + yy2\n",
    "                v_loss = criterion(v_outputs.type(torch.FloatTensor), Variable(v_labels.type(torch.FloatTensor)))\n",
    "                # add val_loss, val_rights\n",
    "                val_losses.append(v_loss.data.numpy())\n",
    "                val_right_all.append(rightness(v_outputs.data, v_labels))\n",
    "#                 aa,bb = rightness(v_outputs.data, v_labels)\n",
    "#                 if aa > bb:\n",
    "#                     stranges.append((data_val, v_outputs, aa, bb))\n",
    "#                     break\n",
    "#                 print(v_outputs.data.shape, v_labels.shape, rightness(v_outputs.data, v_labels))\n",
    "                \n",
    "            right_ratio = np.sum([rr for rr,aa in val_right_all]) / float(np.sum([aa for rr,aa in val_right_all]))\n",
    "            #每间隔一定周期就打印一下训练集、校验集的准确率结果\n",
    "            print('第{}周期，第({}/{})个撮，训练误差：{:.2f}, 校验误差：{:.2f}, 准确率：{:.2f}'.format(\n",
    "                epoch, idx, len(train_loader1),\n",
    "                np.mean(losses), np.mean(val_losses), right_ratio))\n",
    "            records.append([np.mean(losses), np.mean(val_losses), right_ratio])\n"
   ]
  },
  {
   "cell_type": "code",
   "execution_count": 121,
   "metadata": {},
   "outputs": [
    {
     "name": "stdout",
     "output_type": "stream",
     "text": [
      "Save model OK:  /home/sushangjun/git/swarma/homework/homework02-0830/trial/models/model.170902-082225\n"
     ]
    }
   ],
   "source": [
    "import datetime\n",
    "import os\n",
    "\n",
    "save_dir = 'models'\n",
    "if not os.path.isdir(save_dir):\n",
    "    os.mkdir(save_dir)\n",
    "    \n",
    "# reference: http://pytorch.org/docs/master/notes/serialization.html#recommend-saving-models\n",
    "# if need to load:\n",
    "#   the_model = TheModelClass(*args, **kwargs)\n",
    "#   the_model.load_state_dict(torch.load(PATH))\n",
    "\n",
    "save_file = 'model.{}'.format(datetime.datetime.now().strftime('%y%m%d-%H%M%S'))\n",
    "save_path = os.path.join(os.getcwd(), save_dir, save_file)\n",
    "torch.save(net.state_dict(), save_path)\n",
    "print('Save model OK: ', save_path)"
   ]
  },
  {
   "cell_type": "code",
   "execution_count": 6,
   "metadata": {},
   "outputs": [
    {
     "data": {
      "image/png": "[encoded data removed]",
      "text/plain": [
       "<matplotlib.figure.Figure at 0x7f14aee773c8>"
      ]
     },
     "metadata": {},
     "output_type": "display_data"
    }
   ],
   "source": [
    "record_loss_train = [xx[0] for xx in records]\n",
    "record_loss_val = [xx[1] for xx in records]\n",
    "record_acc_val = [xx[2] for xx in records]\n",
    "\n",
    "plt.plot(np.arange(len(records))*100, record_loss_train, label='loss_train')\n",
    "plt.plot(np.arange(len(records))*100, record_loss_val, label='loss_validation')\n",
    "plt.xlabel('epoch')\n",
    "plt.ylabel('loss')\n",
    "plt.legend()\n",
    "plt.show()"
   ]
  },
  {
   "cell_type": "code",
   "execution_count": 7,
   "metadata": {},
   "outputs": [
    {
     "data": {
      "image/png": "[encoded data removed]",
      "text/plain": [
       "<matplotlib.figure.Figure at 0x7f14aee71d30>"
      ]
     },
     "metadata": {},
     "output_type": "display_data"
    }
   ],
   "source": [
    "plt.plot(np.arange(len(records))*100, record_acc_val, label='acc_validation')\n",
    "plt.xlabel('epoch')\n",
    "plt.ylabel('accuray(validation)')\n",
    "plt.legend()\n",
    "plt.show()"
   ]
  },
  {
   "cell_type": "code",
   "execution_count": 85,
   "metadata": {},
   "outputs": [
    {
     "data": {
      "image/png": "[encoded data removed]",
      "text/plain": [
       "<matplotlib.figure.Figure at 0x7f1460b01dd8>"
      ]
     },
     "metadata": {},
     "output_type": "display_data"
    }
   ],
   "source": [
    "# 在测试集上运行我们的加法机网络，并测试预测准确度\n",
    "\n",
    "net.eval()\n",
    "\n",
    "eval_rights = []\n",
    "\n",
    "eval_samples_ind,  eval_samples_results = [], []\n",
    "rand_indicies = np.arange(len(test_indices1)//batch_size)\n",
    "np.random.shuffle(rand_indicies)\n",
    "eval_samples_ind.extend(rand_indicies[:5])\n",
    "\n",
    "for kdx, data_test in enumerate(zip(test_loader1, test_loader2)):\n",
    "    ((xt1, yt1), (xt2, yt2)) = data_test\n",
    "    xt1, xt2 = Variable(xt1), Variable(xt2)\n",
    "    labelt = Variable(yt1+yt2)\n",
    "    output_t = net(xt1, xt2)\n",
    "    loss = criterion(output_t.type(torch.FloatTensor), labelt.type(torch.FloatTensor))\n",
    "    rr,aa=rightness(output_t.data, labelt.data)\n",
    "    eval_rights.append(rr/float(aa))\n",
    "    # if in eval_samples, plot it\n",
    "    if kdx in eval_samples_ind:\n",
    "        eval_samples_results.append((xt1.data.numpy(), xt2.data.numpy(), labelt.data.numpy(), \n",
    "                                     torch.round(output_t.data.view(-1)).numpy()))\n",
    "    \n",
    "plt.plot(np.arange(len(eval_rights)), eval_rights)\n",
    "plt.xlabel('batch index(test set)')\n",
    "plt.ylabel('accuracy(test set)')\n",
    "plt.show()"
   ]
  },
  {
   "cell_type": "code",
   "execution_count": 95,
   "metadata": {},
   "outputs": [
    {
     "name": "stdout",
     "output_type": "stream",
     "text": [
      "Input: \n",
      "Sum_true:  14\n",
      "Sum_pred:  14\n",
      "--------------------\n",
      "Input: \n",
      "Sum_true:  7\n",
      "Sum_pred:  7\n",
      "--------------------\n",
      "Input: \n",
      "Sum_true:  0\n",
      "Sum_pred:  0\n",
      "--------------------\n",
      "Input: \n",
      "Sum_true:  5\n",
      "Sum_pred:  5\n",
      "--------------------\n",
      "Input: \n",
      "Sum_true:  6\n",
      "Sum_pred:  6\n",
      "--------------------\n"
     ]
    },
    {
     "data": {
      "image/png": "[encoded data removed]",
      "text/plain": [
       "<matplotlib.figure.Figure at 0x7f1460566b70>"
      ]
     },
     "metadata": {},
     "output_type": "display_data"
    },
    {
     "data": {
      "image/png": "[encoded data removed]",
      "text/plain": [
       "<matplotlib.figure.Figure at 0x7f14608a7c18>"
      ]
     },
     "metadata": {},
     "output_type": "display_data"
    },
    {
     "data": {
      "image/png": "[encoded data removed]",
      "text/plain": [
       "<matplotlib.figure.Figure at 0x7f146097af60>"
      ]
     },
     "metadata": {},
     "output_type": "display_data"
    },
    {
     "data": {
      "image/png": "[encoded data removed]",
      "text/plain": [
       "<matplotlib.figure.Figure at 0x7f14622eb7f0>"
      ]
     },
     "metadata": {},
     "output_type": "display_data"
    },
    {
     "data": {
      "image/png": "[encoded data removed]",
      "text/plain": [
       "<matplotlib.figure.Figure at 0x7f1462426630>"
      ]
     },
     "metadata": {},
     "output_type": "display_data"
    }
   ],
   "source": [
    "for ii in eval_samples_results:\n",
    "    pick = np.random.randint(batch_size)\n",
    "    print('Input: ')\n",
    "    fig = plt.figure(figsize=(5,5)) #!!!IMPORTANT!!! for many subplots\n",
    "    for j in range(2):\n",
    "        plt.subplot(1, 2, j+1)\n",
    "        plt.imshow(ii[j][pick,0,...])\n",
    "    print('Sum_true: ', int(ii[-2][pick]))\n",
    "    print('Sum_pred: ', int(ii[-1][pick]))\n",
    "    print('----------'*2)"
   ]
  },
  {
   "cell_type": "code",
   "execution_count": null,
   "metadata": {
    "collapsed": true
   },
   "outputs": [],
   "source": []
  }
 ],
 "metadata": {
  "kernelspec": {
   "display_name": "Python 3",
   "language": "python",
   "name": "python3"
  },
  "language_info": {
   "codemirror_mode": {
    "name": "ipython",
    "version": 3
   },
   "file_extension": ".py",
   "mimetype": "text/x-python",
   "name": "python",
   "nbconvert_exporter": "python",
   "pygments_lexer": "ipython3",
   "version": "3.6.1"
  }
 },
 "nbformat": 4,
 "nbformat_minor": 2
}
