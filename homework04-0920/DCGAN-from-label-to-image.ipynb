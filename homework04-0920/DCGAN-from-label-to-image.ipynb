{
 "cells": [
  {
   "cell_type": "markdown",
   "metadata": {},
   "source": [
    "##  基本模块导入与构建"
   ]
  },
  {
   "cell_type": "code",
   "execution_count": 1,
   "metadata": {
    "collapsed": true
   },
   "outputs": [],
   "source": [
    "# import modules\n",
    "\n",
    "import os\n",
    "import copy\n",
    "\n",
    "import numpy as np\n",
    "import pandas as pd\n",
    "import matplotlib.pyplot as plt\n",
    "\n",
    "import torch\n",
    "from torch import nn\n",
    "from torch.nn import functional as F\n",
    "from torch.autograd import Variable\n",
    "import torchvision\n",
    "\n",
    "from IPython.display import display\n",
    "%matplotlib inline"
   ]
  },
  {
   "cell_type": "code",
   "execution_count": 2,
   "metadata": {
    "collapsed": true
   },
   "outputs": [],
   "source": [
    "# define some common-used constant variables\n",
    "\n",
    "use_cuda = torch.cuda.is_available()"
   ]
  },
  {
   "cell_type": "code",
   "execution_count": 5,
   "metadata": {},
   "outputs": [
    {
     "name": "stdout",
     "output_type": "stream",
     "text": [
      "Downloading http://yann.lecun.com/exdb/mnist/train-images-idx3-ubyte.gz\n",
      "Downloading http://yann.lecun.com/exdb/mnist/train-labels-idx1-ubyte.gz\n",
      "Downloading http://yann.lecun.com/exdb/mnist/t10k-images-idx3-ubyte.gz\n",
      "Downloading http://yann.lecun.com/exdb/mnist/t10k-labels-idx1-ubyte.gz\n",
      "Processing...\n",
      "Done!\n"
     ]
    }
   ],
   "source": [
    "# prepare dataset\n",
    "\n",
    "path = {\n",
    "    'datasets': os.path.join(os.getcwd(), 'datasets'), \n",
    "    'models': os.path.join(os.getcwd(), 'models'),\n",
    "    'outputs_aux': os.path.join(os.getcwd(), 'outputs_aux')\n",
    "}\n",
    "\n",
    "for k,path_val in path.items():\n",
    "    if not os.path.isdir(path_val):\n",
    "        os.mkdir(path_val)\n",
    "\n",
    "transform_sets = torchvision.transforms.Compose([\n",
    "    torchvision.transforms.ToTensor()\n",
    "])\n",
    "\n",
    "params = {\n",
    "    'datasets': {\n",
    "        'root': path['datasets'], \n",
    "        'download': True,\n",
    "        'transform': transform_sets\n",
    "    }\n",
    "}\n",
    "\n",
    "data = {\n",
    "    'train': torchvision.datasets.MNIST(train=True, **params['datasets']), \n",
    "    'test': torchvision.datasets.MNIST(train=False, **params['datasets']), \n",
    "}"
   ]
  },
  {
   "cell_type": "code",
   "execution_count": 6,
   "metadata": {
    "collapsed": true
   },
   "outputs": [],
   "source": [
    "# set dataloader\n",
    "\n",
    "batch_size = 100\n",
    "n_class = 11\n",
    "dataloader = {}\n",
    "\n",
    "## dataloader-train\n",
    "\n",
    "dataloader['train'] = torch.utils.data.DataLoader(dataset=data['train'], batch_size=batch_size, shuffle=True)\n",
    "\n",
    "## dataloader-valid & dataloader-test\n",
    "\n",
    "### auxiliary components\n",
    "\n",
    "indicies = {\n",
    "    'valid': range(len(data['test'])//2),\n",
    "    'test': range(len(data['test'])//2, len(data['test']))\n",
    "}\n",
    "sampler = {\n",
    "    'valid': torch.utils.data.sampler.SubsetRandomSampler(indices=indicies['valid']),\n",
    "    'test': torch.utils.data.sampler.SubsetRandomSampler(indices=indicies['test'])\n",
    "}\n",
    "\n",
    "### dataloder definition\n",
    "\n",
    "dataloader['valid'] = torch.utils.data.DataLoader(dataset=data['test'], batch_size=batch_size, \n",
    "                                                  sampler=sampler['valid'])\n",
    "\n",
    "dataloader['test'] = torch.utils.data.DataLoader(dataset=data['test'], batch_size=batch_size, \n",
    "                                                  sampler=sampler['test'])"
   ]
  },
  {
   "cell_type": "markdown",
   "metadata": {},
   "source": [
    "## 查看三个迭代器的信息"
   ]
  },
  {
   "cell_type": "code",
   "execution_count": 18,
   "metadata": {
    "collapsed": true
   },
   "outputs": [],
   "source": [
    "def vis_dist_dataloader(cls):\n",
    "    count = {i:0 for i in range(n_class)}\n",
    "    for i, data in enumerate(dataloader[cls]):\n",
    "        xs, ys = data\n",
    "        for y in ys:\n",
    "            count[y] += 1\n",
    "            \n",
    "    count = [count[i] for i in range(n_class)]\n",
    "    display(pd.DataFrame(data=count))\n",
    "    plt.bar(left=np.arange(n_class), height=count)\n",
    "    plt.xlabel('digit_class')\n",
    "    plt.ylabel('count_total_samples')\n",
    "    plt.title('simple stat: data[{}]'.format(cls))\n",
    "    filename_base = 'stat-{}'.format(cls)\n",
    "    filename_full = os.path.join(path['outputs_aux'], filename_base)\n",
    "    plt.savefig(filename_full)"
   ]
  },
  {
   "cell_type": "code",
   "execution_count": 19,
   "metadata": {},
   "outputs": [
    {
     "data": {
      "text/html": [
       "<div>\n",
       "<style>\n",
       "    .dataframe thead tr:only-child th {\n",
       "        text-align: right;\n",
       "    }\n",
       "\n",
       "    .dataframe thead th {\n",
       "        text-align: left;\n",
       "    }\n",
       "\n",
       "    .dataframe tbody tr th {\n",
       "        vertical-align: top;\n",
       "    }\n",
       "</style>\n",
       "<table border=\"1\" class=\"dataframe\">\n",
       "  <thead>\n",
       "    <tr style=\"text-align: right;\">\n",
       "      <th></th>\n",
       "      <th>0</th>\n",
       "    </tr>\n",
       "  </thead>\n",
       "  <tbody>\n",
       "    <tr>\n",
       "      <th>0</th>\n",
       "      <td>5923</td>\n",
       "    </tr>\n",
       "    <tr>\n",
       "      <th>1</th>\n",
       "      <td>6742</td>\n",
       "    </tr>\n",
       "    <tr>\n",
       "      <th>2</th>\n",
       "      <td>5958</td>\n",
       "    </tr>\n",
       "    <tr>\n",
       "      <th>3</th>\n",
       "      <td>6131</td>\n",
       "    </tr>\n",
       "    <tr>\n",
       "      <th>4</th>\n",
       "      <td>5842</td>\n",
       "    </tr>\n",
       "    <tr>\n",
       "      <th>5</th>\n",
       "      <td>5421</td>\n",
       "    </tr>\n",
       "    <tr>\n",
       "      <th>6</th>\n",
       "      <td>5918</td>\n",
       "    </tr>\n",
       "    <tr>\n",
       "      <th>7</th>\n",
       "      <td>6265</td>\n",
       "    </tr>\n",
       "    <tr>\n",
       "      <th>8</th>\n",
       "      <td>5851</td>\n",
       "    </tr>\n",
       "    <tr>\n",
       "      <th>9</th>\n",
       "      <td>5949</td>\n",
       "    </tr>\n",
       "    <tr>\n",
       "      <th>10</th>\n",
       "      <td>0</td>\n",
       "    </tr>\n",
       "  </tbody>\n",
       "</table>\n",
       "</div>"
      ],
      "text/plain": [
       "       0\n",
       "0   5923\n",
       "1   6742\n",
       "2   5958\n",
       "3   6131\n",
       "4   5842\n",
       "5   5421\n",
       "6   5918\n",
       "7   6265\n",
       "8   5851\n",
       "9   5949\n",
       "10     0"
      ]
     },
     "metadata": {},
     "output_type": "display_data"
    },
    {
     "data": {
      "image/png": "[encoded data removed]",
      "text/plain": [
       "<matplotlib.figure.Figure at 0x7ff61f2d4b38>"
      ]
     },
     "metadata": {},
     "output_type": "display_data"
    }
   ],
   "source": [
    "vis_dist_dataloader('train')"
   ]
  },
  {
   "cell_type": "code",
   "execution_count": 20,
   "metadata": {},
   "outputs": [
    {
     "data": {
      "text/html": [
       "<div>\n",
       "<style>\n",
       "    .dataframe thead tr:only-child th {\n",
       "        text-align: right;\n",
       "    }\n",
       "\n",
       "    .dataframe thead th {\n",
       "        text-align: left;\n",
       "    }\n",
       "\n",
       "    .dataframe tbody tr th {\n",
       "        vertical-align: top;\n",
       "    }\n",
       "</style>\n",
       "<table border=\"1\" class=\"dataframe\">\n",
       "  <thead>\n",
       "    <tr style=\"text-align: right;\">\n",
       "      <th></th>\n",
       "      <th>0</th>\n",
       "    </tr>\n",
       "  </thead>\n",
       "  <tbody>\n",
       "    <tr>\n",
       "      <th>0</th>\n",
       "      <td>460</td>\n",
       "    </tr>\n",
       "    <tr>\n",
       "      <th>1</th>\n",
       "      <td>571</td>\n",
       "    </tr>\n",
       "    <tr>\n",
       "      <th>2</th>\n",
       "      <td>530</td>\n",
       "    </tr>\n",
       "    <tr>\n",
       "      <th>3</th>\n",
       "      <td>500</td>\n",
       "    </tr>\n",
       "    <tr>\n",
       "      <th>4</th>\n",
       "      <td>500</td>\n",
       "    </tr>\n",
       "    <tr>\n",
       "      <th>5</th>\n",
       "      <td>456</td>\n",
       "    </tr>\n",
       "    <tr>\n",
       "      <th>6</th>\n",
       "      <td>462</td>\n",
       "    </tr>\n",
       "    <tr>\n",
       "      <th>7</th>\n",
       "      <td>512</td>\n",
       "    </tr>\n",
       "    <tr>\n",
       "      <th>8</th>\n",
       "      <td>489</td>\n",
       "    </tr>\n",
       "    <tr>\n",
       "      <th>9</th>\n",
       "      <td>520</td>\n",
       "    </tr>\n",
       "    <tr>\n",
       "      <th>10</th>\n",
       "      <td>0</td>\n",
       "    </tr>\n",
       "  </tbody>\n",
       "</table>\n",
       "</div>"
      ],
      "text/plain": [
       "      0\n",
       "0   460\n",
       "1   571\n",
       "2   530\n",
       "3   500\n",
       "4   500\n",
       "5   456\n",
       "6   462\n",
       "7   512\n",
       "8   489\n",
       "9   520\n",
       "10    0"
      ]
     },
     "metadata": {},
     "output_type": "display_data"
    },
    {
     "data": {
      "image/png": "[encoded data removed]",
      "text/plain": [
       "<matplotlib.figure.Figure at 0x7ff61f1adb38>"
      ]
     },
     "metadata": {},
     "output_type": "display_data"
    }
   ],
   "source": [
    "vis_dist_dataloader('valid')"
   ]
  },
  {
   "cell_type": "code",
   "execution_count": 21,
   "metadata": {},
   "outputs": [
    {
     "data": {
      "text/html": [
       "<div>\n",
       "<style>\n",
       "    .dataframe thead tr:only-child th {\n",
       "        text-align: right;\n",
       "    }\n",
       "\n",
       "    .dataframe thead th {\n",
       "        text-align: left;\n",
       "    }\n",
       "\n",
       "    .dataframe tbody tr th {\n",
       "        vertical-align: top;\n",
       "    }\n",
       "</style>\n",
       "<table border=\"1\" class=\"dataframe\">\n",
       "  <thead>\n",
       "    <tr style=\"text-align: right;\">\n",
       "      <th></th>\n",
       "      <th>0</th>\n",
       "    </tr>\n",
       "  </thead>\n",
       "  <tbody>\n",
       "    <tr>\n",
       "      <th>0</th>\n",
       "      <td>520</td>\n",
       "    </tr>\n",
       "    <tr>\n",
       "      <th>1</th>\n",
       "      <td>564</td>\n",
       "    </tr>\n",
       "    <tr>\n",
       "      <th>2</th>\n",
       "      <td>502</td>\n",
       "    </tr>\n",
       "    <tr>\n",
       "      <th>3</th>\n",
       "      <td>510</td>\n",
       "    </tr>\n",
       "    <tr>\n",
       "      <th>4</th>\n",
       "      <td>482</td>\n",
       "    </tr>\n",
       "    <tr>\n",
       "      <th>5</th>\n",
       "      <td>436</td>\n",
       "    </tr>\n",
       "    <tr>\n",
       "      <th>6</th>\n",
       "      <td>496</td>\n",
       "    </tr>\n",
       "    <tr>\n",
       "      <th>7</th>\n",
       "      <td>516</td>\n",
       "    </tr>\n",
       "    <tr>\n",
       "      <th>8</th>\n",
       "      <td>485</td>\n",
       "    </tr>\n",
       "    <tr>\n",
       "      <th>9</th>\n",
       "      <td>489</td>\n",
       "    </tr>\n",
       "    <tr>\n",
       "      <th>10</th>\n",
       "      <td>0</td>\n",
       "    </tr>\n",
       "  </tbody>\n",
       "</table>\n",
       "</div>"
      ],
      "text/plain": [
       "      0\n",
       "0   520\n",
       "1   564\n",
       "2   502\n",
       "3   510\n",
       "4   482\n",
       "5   436\n",
       "6   496\n",
       "7   516\n",
       "8   485\n",
       "9   489\n",
       "10    0"
      ]
     },
     "metadata": {},
     "output_type": "display_data"
    },
    {
     "data": {
      "image/png": "[encoded data removed]",
      "text/plain": [
       "<matplotlib.figure.Figure at 0x7ff622b48ba8>"
      ]
     },
     "metadata": {},
     "output_type": "display_data"
    }
   ],
   "source": [
    "vis_dist_dataloader('test')"
   ]
  },
  {
   "cell_type": "markdown",
   "metadata": {},
   "source": [
    "## 实验设计"
   ]
  },
  {
   "cell_type": "markdown",
   "metadata": {},
   "source": [
    "【问题 1】示例：**图像** -> **图像**\n",
    "\n",
    "【问题 2】目标：**文本** -> **图像**\n",
    "\n",
    "那是否有什么方式可以把【问题 2】转化为【问题 1】，或者结合【问题 1】的解法？"
   ]
  },
  {
   "cell_type": "markdown",
   "metadata": {},
   "source": [
    "首先回顾一下【问题 1】的 GAN 的代码过程：\n",
    "\n",
    "1. 给出来自**原始数据**的真实图片，手动标记全为真（1）；喂给判别器 D，计算误差 1 `error_real`\n",
    "2. 给出来自**生成器 G**的生成图片，手动标记全为假（0）；喂给判别器 D，计算误差 2 `error_fake`\n",
    "3. 反向传播「误差 1 + 误差 2」（`error_D = error_real + error_fake`），用来**训练判别器 D**\n",
    "4. 对生成图片，重新手动标记全为真（1）；喂给判别器 D，计算误差 3 `error_G`\n",
    "5. 使用误差 3 `error_G` 来**训练生成器 G**"
   ]
  },
  {
   "cell_type": "markdown",
   "metadata": {},
   "source": [
    "### 方案 1: GAN(11 分类)"
   ]
  },
  {
   "cell_type": "markdown",
   "metadata": {},
   "source": [
    "这种方案思路是：把原始判断「真/假」的**二分类**问题，转化为判断「真0/真1/…/真9/假图」的**十一分类**问题\n",
    "\n",
    "那么只要更改标记即可：\n",
    "\n",
    "+ 对真实图片，标记使用图片对应标签 `label`\n",
    "+ 对假图，在**训练 D 前**，喂给 D 时仍然标记为 0\n",
    "+ 对假图，在**训练 G 前**，喂给 D 的标签使用图片对应标签 `label`"
   ]
  },
  {
   "cell_type": "markdown",
   "metadata": {},
   "source": [
    "### 方案 2: GAN(2 分类) + CNN(10 分类)"
   ]
  },
  {
   "cell_type": "markdown",
   "metadata": {},
   "source": [
    "这种方案的思路是：在 GAN 的判别器判别假图为真后，将假图输入给另一个预训练 CNN（如 VGG）来判断这个假图的数字，然后在 CNN 固定权重的前提下用 CNN 输出结果反传梯度，以便修正生成器网络 G。"
   ]
  },
  {
   "cell_type": "markdown",
   "metadata": {},
   "source": [
    "## 实验执行"
   ]
  },
  {
   "cell_type": "code",
   "execution_count": 22,
   "metadata": {
    "collapsed": true
   },
   "outputs": [],
   "source": [
    "input_dim = 100\n",
    "num_features = 64\n",
    "num_channels = 1\n"
   ]
  },
  {
   "cell_type": "code",
   "execution_count": 13,
   "metadata": {
    "collapsed": true
   },
   "outputs": [],
   "source": [
    "# definition for Generator\n",
    "\n",
    "class ModelG(nn.Module):\n",
    "    \n",
    "    def __init__(self):\n",
    "        super().__init__()\n",
    "        self.inp = nn.Linear(in_features=1, out_features=input_dim)\n",
    "        self.deconv00 = nn.ConvTranspose2d(in_channels=input_dim, out_channels=num_features*2, \n",
    "                                           kernel_size=5, stride=2, padding=0) #, bias=False)\n",
    "        self.deconv01 = nn.ConvTranspose2d(in_channels=num_features*2, out_channels=num_features, \n",
    "                                           kernel_size=5, stride=2, padding=0) #, bias=False)\n",
    "        self.deconv02 = nn.ConvTranspose2d(in_channels=num_features, out_channels=num_channels, \n",
    "                                           kernel_size=4, stride=2, padding=0) #, bias=False)\n",
    "        self.bn00 = nn.BatchNorm2d(num_features=num_features*2)\n",
    "        self.bn01 = nn.BatchNorm2d(num_features=num_features)\n",
    "        ######DIFFERENT from example code######\n",
    "        ## add one layer for one label input ##\n",
    "        ## remove `bias=False`               ##\n",
    "        #######################################\n",
    "    \n",
    "    def forward(self, x, training=True):\n",
    "        x = self.bn00(self.deconv00(x))\n",
    "        x = F.leaky_relu(x)\n",
    "        x = self.bn01(self.deconv01(x))\n",
    "        x = F.leaky_relu(x)\n",
    "        x = self.deconv02(x)\n",
    "        output = F.tanh(x)\n",
    "        \n",
    "        return output"
   ]
  },
  {
   "cell_type": "code",
   "execution_count": 23,
   "metadata": {
    "collapsed": true
   },
   "outputs": [],
   "source": [
    "# definition for Discriminator\n",
    "\n",
    "class ModelD(nn.Module):\n",
    "    \n",
    "    def __init__(self):\n",
    "        super().__init__()\n",
    "        self.conv00 = nn.Conv2d(in_channels=num_channels, out_channels=num_features, \n",
    "                                kernel_size=5, stride=2, padding=0) #, bias=False)\n",
    "        self.conv01 = nn.Conv2d(in_channels=num_channels, out_channels=num_features*2, \n",
    "                                kernel_size=5, stride=2, padding=0) #, bias=False)\n",
    "        self.bn01 = nn.BatchNorm2d(num_features=num_features*2)\n",
    "        self.fc00 = nn.Linear(in_features=(num_features*2 * 4 * 4), out_features=num_features)\n",
    "        self.fc01 = nn.Linear(in_features=num_features, out_features=n_class)\n",
    "        ######DIFFERENT from example code######\n",
    "        ## remove `bias=False`               ##\n",
    "        #######################################\n",
    "    \n",
    "    def forward(self, x, training=True):\n",
    "        x = F.leaky_relu(self.conv00(x))\n",
    "        x = self.bn01(self.conv01(x))\n",
    "        x = x.view(-1, num_features*2 * 4 * 4)\n",
    "        x = self.fc00(x)\n",
    "        x = self.fc01(x)\n",
    "        output = F.log_softmax(x)\n",
    "        \n",
    "        return output"
   ]
  },
  {
   "cell_type": "markdown",
   "metadata": {},
   "source": [
    "### 方案 1: GAN(11 分类)"
   ]
  },
  {
   "cell_type": "code",
   "execution_count": null,
   "metadata": {
    "collapsed": true
   },
   "outputs": [],
   "source": []
  },
  {
   "cell_type": "markdown",
   "metadata": {},
   "source": [
    "### 方案 2: GAN(2 分类) + CNN(10 分类)"
   ]
  },
  {
   "cell_type": "code",
   "execution_count": null,
   "metadata": {
    "collapsed": true
   },
   "outputs": [],
   "source": []
  }
 ],
 "metadata": {
  "kernelspec": {
   "display_name": "Python 3",
   "language": "python",
   "name": "python3"
  },
  "language_info": {
   "codemirror_mode": {
    "name": "ipython",
    "version": 3
   },
   "file_extension": ".py",
   "mimetype": "text/x-python",
   "name": "python",
   "nbconvert_exporter": "python",
   "pygments_lexer": "ipython3",
   "version": "3.6.1"
  }
 },
 "nbformat": 4,
 "nbformat_minor": 2
}
