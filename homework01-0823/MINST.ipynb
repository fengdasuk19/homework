{
 "cells": [
  {
   "cell_type": "markdown",
   "metadata": {},
   "source": [
    "# “火炬上的深度学习\"第一次大作业\n",
    "\n",
    "在这个作业中，你需要半独立地利用人工神经网络搭建一个手写数字识别器\n",
    "\n",
    "本文件是集智AI学园http://campus.swarma.org 出品的“火炬上的深度学习”第II课的配套源代码"
   ]
  },
  {
   "cell_type": "code",
   "execution_count": 1,
   "metadata": {
    "collapsed": true
   },
   "outputs": [],
   "source": [
    "\n",
    "\"\"\"简单的 LeNet-5类型的卷积神经网络模型，MNIST例子.\n",
    "\"\"\"\n",
    "\n",
    "#所有依赖包\n",
    "\n",
    "import gzip\n",
    "import os\n",
    "import sys\n",
    "\n",
    "import numpy as np\n",
    "from six.moves import urllib\n",
    "import torch\n",
    "from torch.autograd import Variable\n",
    "import torch.optim as optim\n",
    "\n",
    "import matplotlib.pylab as plt\n",
    "\n",
    "#定义一系列常数\n",
    "SOURCE_URL = 'http://yann.lecun.com/exdb/mnist/' #图像数据如果没下载，可以从这个地址下载\n",
    "WORK_DIRECTORY = 'data' #存储的路径名\n",
    "IMAGE_SIZE = 28 #每张图片的大小尺寸\n",
    "NUM_CHANNELS = 1  #每张图片的通道数\n",
    "PIXEL_DEPTH = 255 #像素的深度0-255\n",
    "NUM_LABELS = 10 #手写数字，一共十种\n",
    "\n",
    "%matplotlib inline\n",
    "\n"
   ]
  },
  {
   "cell_type": "markdown",
   "metadata": {},
   "source": [
    "# 读取MINST图形文件"
   ]
  },
  {
   "cell_type": "code",
   "execution_count": 2,
   "metadata": {},
   "outputs": [
    {
     "name": "stdout",
     "output_type": "stream",
     "text": [
      "Extracting data/train-images-idx3-ubyte.gz\n",
      "Extracting data/train-labels-idx1-ubyte.gz\n",
      "Extracting data/t10k-images-idx3-ubyte.gz\n",
      "Extracting data/t10k-labels-idx1-ubyte.gz\n"
     ]
    },
    {
     "data": {
      "text/plain": [
       "((60000, 784), (60000,))"
      ]
     },
     "execution_count": 2,
     "metadata": {},
     "output_type": "execute_result"
    }
   ],
   "source": [
    "#下载图像文件，如果文件已经存在，那么就不下载。\n",
    "def maybe_download(filename):\n",
    "    \"\"\"Download the data from Yann's website, unless it's already here.\"\"\"\n",
    "    if not os.path.isdir(WORK_DIRECTORY):\n",
    "        os.mkdir(WORK_DIRECTORY)\n",
    "    filepath = os.path.join(WORK_DIRECTORY, filename)\n",
    "    if not os.path.exists(filepath):\n",
    "        filepath, _ = urllib.request.urlretrieve(SOURCE_URL + filename, filepath)\n",
    "        size = os.path.getsize(filepath)\n",
    "        print('Successfully downloaded', filename, size, 'bytes.')\n",
    "    return filepath\n",
    "# Get the data.\n",
    "train_data_filename = maybe_download('train-images-idx3-ubyte.gz')\n",
    "train_labels_filename = maybe_download('train-labels-idx1-ubyte.gz')\n",
    "test_data_filename = maybe_download('t10k-images-idx3-ubyte.gz')\n",
    "test_labels_filename = maybe_download('t10k-labels-idx1-ubyte.gz')\n",
    "\n",
    "def extract_data(filename, num_images):\n",
    "    # filename: 文件存放的路径，num_images: 读入的图片个数\n",
    "    \"\"\"将图像解压缩展开，读入成一个4维的张量： [image index（图像的编码）, y（纵坐标）, x（横坐标）, channels（通道）].\n",
    "    我们将数组中的数值范围从原来的[0, 255]降低到了[-0.5, 0.5]范围内\n",
    "    \"\"\"\n",
    "    print('Extracting', filename)\n",
    "    with gzip.open(filename) as bytestream:\n",
    "        bytestream.read(16)\n",
    "        buf = bytestream.read(IMAGE_SIZE * IMAGE_SIZE * num_images * NUM_CHANNELS)\n",
    "        data = np.frombuffer(buf, dtype=np.uint8).astype(np.float32)\n",
    "        data = (data - (PIXEL_DEPTH / 2.0)) / PIXEL_DEPTH\n",
    "        data = data.reshape(num_images, NUM_CHANNELS, IMAGE_SIZE, IMAGE_SIZE)\n",
    "        return data\n",
    "\n",
    "def extract_labels(filename, num_images):\n",
    "    \"\"\"将label的数据文件解压缩，并将label读成64位的整数\"\"\"\n",
    "    print('Extracting', filename)\n",
    "    with gzip.open(filename) as bytestream:\n",
    "        bytestream.read(8)\n",
    "        buf = bytestream.read(1 * num_images)\n",
    "        labels = np.frombuffer(buf, dtype=np.uint8).astype(np.int64)\n",
    "    return labels\n",
    "\n",
    "# 将数据解压缩并存储到数组中，60000张图片，60000个label，测试集中有10000张图片\n",
    "train_data = extract_data(train_data_filename, 60000)\n",
    "train_X = train_data.reshape(len(train_data), -1)\n",
    "train_labels = extract_labels(train_labels_filename, 60000)\n",
    "train_Y = train_labels\n",
    "test_data = extract_data(test_data_filename, 10000)\n",
    "test_X = test_data.reshape(len(test_data), -1)\n",
    "\n",
    "test_labels = extract_labels(test_labels_filename, 10000)\n",
    "test_Y = test_labels\n",
    "train_X.shape, train_Y.shape\n",
    "\n",
    "# train_X, train_Y 中分别存储的是向量化的训练数据与标签\n",
    "# test_X, test_Y 中分别存储的是向量化的测试数据与标签\n",
    "# train_X的维度是60000个样本，784个分量的图像向量\n",
    "# test_X的维度是10000个样本，784个分量的图像向量"
   ]
  },
  {
   "cell_type": "markdown",
   "metadata": {},
   "source": [
    "# 在这里写下你自己的代码"
   ]
  },
  {
   "cell_type": "markdown",
   "metadata": {},
   "source": [
    "### 第一步：定义神经网络，提示，可以使用简单的torch.nn.SequentialModel\n",
    "\n",
    "本文件是集智AI学园http://campus.swarma.org 出品的“火炬上的深度学习”第II课的配套源代码"
   ]
  },
  {
   "cell_type": "code",
   "execution_count": 60,
   "metadata": {
    "collapsed": true
   },
   "outputs": [],
   "source": [
    "# 提示：需要考虑好网络有几层，每一层有多少个节点\n",
    "net = torch.nn.Sequential(\n",
    "    torch.nn.Linear(784, 196),\n",
    "    torch.nn.Sigmoid(),\n",
    "    torch.nn.Linear(196, 28),\n",
    "    torch.nn.Sigmoid(),\n",
    "    torch.nn.Linear(28, 10),\n",
    "    torch.nn.Sigmoid(),\n",
    "    torch.nn.LogSoftmax()\n",
    ")\n",
    "\n",
    "# 问题：如果要增加新的神经网络层怎么办？\n"
   ]
  },
  {
   "cell_type": "markdown",
   "metadata": {},
   "source": [
    "### 第二步：构造损失函数和优化器"
   ]
  },
  {
   "cell_type": "code",
   "execution_count": 61,
   "metadata": {
    "collapsed": true
   },
   "outputs": [],
   "source": [
    "cost = torch.nn.CrossEntropyLoss()\n",
    "optimizer = torch.optim.SGD(net.parameters(), lr = 0.1)"
   ]
  },
  {
   "cell_type": "markdown",
   "metadata": {},
   "source": [
    "### 第三步：开始训练循环"
   ]
  },
  {
   "cell_type": "code",
   "execution_count": 62,
   "metadata": {
    "collapsed": true
   },
   "outputs": [],
   "source": [
    "def error_rate(predictions_raw, labels_raw):\n",
    "    predictions = np.argmax(predictions_raw.data.numpy(), axis=1)\n",
    "    labels = labels_raw.data.numpy()\n",
    "    equals = np.sum(predictions == labels)\n",
    "    acc = equals / float(predictions.shape[0])\n",
    "    err = 1.0 - acc\n",
    "    return err"
   ]
  },
  {
   "cell_type": "code",
   "execution_count": 63,
   "metadata": {},
   "outputs": [
    {
     "name": "stdout",
     "output_type": "stream",
     "text": [
      "0 2.30169 0.892790511727\n",
      "100 1.5745 0.232953535892\n",
      "200 1.52421 0.0836387260128\n",
      "300 1.49624 0.0341762171286\n",
      "400 1.48595 0.0240927061123\n",
      "500 1.48021 0.0181458777541\n",
      "600 1.47654 0.014397876688\n",
      "700 1.47408 0.0120491293532\n",
      "800 1.47229 0.0103833511016\n",
      "900 1.47085 0.00911735963042\n"
     ]
    }
   ],
   "source": [
    "# 提示：有两重循环，最外面层是多少次的训练，里层为对数据批次（batch）的循环\n",
    "losses = []\n",
    "errors = []\n",
    "\n",
    "# 神经网络训练循环\n",
    "batch_size = 128\n",
    "for i in range(1000):\n",
    "#   每128个样本点被划分为一个撮，在循环的时候一撮一撮地读取 \n",
    "    batch_loss = []\n",
    "    batch_error = []\n",
    "#   start和end分别是提取一个batch数据的起始和终止下标 \n",
    "    for start in range(0, len(train_X), batch_size):\n",
    "        end = (start + batch_size) if (start + batch_size) < len(train_X) else len(train_X)\n",
    "        xx = Variable(torch.FloatTensor(train_X[start:end])) #从训练数据train_X中提取数据 \n",
    "        yy = Variable(torch.LongTensor(train_Y[start:end]))  #从训练数据train_Y中提取标签，注意标签数据为整数，因此相应的tensor也要为long\n",
    "        predict = net(xx) #用神经网络进行预测 \n",
    "        loss = cost(predict, yy) #计算损失函数（交叉熵） \n",
    "        optimizer.zero_grad() #清空梯度 \n",
    "        loss.backward() #开始反向传播 \n",
    "        optimizer.step() #开始更新梯度 \n",
    "        \n",
    "        # add loss & error rate of this batch\n",
    "        batch_loss.append(loss.data.numpy())\n",
    "        batch_error.append(error_rate(predict, yy))\n",
    "        \n",
    "    # append loss and error\n",
    "    losses.append(np.mean(batch_loss))\n",
    "    errors.append(np.mean(batch_error))\n",
    "        \n",
    "#  每隔100步输出一下损失值（loss） \n",
    "    if i % 100==0:\n",
    "        print(i, np.mean(batch_loss), np.mean(batch_error))\n"
   ]
  },
  {
   "cell_type": "markdown",
   "metadata": {},
   "source": [
    "### 请在这里写下你自己的回答"
   ]
  },
  {
   "cell_type": "code",
   "execution_count": 64,
   "metadata": {},
   "outputs": [
    {
     "data": {
      "image/png": "[encoded data removed]",
      "text/plain": [
       "<matplotlib.figure.Figure at 0x7f82a18eeb38>"
      ]
     },
     "metadata": {},
     "output_type": "display_data"
    }
   ],
   "source": [
    "# 请绘制上面训练过程的损失函数曲线，以及'''错误率曲线'''！！！\n",
    "\n",
    "plt.plot(np.arange(len(losses)), losses, label='Cross Entropy')\n",
    "plt.plot(np.arange(len(errors)), errors, label='Error Rate')\n",
    "plt.xlabel('epoch')\n",
    "plt.ylabel('Cross Entropy/Error Rate')\n",
    "plt.legend()\n",
    "plt.show()"
   ]
  },
  {
   "cell_type": "code",
   "execution_count": null,
   "metadata": {
    "collapsed": true
   },
   "outputs": [],
   "source": []
  },
  {
   "cell_type": "code",
   "execution_count": null,
   "metadata": {
    "collapsed": true
   },
   "outputs": [],
   "source": []
  },
  {
   "cell_type": "code",
   "execution_count": 90,
   "metadata": {
    "collapsed": true
   },
   "outputs": [],
   "source": [
    "# 提示：需要考虑好网络有几层，每一层有多少个节点\n",
    "net = torch.nn.Sequential(\n",
    "    torch.nn.Linear(784, 196),\n",
    "    torch.nn.LeakyReLU(),\n",
    "    torch.nn.Linear(196, 28),\n",
    "    torch.nn.LeakyReLU(),\n",
    "    torch.nn.Linear(28, 10),\n",
    "    torch.nn.LeakyReLU(),\n",
    "    torch.nn.LogSoftmax()\n",
    ")\n",
    "\n",
    "# 问题：如果要增加新的神经网络层怎么办？\n"
   ]
  },
  {
   "cell_type": "code",
   "execution_count": 91,
   "metadata": {
    "collapsed": true
   },
   "outputs": [],
   "source": [
    "cost = torch.nn.CrossEntropyLoss()\n",
    "optimizer = torch.optim.Adagrad(net.parameters()) #SGD(net.parameters(), lr = 0.1)"
   ]
  },
  {
   "cell_type": "code",
   "execution_count": 92,
   "metadata": {
    "collapsed": true
   },
   "outputs": [],
   "source": [
    "def error_rate(predictions_raw, labels_raw):\n",
    "    predictions = np.argmax(predictions_raw.data.numpy(), axis=1)\n",
    "    labels = labels_raw.data.numpy()\n",
    "    equals = np.sum(predictions == labels)\n",
    "    acc = equals / float(predictions.shape[0])\n",
    "    err = 1.0 - acc\n",
    "    return err"
   ]
  },
  {
   "cell_type": "code",
   "execution_count": 93,
   "metadata": {},
   "outputs": [
    {
     "name": "stdout",
     "output_type": "stream",
     "text": [
      "0 0.523072 0.157982409382\n",
      "100 0.019739 0.00383684257285\n",
      "200 0.00740951 0.000671863894812\n",
      "300 0.00410279 0.000372023809524\n",
      "400 0.00275819 0.000338708244492\n",
      "500 0.00210723 0.000322050461976\n",
      "600 0.00175104 0.00030539267946\n",
      "700 0.00152276 0.00030539267946\n",
      "800 0.00129579 0.000288734896944\n",
      "900 0.00118508 0.000288734896944\n"
     ]
    }
   ],
   "source": [
    "# 提示：有两重循环，最外面层是多少次的训练，里层为对数据批次（batch）的循环\n",
    "losses = []\n",
    "errors = []\n",
    "\n",
    "# 神经网络训练循环\n",
    "batch_size = 128\n",
    "for i in range(1000):\n",
    "#   每128个样本点被划分为一个撮，在循环的时候一撮一撮地读取 \n",
    "    batch_loss = []\n",
    "    batch_error = []\n",
    "#   start和end分别是提取一个batch数据的起始和终止下标 \n",
    "    for start in range(0, len(train_X), batch_size):\n",
    "        end = (start + batch_size) if (start + batch_size) < len(train_X) else len(train_X)\n",
    "        xx = Variable(torch.FloatTensor(train_X[start:end])) #从训练数据train_X中提取数据 \n",
    "        yy = Variable(torch.LongTensor(train_Y[start:end]))  #从训练数据train_Y中提取标签，注意标签数据为整数，因此相应的tensor也要为long\n",
    "        predict = net(xx) #用神经网络进行预测 \n",
    "        loss = cost(predict, yy) #计算损失函数（交叉熵） \n",
    "        optimizer.zero_grad() #清空梯度 \n",
    "        loss.backward() #开始反向传播 \n",
    "        optimizer.step() #开始更新梯度 \n",
    "        \n",
    "        # add loss & error rate of this batch\n",
    "        batch_loss.append(loss.data.numpy())\n",
    "        batch_error.append(error_rate(predict, yy))\n",
    "        \n",
    "    # append loss and error\n",
    "    losses.append(np.mean(batch_loss))\n",
    "    errors.append(np.mean(batch_error))\n",
    "        \n",
    "#  每隔100步输出一下损失值（loss） \n",
    "    if i % 100==0:\n",
    "        print(i, np.mean(batch_loss), np.mean(batch_error))\n"
   ]
  },
  {
   "cell_type": "code",
   "execution_count": 94,
   "metadata": {},
   "outputs": [
    {
     "data": {
      "image/png": "[encoded data removed]",
      "text/plain": [
       "<matplotlib.figure.Figure at 0x7f82a1564eb8>"
      ]
     },
     "metadata": {},
     "output_type": "display_data"
    }
   ],
   "source": [
    "# 请绘制上面训练过程的损失函数曲线，以及'''错误率曲线'''！！！\n",
    "\n",
    "plt.plot(np.arange(len(losses)), losses, label='Cross Entropy')\n",
    "plt.plot(np.arange(len(errors)), errors, label='Error Rate')\n",
    "plt.xlabel('epoch')\n",
    "plt.ylabel('Cross Entropy/Error Rate')\n",
    "plt.legend()\n",
    "plt.show()"
   ]
  },
  {
   "cell_type": "code",
   "execution_count": 95,
   "metadata": {
    "scrolled": true
   },
   "outputs": [
    {
     "name": "stdout",
     "output_type": "stream",
     "text": [
      "1 0.0198\n",
      "2 0.0199554294976\n",
      "3 0.0200123152709\n",
      "4 0.0198627287854\n",
      "5 0.0198145025295\n",
      "6 0.0196581196581\n",
      "7 0.0196057192374\n",
      "8 0.0197715289982\n",
      "9 0.0194964349376\n",
      "10 0.0195524412297\n",
      "11 0.0191513761468\n",
      "12 0.0189711359404\n",
      "13 0.0189035916824\n",
      "14 0.0189539347409\n",
      "15 0.0188840155945\n",
      "16 0.0186881188119\n",
      "17 0.0181086519115\n",
      "18 0.0176380368098\n",
      "19 0.0174116424116\n",
      "20 0.0170454545455\n",
      "21 0.0172043010753\n",
      "22 0.0168216630197\n",
      "23 0.0169821826281\n",
      "24 0.0165816326531\n",
      "25 0.0165993071594\n",
      "26 0.0166176470588\n",
      "27 0.0169364508393\n",
      "28 0.0169621026895\n",
      "29 0.0165211970075\n",
      "30 0.0165394402036\n",
      "31 0.0157467532468\n",
      "32 0.0155835543767\n",
      "33 0.015243902439\n",
      "34 0.0145429362881\n",
      "35 0.0143413597734\n",
      "36 0.0144927536232\n",
      "37 0.0135385756677\n",
      "38 0.0136778115502\n",
      "39 0.0128504672897\n",
      "40 0.0119808306709\n",
      "41 0.0120901639344\n",
      "42 0.0119949494949\n",
      "43 0.0118944636678\n",
      "44 0.0120106761566\n",
      "45 0.0121336996337\n",
      "46 0.0115566037736\n",
      "47 0.0119163424125\n",
      "48 0.0107931726908\n",
      "49 0.010632780083\n",
      "50 0.0107296137339\n",
      "51 0.0111111111111\n",
      "52 0.0115207373272\n",
      "53 0.00956937799043\n",
      "54 0.00932835820896\n",
      "55 0.00939119170984\n",
      "56 0.0097972972973\n",
      "57 0.0102401129944\n",
      "58 0.00998520710059\n",
      "59 0.0104813664596\n",
      "60 0.0110294117647\n",
      "61 0.0116379310345\n",
      "62 0.0123175182482\n",
      "63 0.0121124031008\n",
      "64 0.0129132231405\n",
      "65 0.0132743362832\n",
      "66 0.0130952380952\n",
      "67 0.0135309278351\n",
      "68 0.0126404494382\n",
      "69 0.0138888888889\n",
      "70 0.0154109589041\n",
      "71 0.0173076923077\n",
      "72 0.0164473684211\n",
      "73 0.0191326530612\n",
      "74 0.0213414634146\n",
      "75 0.0246212121212\n",
      "76 0.0275\n",
      "77 0.0294117647059\n",
      "78 0.0138888888889\n",
      "79 0.0\n",
      "平均错误率：1.5313%\n"
     ]
    }
   ],
   "source": [
    "# 分多个batch计算测试结果\n",
    "errors = []\n",
    "losses = []\n",
    "i = 0\n",
    "for start in range(0, len(test_X), batch_size):\n",
    "    end1 = (start + batch_size) if start + batch_size < len(test_X) else len(test_X)\n",
    "    i += 1\n",
    "    x = Variable(torch.FloatTensor(test_X[start:end]))\n",
    "    y = Variable(torch.LongTensor(test_Y[start:end]))\n",
    "    predictions = net(x)\n",
    "    loss = cost(predictions, y)\n",
    "    err_rate = error_rate(predictions, y)\n",
    "    errors.append(err_rate)\n",
    "    losses.append(loss.data.numpy())\n",
    "    print(i, err_rate)\n",
    "\n",
    "print('平均错误率：%.4f%%' % (np.mean(errors)*100))"
   ]
  },
  {
   "cell_type": "code",
   "execution_count": null,
   "metadata": {
    "collapsed": true
   },
   "outputs": [],
   "source": []
  },
  {
   "cell_type": "code",
   "execution_count": null,
   "metadata": {
    "collapsed": true
   },
   "outputs": [],
   "source": []
  },
  {
   "cell_type": "code",
   "execution_count": 96,
   "metadata": {
    "collapsed": true
   },
   "outputs": [],
   "source": [
    "# 提示：需要考虑好网络有几层，每一层有多少个节点\n",
    "net = torch.nn.Sequential(\n",
    "    torch.nn.Linear(784, 196),\n",
    "    torch.nn.Tanh(),\n",
    "    torch.nn.Linear(196, 28),\n",
    "    torch.nn.Tanh(),\n",
    "    torch.nn.Linear(28, 10),\n",
    "    torch.nn.Tanh(),\n",
    "    torch.nn.LogSoftmax()\n",
    ")\n",
    "\n",
    "# 问题：如果要增加新的神经网络层怎么办？\n"
   ]
  },
  {
   "cell_type": "code",
   "execution_count": 97,
   "metadata": {
    "collapsed": true
   },
   "outputs": [],
   "source": [
    "cost = torch.nn.CrossEntropyLoss()\n",
    "optimizer = torch.optim.Adagrad(net.parameters()) #SGD(net.parameters(), lr = 0.1)"
   ]
  },
  {
   "cell_type": "code",
   "execution_count": 98,
   "metadata": {
    "collapsed": true
   },
   "outputs": [],
   "source": [
    "def error_rate(predictions_raw, labels_raw):\n",
    "    predictions = np.argmax(predictions_raw.data.numpy(), axis=1)\n",
    "    labels = labels_raw.data.numpy()\n",
    "    equals = np.sum(predictions == labels)\n",
    "    acc = equals / float(predictions.shape[0])\n",
    "    err = 1.0 - acc\n",
    "    return err"
   ]
  },
  {
   "cell_type": "code",
   "execution_count": 99,
   "metadata": {},
   "outputs": [
    {
     "name": "stdout",
     "output_type": "stream",
     "text": [
      "0 1.19356 0.146571828358\n",
      "100 0.80873 0.0051361496091\n",
      "200 0.803599 0.00315387348969\n",
      "300 0.801868 0.0025375355366\n",
      "400 0.801127 0.00228766879886\n",
      "500 0.8007 0.00208777540867\n",
      "600 0.800449 0.00197117093106\n",
      "700 0.800222 0.00188788201848\n",
      "800 0.800109 0.00187122423596\n",
      "900 0.800032 0.00187122423596\n"
     ]
    }
   ],
   "source": [
    "# 提示：有两重循环，最外面层是多少次的训练，里层为对数据批次（batch）的循环\n",
    "losses = []\n",
    "errors = []\n",
    "\n",
    "# 神经网络训练循环\n",
    "batch_size = 128\n",
    "for i in range(1000):\n",
    "#   每128个样本点被划分为一个撮，在循环的时候一撮一撮地读取 \n",
    "    batch_loss = []\n",
    "    batch_error = []\n",
    "#   start和end分别是提取一个batch数据的起始和终止下标 \n",
    "    for start in range(0, len(train_X), batch_size):\n",
    "        end = (start + batch_size) if (start + batch_size) < len(train_X) else len(train_X)\n",
    "        xx = Variable(torch.FloatTensor(train_X[start:end])) #从训练数据train_X中提取数据 \n",
    "        yy = Variable(torch.LongTensor(train_Y[start:end]))  #从训练数据train_Y中提取标签，注意标签数据为整数，因此相应的tensor也要为long\n",
    "        predict = net(xx) #用神经网络进行预测 \n",
    "        loss = cost(predict, yy) #计算损失函数（交叉熵） \n",
    "        optimizer.zero_grad() #清空梯度 \n",
    "        loss.backward() #开始反向传播 \n",
    "        optimizer.step() #开始更新梯度 \n",
    "        \n",
    "        # add loss & error rate of this batch\n",
    "        batch_loss.append(loss.data.numpy())\n",
    "        batch_error.append(error_rate(predict, yy))\n",
    "        \n",
    "    # append loss and error\n",
    "    losses.append(np.mean(batch_loss))\n",
    "    errors.append(np.mean(batch_error))\n",
    "        \n",
    "#  每隔100步输出一下损失值（loss） \n",
    "    if i % 100==0:\n",
    "        print(i, np.mean(batch_loss), np.mean(batch_error))\n"
   ]
  },
  {
   "cell_type": "code",
   "execution_count": 100,
   "metadata": {},
   "outputs": [
    {
     "data": {
      "image/png": "[encoded data removed]",
      "text/plain": [
       "<matplotlib.figure.Figure at 0x7f82a9dbcb00>"
      ]
     },
     "metadata": {},
     "output_type": "display_data"
    }
   ],
   "source": [
    "# 请绘制上面训练过程的损失函数曲线，以及'''错误率曲线'''！！！\n",
    "\n",
    "plt.plot(np.arange(len(losses)), losses, label='Cross Entropy')\n",
    "plt.plot(np.arange(len(errors)), errors, label='Error Rate')\n",
    "plt.xlabel('epoch')\n",
    "plt.ylabel('Cross Entropy/Error Rate')\n",
    "plt.legend()\n",
    "plt.show()"
   ]
  },
  {
   "cell_type": "code",
   "execution_count": 101,
   "metadata": {
    "scrolled": true
   },
   "outputs": [
    {
     "name": "stdout",
     "output_type": "stream",
     "text": [
      "1 0.0183\n",
      "2 0.0184359805511\n",
      "3 0.0185755336617\n",
      "4 0.0184068219634\n",
      "5 0.0183389544688\n",
      "6 0.0183760683761\n",
      "7 0.018089254766\n",
      "8 0.0182337434095\n",
      "9 0.0180481283422\n",
      "10 0.0179701627486\n",
      "11 0.0175458715596\n",
      "12 0.0173417132216\n",
      "13 0.0170132325142\n",
      "14 0.0167946257198\n",
      "15 0.0162037037037\n",
      "16 0.0163366336634\n",
      "17 0.0159708249497\n",
      "18 0.0153374233129\n",
      "19 0.0150727650728\n",
      "20 0.0150634249471\n",
      "21 0.015188172043\n",
      "22 0.0151805251641\n",
      "23 0.0153118040089\n",
      "24 0.015022675737\n",
      "25 0.0148672055427\n",
      "26 0.015\n",
      "27 0.0151378896882\n",
      "28 0.0149755501222\n",
      "29 0.0143391521197\n",
      "30 0.0144720101781\n",
      "31 0.0136363636364\n",
      "32 0.0132625994695\n",
      "33 0.0132113821138\n",
      "34 0.012811634349\n",
      "35 0.0125708215297\n",
      "36 0.0126811594203\n",
      "37 0.0124258160237\n",
      "38 0.0123480243161\n",
      "39 0.0120716510903\n",
      "40 0.0117811501597\n",
      "41 0.0118852459016\n",
      "42 0.0119949494949\n",
      "43 0.0121107266436\n",
      "44 0.0122330960854\n",
      "45 0.0125915750916\n",
      "46 0.0120283018868\n",
      "47 0.0119163424125\n",
      "48 0.0105421686747\n",
      "49 0.010632780083\n",
      "50 0.0107296137339\n",
      "51 0.0111111111111\n",
      "52 0.011232718894\n",
      "53 0.00927033492823\n",
      "54 0.00901741293532\n",
      "55 0.00939119170984\n",
      "56 0.0097972972973\n",
      "57 0.0102401129944\n",
      "58 0.0103550295858\n",
      "59 0.0108695652174\n",
      "60 0.0114379084967\n",
      "61 0.0120689655172\n",
      "62 0.0127737226277\n",
      "63 0.0130813953488\n",
      "64 0.0139462809917\n",
      "65 0.0143805309735\n",
      "66 0.0142857142857\n",
      "67 0.0148195876289\n",
      "68 0.0147471910112\n",
      "69 0.0162037037037\n",
      "70 0.0179794520548\n",
      "71 0.0201923076923\n",
      "72 0.0186403508772\n",
      "73 0.0216836734694\n",
      "74 0.0243902439024\n",
      "75 0.030303030303\n",
      "76 0.0375\n",
      "77 0.0367647058824\n",
      "78 0.0138888888889\n",
      "79 0.0\n",
      "平均错误率：1.5048%\n"
     ]
    }
   ],
   "source": [
    "# 分多个batch计算测试结果\n",
    "errors = []\n",
    "losses = []\n",
    "i = 0\n",
    "for start in range(0, len(test_X), batch_size):\n",
    "    end1 = (start + batch_size) if start + batch_size < len(test_X) else len(test_X)\n",
    "    i += 1\n",
    "    x = Variable(torch.FloatTensor(test_X[start:end]))\n",
    "    y = Variable(torch.LongTensor(test_Y[start:end]))\n",
    "    predictions = net(x)\n",
    "    loss = cost(predictions, y)\n",
    "    err_rate = error_rate(predictions, y)\n",
    "    errors.append(err_rate)\n",
    "    losses.append(loss.data.numpy())\n",
    "    print(i, err_rate)\n",
    "\n",
    "print('平均错误率：%.4f%%' % (np.mean(errors)*100))"
   ]
  },
  {
   "cell_type": "code",
   "execution_count": null,
   "metadata": {
    "collapsed": true
   },
   "outputs": [],
   "source": []
  },
  {
   "cell_type": "code",
   "execution_count": null,
   "metadata": {
    "collapsed": true
   },
   "outputs": [],
   "source": []
  },
  {
   "cell_type": "code",
   "execution_count": null,
   "metadata": {
    "collapsed": true
   },
   "outputs": [],
   "source": []
  },
  {
   "cell_type": "code",
   "execution_count": 104,
   "metadata": {
    "collapsed": true
   },
   "outputs": [],
   "source": [
    "# 提示：需要考虑好网络有几层，每一层有多少个节点\n",
    "net = torch.nn.Sequential(\n",
    "    torch.nn.Linear(784, 196),\n",
    "    torch.nn.LeakyReLU(),\n",
    "    torch.nn.Linear(196, 28),\n",
    "    torch.nn.LeakyReLU(),\n",
    "    torch.nn.Linear(28, 10),\n",
    "    torch.nn.LeakyReLU(),\n",
    "    torch.nn.LogSoftmax()\n",
    ")\n",
    "\n",
    "# 问题：如果要增加新的神经网络层怎么办？\n"
   ]
  },
  {
   "cell_type": "code",
   "execution_count": 105,
   "metadata": {
    "collapsed": true
   },
   "outputs": [],
   "source": [
    "cost = torch.nn.CrossEntropyLoss()\n",
    "optimizer = torch.optim.Adam(net.parameters()) #SGD(net.parameters(), lr = 0.1)"
   ]
  },
  {
   "cell_type": "code",
   "execution_count": 106,
   "metadata": {
    "collapsed": true
   },
   "outputs": [],
   "source": [
    "def error_rate(predictions_raw, labels_raw):\n",
    "    predictions = np.argmax(predictions_raw.data.numpy(), axis=1)\n",
    "    labels = labels_raw.data.numpy()\n",
    "    equals = np.sum(predictions == labels)\n",
    "    acc = equals / float(predictions.shape[0])\n",
    "    err = 1.0 - acc\n",
    "    return err"
   ]
  },
  {
   "cell_type": "code",
   "execution_count": 107,
   "metadata": {},
   "outputs": [
    {
     "name": "stdout",
     "output_type": "stream",
     "text": [
      "0 0.648851 0.198338663824\n",
      "100 0.00837005 0.00252087775409\n",
      "200 0.00644914 0.00150475302061\n",
      "300 0.00579289 0.00143812189055\n",
      "400 0.00310663 0.000788468372424\n",
      "500 0.000127536 3.8868159204e-05\n",
      "600 0.00283446 0.0005552594172\n",
      "700 0.00256931 0.00052749644634\n",
      "800 0.00153441 0.000355366027008\n",
      "900 1.83602e-11 0.0\n"
     ]
    }
   ],
   "source": [
    "# 提示：有两重循环，最外面层是多少次的训练，里层为对数据批次（batch）的循环\n",
    "losses = []\n",
    "errors = []\n",
    "\n",
    "# 神经网络训练循环\n",
    "batch_size = 128\n",
    "for i in range(1000):\n",
    "#   每128个样本点被划分为一个撮，在循环的时候一撮一撮地读取 \n",
    "    batch_loss = []\n",
    "    batch_error = []\n",
    "#   start和end分别是提取一个batch数据的起始和终止下标 \n",
    "    for start in range(0, len(train_X), batch_size):\n",
    "        end = (start + batch_size) if (start + batch_size) < len(train_X) else len(train_X)\n",
    "        xx = Variable(torch.FloatTensor(train_X[start:end])) #从训练数据train_X中提取数据 \n",
    "        yy = Variable(torch.LongTensor(train_Y[start:end]))  #从训练数据train_Y中提取标签，注意标签数据为整数，因此相应的tensor也要为long\n",
    "        predict = net(xx) #用神经网络进行预测 \n",
    "        loss = cost(predict, yy) #计算损失函数（交叉熵） \n",
    "        optimizer.zero_grad() #清空梯度 \n",
    "        loss.backward() #开始反向传播 \n",
    "        optimizer.step() #开始更新梯度 \n",
    "        \n",
    "        # add loss & error rate of this batch\n",
    "        batch_loss.append(loss.data.numpy())\n",
    "        batch_error.append(error_rate(predict, yy))\n",
    "        \n",
    "    # append loss and error\n",
    "    losses.append(np.mean(batch_loss))\n",
    "    errors.append(np.mean(batch_error))\n",
    "        \n",
    "#  每隔100步输出一下损失值（loss） \n",
    "    if i % 100==0:\n",
    "        print(i, np.mean(batch_loss), np.mean(batch_error))\n"
   ]
  },
  {
   "cell_type": "code",
   "execution_count": 108,
   "metadata": {},
   "outputs": [
    {
     "data": {
      "image/png": "[encoded data removed]",
      "text/plain": [
       "<matplotlib.figure.Figure at 0x7f82a1570240>"
      ]
     },
     "metadata": {},
     "output_type": "display_data"
    }
   ],
   "source": [
    "# 请绘制上面训练过程的损失函数曲线，以及'''错误率曲线'''！！！\n",
    "\n",
    "plt.plot(np.arange(len(losses)), losses, label='Cross Entropy')\n",
    "plt.plot(np.arange(len(errors)), errors, label='Error Rate')\n",
    "plt.xlabel('epoch')\n",
    "plt.ylabel('Cross Entropy/Error Rate')\n",
    "plt.legend()\n",
    "plt.show()"
   ]
  },
  {
   "cell_type": "code",
   "execution_count": 109,
   "metadata": {
    "scrolled": true
   },
   "outputs": [
    {
     "name": "stdout",
     "output_type": "stream",
     "text": [
      "1 0.0176\n",
      "2 0.0176256077796\n",
      "3 0.0176518883415\n",
      "4 0.0177828618968\n",
      "5 0.0178119730185\n",
      "6 0.0179487179487\n",
      "7 0.0178726169844\n",
      "8 0.0179042179262\n",
      "9 0.0176024955437\n",
      "10 0.0175180831826\n",
      "11 0.0169724770642\n",
      "12 0.0164106145251\n",
      "13 0.015949905482\n",
      "14 0.0158349328215\n",
      "15 0.0154727095517\n",
      "16 0.0154702970297\n",
      "17 0.0152162977867\n",
      "18 0.0148261758691\n",
      "19 0.0148128898129\n",
      "20 0.0149312896406\n",
      "21 0.0149193548387\n",
      "22 0.0147702407002\n",
      "23 0.0147550111359\n",
      "24 0.0141723356009\n",
      "25 0.013856812933\n",
      "26 0.0136764705882\n",
      "27 0.0137889688249\n",
      "28 0.0132946210269\n",
      "29 0.0129364089776\n",
      "30 0.0128816793893\n",
      "31 0.012987012987\n",
      "32 0.0127652519894\n",
      "33 0.0127032520325\n",
      "34 0.0122922437673\n",
      "35 0.012216713881\n",
      "36 0.0119565217391\n",
      "37 0.0111275964392\n",
      "38 0.0108282674772\n",
      "39 0.0103193146417\n",
      "40 0.00978434504792\n",
      "41 0.00983606557377\n",
      "42 0.00989057239057\n",
      "43 0.0101643598616\n",
      "44 0.010231316726\n",
      "45 0.0105311355311\n",
      "46 0.0103773584906\n",
      "47 0.0104571984436\n",
      "48 0.00878514056225\n",
      "49 0.00907676348548\n",
      "50 0.00912017167382\n",
      "51 0.00944444444444\n",
      "52 0.00979262672811\n",
      "53 0.00837320574163\n",
      "54 0.00808457711443\n",
      "55 0.00777202072539\n",
      "56 0.00777027027027\n",
      "57 0.00812146892655\n",
      "58 0.00813609467456\n",
      "59 0.00854037267081\n",
      "60 0.00898692810458\n",
      "61 0.00948275862069\n",
      "62 0.0100364963504\n",
      "63 0.0101744186047\n",
      "64 0.010847107438\n",
      "65 0.0110619469027\n",
      "66 0.0107142857143\n",
      "67 0.0109536082474\n",
      "68 0.0112359550562\n",
      "69 0.0123456790123\n",
      "70 0.013698630137\n",
      "71 0.0153846153846\n",
      "72 0.0131578947368\n",
      "73 0.015306122449\n",
      "74 0.0182926829268\n",
      "75 0.0227272727273\n",
      "76 0.0275\n",
      "77 0.0220588235294\n",
      "78 0.00694444444444\n",
      "79 0.0\n",
      "平均错误率：1.2970%\n"
     ]
    }
   ],
   "source": [
    "# 分多个batch计算测试结果\n",
    "errors = []\n",
    "losses = []\n",
    "i = 0\n",
    "for start in range(0, len(test_X), batch_size):\n",
    "    end1 = (start + batch_size) if start + batch_size < len(test_X) else len(test_X)\n",
    "    i += 1\n",
    "    x = Variable(torch.FloatTensor(test_X[start:end]))\n",
    "    y = Variable(torch.LongTensor(test_Y[start:end]))\n",
    "    predictions = net(x)\n",
    "    loss = cost(predictions, y)\n",
    "    err_rate = error_rate(predictions, y)\n",
    "    errors.append(err_rate)\n",
    "    losses.append(loss.data.numpy())\n",
    "    print(i, err_rate)\n",
    "\n",
    "print('平均错误率：%.4f%%' % (np.mean(errors)*100))"
   ]
  },
  {
   "cell_type": "code",
   "execution_count": null,
   "metadata": {
    "collapsed": true
   },
   "outputs": [],
   "source": []
  },
  {
   "cell_type": "code",
   "execution_count": null,
   "metadata": {
    "collapsed": true
   },
   "outputs": [],
   "source": []
  },
  {
   "cell_type": "code",
   "execution_count": 152,
   "metadata": {
    "collapsed": true
   },
   "outputs": [],
   "source": [
    "# 提示：需要考虑好网络有几层，每一层有多少个节点\n",
    "net = torch.nn.Sequential(\n",
    "    torch.nn.Linear(784, 196),\n",
    "    torch.nn.LeakyReLU(),\n",
    "    torch.nn.BatchNorm1d(196),\n",
    "    torch.nn.Linear(196, 28),\n",
    "    torch.nn.LeakyReLU(),\n",
    "    torch.nn.BatchNorm1d(28),\n",
    "    torch.nn.Linear(28, 10),\n",
    "    torch.nn.LeakyReLU(),\n",
    "    torch.nn.LogSoftmax()\n",
    ")\n",
    "\n",
    "# 问题：如果要增加新的神经网络层怎么办？\n"
   ]
  },
  {
   "cell_type": "code",
   "execution_count": 153,
   "metadata": {
    "collapsed": true
   },
   "outputs": [],
   "source": [
    "cost = torch.nn.CrossEntropyLoss()\n",
    "optimizer = torch.optim.Adam(net.parameters()) #SGD(net.parameters(), lr = 0.1)"
   ]
  },
  {
   "cell_type": "code",
   "execution_count": 154,
   "metadata": {
    "collapsed": true
   },
   "outputs": [],
   "source": [
    "def error_rate(predictions_raw, labels_raw):\n",
    "    predictions = np.argmax(predictions_raw.data.numpy(), axis=1)\n",
    "    labels = labels_raw.data.numpy()\n",
    "    equals = np.sum(predictions == labels)\n",
    "    acc = equals / float(predictions.shape[0])\n",
    "    err = 1.0 - acc\n",
    "    return err"
   ]
  },
  {
   "cell_type": "code",
   "execution_count": 155,
   "metadata": {},
   "outputs": [
    {
     "name": "stdout",
     "output_type": "stream",
     "text": [
      "0 0.594026 0.106626465885\n",
      "100 0.00078785 0.000116604477612\n",
      "200 0.000280514 6.6631130064e-05\n",
      "300 0.000397845 3.3315565032e-05\n",
      "400 2.86046e-06 0.0\n",
      "500 1.83116e-10 0.0\n",
      "600 7.14719e-11 0.0\n",
      "700 4.40263e-11 0.0\n",
      "800 3.16721e-11 0.0\n",
      "900 2.4671e-11 0.0\n"
     ]
    }
   ],
   "source": [
    "net.train()\n",
    "\n",
    "# 提示：有两重循环，最外面层是多少次的训练，里层为对数据批次（batch）的循环\n",
    "losses = []\n",
    "errors = []\n",
    "\n",
    "# 神经网络训练循环\n",
    "batch_size = 128\n",
    "for i in range(1000):\n",
    "#   每128个样本点被划分为一个撮，在循环的时候一撮一撮地读取 \n",
    "    batch_loss = []\n",
    "    batch_error = []\n",
    "#   start和end分别是提取一个batch数据的起始和终止下标 \n",
    "    for start in range(0, len(train_X), batch_size):\n",
    "        end = (start + batch_size) if (start + batch_size) < len(train_X) else len(train_X)\n",
    "        xx = Variable(torch.FloatTensor(train_X[start:end])) #从训练数据train_X中提取数据 \n",
    "        yy = Variable(torch.LongTensor(train_Y[start:end]))  #从训练数据train_Y中提取标签，注意标签数据为整数，因此相应的tensor也要为long\n",
    "        predict = net(xx) #用神经网络进行预测 \n",
    "        loss = cost(predict, yy) #计算损失函数（交叉熵） \n",
    "        optimizer.zero_grad() #清空梯度 \n",
    "        loss.backward() #开始反向传播 \n",
    "        optimizer.step() #开始更新梯度 \n",
    "        \n",
    "        # add loss & error rate of this batch\n",
    "        batch_loss.append(loss.data.numpy())\n",
    "        batch_error.append(error_rate(predict, yy))\n",
    "        \n",
    "    # append loss and error\n",
    "    losses.append(np.mean(batch_loss))\n",
    "    errors.append(np.mean(batch_error))\n",
    "        \n",
    "#  每隔100步输出一下损失值（loss） \n",
    "    if i % 100==0:\n",
    "        print(i, np.mean(batch_loss), np.mean(batch_error))\n"
   ]
  },
  {
   "cell_type": "code",
   "execution_count": 156,
   "metadata": {},
   "outputs": [
    {
     "data": {
      "image/png": "[encoded data removed]",
      "text/plain": [
       "<matplotlib.figure.Figure at 0x7f82a18f20b8>"
      ]
     },
     "metadata": {},
     "output_type": "display_data"
    }
   ],
   "source": [
    "# 请绘制上面训练过程的损失函数曲线，以及'''错误率曲线'''！！！\n",
    "\n",
    "plt.plot(np.arange(len(losses)), losses, label='Cross Entropy')\n",
    "plt.plot(np.arange(len(errors)), errors, label='Error Rate')\n",
    "plt.xlabel('epoch')\n",
    "plt.ylabel('Cross Entropy/Error Rate')\n",
    "plt.legend()\n",
    "plt.show()"
   ]
  },
  {
   "cell_type": "code",
   "execution_count": 157,
   "metadata": {
    "scrolled": true
   },
   "outputs": [
    {
     "name": "stdout",
     "output_type": "stream",
     "text": [
      "1 0.0291\n",
      "2 0.0291734197731\n",
      "3 0.0293513957307\n",
      "4 0.0294301164725\n",
      "5 0.029194772344\n",
      "6 0.0291666666667\n",
      "7 0.0289211438475\n",
      "8 0.0292179261863\n",
      "9 0.029077540107\n",
      "10 0.0289330922242\n",
      "11 0.0285550458716\n",
      "12 0.0285148975791\n",
      "13 0.0281190926276\n",
      "14 0.0280710172745\n",
      "15 0.0275341130604\n",
      "16 0.0274752475248\n",
      "17 0.0271629778672\n",
      "18 0.0264570552147\n",
      "19 0.0261174636175\n",
      "20 0.025766384778\n",
      "21 0.0258064516129\n",
      "22 0.0254376367615\n",
      "23 0.0256124721604\n",
      "24 0.0250850340136\n",
      "25 0.0251154734411\n",
      "26 0.025\n",
      "27 0.025329736211\n",
      "28 0.0252139364303\n",
      "29 0.024470074813\n",
      "30 0.0244910941476\n",
      "31 0.0237012987013\n",
      "32 0.0230437665782\n",
      "33 0.0220189701897\n",
      "34 0.0216412742382\n",
      "35 0.0212464589235\n",
      "36 0.020652173913\n",
      "37 0.0196587537092\n",
      "38 0.0199468085106\n",
      "39 0.0192757009346\n",
      "40 0.0187699680511\n",
      "41 0.0190573770492\n",
      "42 0.0193602693603\n",
      "43 0.0196799307958\n",
      "44 0.0197953736655\n",
      "45 0.0199175824176\n",
      "46 0.0193396226415\n",
      "47 0.0194552529183\n",
      "48 0.0183232931727\n",
      "49 0.018153526971\n",
      "50 0.018508583691\n",
      "51 0.0188888888889\n",
      "52 0.019297235023\n",
      "53 0.0170454545455\n",
      "54 0.0167910447761\n",
      "55 0.0174870466321\n",
      "56 0.0179054054054\n",
      "57 0.0187146892655\n",
      "58 0.0188609467456\n",
      "59 0.019798136646\n",
      "60 0.0191993464052\n",
      "61 0.0198275862069\n",
      "62 0.0209854014599\n",
      "63 0.0208333333333\n",
      "64 0.0206611570248\n",
      "65 0.0215707964602\n",
      "66 0.0220238095238\n",
      "67 0.0238402061856\n",
      "68 0.0238764044944\n",
      "69 0.0262345679012\n",
      "70 0.0291095890411\n",
      "71 0.0326923076923\n",
      "72 0.0328947368421\n",
      "73 0.0357142857143\n",
      "74 0.0426829268293\n",
      "75 0.0511363636364\n",
      "76 0.065\n",
      "77 0.0661764705882\n",
      "78 0.0486111111111\n",
      "79 0.0\n",
      "平均错误率：2.5396%\n"
     ]
    }
   ],
   "source": [
    "net.eval()\n",
    "\n",
    "# 分多个batch计算测试结果\n",
    "errors = []\n",
    "losses = []\n",
    "i = 0\n",
    "for start in range(0, len(test_X), batch_size):\n",
    "    end1 = (start + batch_size) if start + batch_size < len(test_X) else len(test_X)\n",
    "    i += 1\n",
    "    x = Variable(torch.FloatTensor(test_X[start:end]))\n",
    "    y = Variable(torch.LongTensor(test_Y[start:end]))\n",
    "    predictions = net(x)\n",
    "    loss = cost(predictions, y)\n",
    "    err_rate = error_rate(predictions, y)\n",
    "    errors.append(err_rate)\n",
    "    losses.append(loss.data.numpy())\n",
    "    print(i, err_rate)\n",
    "\n",
    "print('平均错误率：%.4f%%' % (np.mean(errors)*100))"
   ]
  },
  {
   "cell_type": "code",
   "execution_count": null,
   "metadata": {
    "collapsed": true
   },
   "outputs": [],
   "source": []
  },
  {
   "cell_type": "code",
   "execution_count": null,
   "metadata": {
    "collapsed": true
   },
   "outputs": [],
   "source": []
  },
  {
   "cell_type": "code",
   "execution_count": 158,
   "metadata": {
    "collapsed": true
   },
   "outputs": [],
   "source": [
    "# 提示：需要考虑好网络有几层，每一层有多少个节点\n",
    "net = torch.nn.Sequential(\n",
    "    torch.nn.Linear(784, 56),\n",
    "    torch.nn.LeakyReLU(),\n",
    "    torch.nn.BatchNorm1d(56),\n",
    "    torch.nn.Linear(56, 28),\n",
    "    torch.nn.LeakyReLU(),\n",
    "    torch.nn.BatchNorm1d(28),\n",
    "    torch.nn.Linear(28, 14),\n",
    "    torch.nn.LeakyReLU(),\n",
    "    torch.nn.BatchNorm1d(14),\n",
    "    torch.nn.Linear(14, 10),\n",
    "    torch.nn.LeakyReLU(),\n",
    "    torch.nn.LogSoftmax()\n",
    ")\n",
    "\n",
    "# 问题：如果要增加新的神经网络层怎么办？\n"
   ]
  },
  {
   "cell_type": "code",
   "execution_count": 159,
   "metadata": {
    "collapsed": true
   },
   "outputs": [],
   "source": [
    "cost = torch.nn.CrossEntropyLoss()\n",
    "optimizer = torch.optim.Adam(net.parameters()) #SGD(net.parameters(), lr = 0.1)"
   ]
  },
  {
   "cell_type": "code",
   "execution_count": 160,
   "metadata": {
    "collapsed": true
   },
   "outputs": [],
   "source": [
    "def error_rate(predictions_raw, labels_raw):\n",
    "    predictions = np.argmax(predictions_raw.data.numpy(), axis=1)\n",
    "    labels = labels_raw.data.numpy()\n",
    "    equals = np.sum(predictions == labels)\n",
    "    acc = equals / float(predictions.shape[0])\n",
    "    err = 1.0 - acc\n",
    "    return err"
   ]
  },
  {
   "cell_type": "code",
   "execution_count": 161,
   "metadata": {},
   "outputs": [
    {
     "name": "stdout",
     "output_type": "stream",
     "text": [
      "0 0.846128 0.168815520611\n",
      "100 0.00617797 0.00173796197584\n",
      "200 0.00163341 0.000338708244492\n",
      "300 0.000798552 0.000272077114428\n",
      "400 0.000666779 0.000255419331912\n",
      "500 0.00060359 0.00022210376688\n",
      "600 0.00486476 0.00142146410803\n",
      "700 0.000632313 0.000205445984364\n",
      "800 0.000558437 0.000205445984364\n",
      "900 0.000796609 0.000238761549396\n"
     ]
    }
   ],
   "source": [
    "net.train()\n",
    "\n",
    "# 提示：有两重循环，最外面层是多少次的训练，里层为对数据批次（batch）的循环\n",
    "losses = []\n",
    "errors = []\n",
    "\n",
    "# 神经网络训练循环\n",
    "batch_size = 128\n",
    "for i in range(1000):\n",
    "#   每128个样本点被划分为一个撮，在循环的时候一撮一撮地读取 \n",
    "    batch_loss = []\n",
    "    batch_error = []\n",
    "#   start和end分别是提取一个batch数据的起始和终止下标 \n",
    "    for start in range(0, len(train_X), batch_size):\n",
    "        end = (start + batch_size) if (start + batch_size) < len(train_X) else len(train_X)\n",
    "        xx = Variable(torch.FloatTensor(train_X[start:end])) #从训练数据train_X中提取数据 \n",
    "        yy = Variable(torch.LongTensor(train_Y[start:end]))  #从训练数据train_Y中提取标签，注意标签数据为整数，因此相应的tensor也要为long\n",
    "        predict = net(xx) #用神经网络进行预测 \n",
    "        loss = cost(predict, yy) #计算损失函数（交叉熵） \n",
    "        optimizer.zero_grad() #清空梯度 \n",
    "        loss.backward() #开始反向传播 \n",
    "        optimizer.step() #开始更新梯度 \n",
    "        \n",
    "        # add loss & error rate of this batch\n",
    "        batch_loss.append(loss.data.numpy())\n",
    "        batch_error.append(error_rate(predict, yy))\n",
    "        \n",
    "    # append loss and error\n",
    "    losses.append(np.mean(batch_loss))\n",
    "    errors.append(np.mean(batch_error))\n",
    "        \n",
    "#  每隔100步输出一下损失值（loss） \n",
    "    if i % 100==0:\n",
    "        print(i, np.mean(batch_loss), np.mean(batch_error))\n"
   ]
  },
  {
   "cell_type": "code",
   "execution_count": 162,
   "metadata": {},
   "outputs": [
    {
     "data": {
      "image/png": "[encoded data removed]",
      "text/plain": [
       "<matplotlib.figure.Figure at 0x7f82a151bb38>"
      ]
     },
     "metadata": {},
     "output_type": "display_data"
    }
   ],
   "source": [
    "# 请绘制上面训练过程的损失函数曲线，以及'''错误率曲线'''！！！\n",
    "\n",
    "plt.plot(np.arange(len(losses)), losses, label='Cross Entropy')\n",
    "plt.plot(np.arange(len(errors)), errors, label='Error Rate')\n",
    "plt.xlabel('epoch')\n",
    "plt.ylabel('Cross Entropy/Error Rate')\n",
    "plt.legend()\n",
    "plt.show()"
   ]
  },
  {
   "cell_type": "code",
   "execution_count": 163,
   "metadata": {
    "scrolled": true
   },
   "outputs": [
    {
     "name": "stdout",
     "output_type": "stream",
     "text": [
      "1 0.0345\n",
      "2 0.0346434359806\n",
      "3 0.0344827586207\n",
      "4 0.0348377703827\n",
      "5 0.0348861720067\n",
      "6 0.0348290598291\n",
      "7 0.0347703639515\n",
      "8 0.035039543058\n",
      "9 0.0347593582888\n",
      "10 0.0345840867993\n",
      "11 0.0338302752294\n",
      "12 0.0336359404097\n",
      "13 0.0333175803403\n",
      "14 0.0331094049904\n",
      "15 0.0326510721248\n",
      "16 0.0326732673267\n",
      "17 0.0321931589537\n",
      "18 0.0316973415133\n",
      "19 0.0315748440748\n",
      "20 0.0311839323467\n",
      "21 0.0311827956989\n",
      "22 0.0309080962801\n",
      "23 0.0314587973274\n",
      "24 0.03089569161\n",
      "25 0.0310334872979\n",
      "26 0.0308823529412\n",
      "27 0.0305755395683\n",
      "28 0.0308679706601\n",
      "29 0.0299251870324\n",
      "30 0.0300572519084\n",
      "31 0.0290584415584\n",
      "32 0.028348806366\n",
      "33 0.0279471544715\n",
      "34 0.0278739612188\n",
      "35 0.0276203966006\n",
      "36 0.0275362318841\n",
      "37 0.0270771513353\n",
      "38 0.0269756838906\n",
      "39 0.0264797507788\n",
      "40 0.0257587859425\n",
      "41 0.0258196721311\n",
      "42 0.0256734006734\n",
      "43 0.0261678200692\n",
      "44 0.0266903914591\n",
      "45 0.0267857142857\n",
      "46 0.0266509433962\n",
      "47 0.0267509727626\n",
      "48 0.0256024096386\n",
      "49 0.024377593361\n",
      "50 0.024678111588\n",
      "51 0.0247222222222\n",
      "52 0.0253456221198\n",
      "53 0.0215311004785\n",
      "54 0.0214552238806\n",
      "55 0.0220207253886\n",
      "56 0.022972972973\n",
      "57 0.024011299435\n",
      "58 0.0240384615385\n",
      "59 0.0244565217391\n",
      "60 0.0241013071895\n",
      "61 0.0254310344828\n",
      "62 0.0269160583942\n",
      "63 0.0242248062016\n",
      "64 0.0237603305785\n",
      "65 0.0237831858407\n",
      "66 0.022619047619\n",
      "67 0.0225515463918\n",
      "68 0.0231741573034\n",
      "69 0.0246913580247\n",
      "70 0.027397260274\n",
      "71 0.0307692307692\n",
      "72 0.0296052631579\n",
      "73 0.0344387755102\n",
      "74 0.0381097560976\n",
      "75 0.0473484848485\n",
      "76 0.0525\n",
      "77 0.0514705882353\n",
      "78 0.0208333333333\n",
      "79 0.0\n",
      "平均错误率：2.9103%\n"
     ]
    }
   ],
   "source": [
    "net.eval()\n",
    "\n",
    "# 分多个batch计算测试结果\n",
    "errors = []\n",
    "losses = []\n",
    "i = 0\n",
    "for start in range(0, len(test_X), batch_size):\n",
    "    end1 = (start + batch_size) if start + batch_size < len(test_X) else len(test_X)\n",
    "    i += 1\n",
    "    x = Variable(torch.FloatTensor(test_X[start:end]))\n",
    "    y = Variable(torch.LongTensor(test_Y[start:end]))\n",
    "    predictions = net(x)\n",
    "    loss = cost(predictions, y)\n",
    "    err_rate = error_rate(predictions, y)\n",
    "    errors.append(err_rate)\n",
    "    losses.append(loss.data.numpy())\n",
    "    print(i, err_rate)\n",
    "\n",
    "print('平均错误率：%.4f%%' % (np.mean(errors)*100))"
   ]
  },
  {
   "cell_type": "code",
   "execution_count": null,
   "metadata": {
    "collapsed": true
   },
   "outputs": [],
   "source": []
  },
  {
   "cell_type": "code",
   "execution_count": null,
   "metadata": {
    "collapsed": true
   },
   "outputs": [],
   "source": []
  },
  {
   "cell_type": "code",
   "execution_count": null,
   "metadata": {
    "collapsed": true
   },
   "outputs": [],
   "source": []
  },
  {
   "cell_type": "code",
   "execution_count": 114,
   "metadata": {
    "collapsed": true
   },
   "outputs": [],
   "source": [
    "# 提示：需要考虑好网络有几层，每一层有多少个节点\n",
    "class Net(torch.nn.Module):\n",
    "    def __init__(self):\n",
    "        super(Net, self).__init__()\n",
    "        self.act = torch.nn.LeakyReLU()\n",
    "        self.conv1 = torch.nn.Conv2d(kernel_size=4, in_channels=1, out_channels=5)\n",
    "        self.conv2 = torch.nn.Conv2d(kernel_size=4, in_channels=5, out_channels=10)\n",
    "        self.maxpool = torch.nn.MaxPool2d(kernel_size=2)\n",
    "        self.fc1 = torch.nn.Linear(in_features=10*4*4, out_features=20)\n",
    "        self.bn = torch.nn.BatchNorm2d(20)\n",
    "        self.fc2 = torch.nn.Linear(in_features=20, out_features=10)\n",
    "        \n",
    "    def forward(self, x):\n",
    "        x = self.act(self.maxpool(self.conv1(x))) #1x28x28 -> 20x25x25 -> 20x12x12\n",
    "        x = self.act(self.maxpool(self.conv2(x))) #20x12x12 -> 40x9x9 -> 40x4x4\n",
    "        x = x.view(-1, 10*4*4)\n",
    "        x = self.bn(self.fc1(x))\n",
    "        x = self.fc2(x)\n",
    "        \n",
    "        return torch.nn.functional.log_softmax(x)\n",
    "        \n",
    "\n",
    "# 问题：如果要增加新的神经网络层怎么办？\n"
   ]
  },
  {
   "cell_type": "code",
   "execution_count": 115,
   "metadata": {},
   "outputs": [],
   "source": [
    "net = Net()"
   ]
  },
  {
   "cell_type": "code",
   "execution_count": 116,
   "metadata": {
    "collapsed": true
   },
   "outputs": [],
   "source": [
    "cost = torch.nn.CrossEntropyLoss()\n",
    "optimizer = torch.optim.Adam(net.parameters()) #SGD(net.parameters(), lr = 0.1)"
   ]
  },
  {
   "cell_type": "code",
   "execution_count": 117,
   "metadata": {
    "collapsed": true
   },
   "outputs": [],
   "source": [
    "def error_rate(predictions_raw, labels_raw):\n",
    "    predictions = np.argmax(predictions_raw.data.numpy(), axis=1)\n",
    "    labels = labels_raw.data.numpy()\n",
    "    equals = np.sum(predictions == labels)\n",
    "    acc = equals / float(predictions.shape[0])\n",
    "    err = 1.0 - acc\n",
    "    return err"
   ]
  },
  {
   "cell_type": "code",
   "execution_count": 118,
   "metadata": {},
   "outputs": [
    {
     "data": {
      "text/plain": [
       "(128, 1, 28, 28)"
      ]
     },
     "execution_count": 118,
     "metadata": {},
     "output_type": "execute_result"
    }
   ],
   "source": [
    "train_data[0:128].shape"
   ]
  },
  {
   "cell_type": "code",
   "execution_count": 119,
   "metadata": {},
   "outputs": [
    {
     "name": "stdout",
     "output_type": "stream",
     "text": [
      "0 0.679266 0.105899076048\n",
      "100 0.00761914 0.00232098436389\n",
      "200 0.00355866 0.00128264925373\n",
      "300 0.000172681 0.0\n",
      "400 0.0013833 0.000466417910448\n",
      "500 0.00109554 0.00033315565032\n",
      "600 0.000111271 0.0\n",
      "700 1.21568e-05 0.0\n",
      "800 3.97746e-05 0.0\n",
      "900 3.08206e-06 0.0\n"
     ]
    }
   ],
   "source": [
    "net.train()\n",
    "\n",
    "# 提示：有两重循环，最外面层是多少次的训练，里层为对数据批次（batch）的循环\n",
    "losses = []\n",
    "errors = []\n",
    "\n",
    "# 神经网络训练循环\n",
    "BATCH_SIZE = 128\n",
    "batch_size = BATCH_SIZE\n",
    "for i in range(1000):\n",
    "#   每128个样本点被划分为一个撮，在循环的时候一撮一撮地读取 \n",
    "    batch_loss = []\n",
    "    batch_error = []\n",
    "#   start和end分别是提取一个batch数据的起始和终止下标 \n",
    "    for start in range(0, len(train_X), batch_size):\n",
    "        end = (start + batch_size) if (start + batch_size) < len(train_X) else len(train_X)\n",
    "        xx = Variable(torch.FloatTensor(train_data[start:end])) #(train_X[start:end])) #从训练数据train_X中提取数据 \n",
    "        yy = Variable(torch.LongTensor(train_Y[start:end]))  #从训练数据train_Y中提取标签，注意标签数据为整数，因此相应的tensor也要为long\n",
    "        predict = net(xx) #用神经网络进行预测 \n",
    "        loss = cost(predict, yy) #计算损失函数（交叉熵） \n",
    "        optimizer.zero_grad() #清空梯度 \n",
    "        loss.backward() #开始反向传播 \n",
    "        optimizer.step() #开始更新梯度 \n",
    "        \n",
    "        # add loss & error rate of this batch\n",
    "        batch_loss.append(loss.data.numpy())\n",
    "        batch_error.append(error_rate(predict, yy))\n",
    "        \n",
    "    # append loss and error\n",
    "    losses.append(np.mean(batch_loss))\n",
    "    errors.append(np.mean(batch_error))\n",
    "        \n",
    "#  每隔100步输出一下损失值（loss） \n",
    "    if i % 100==0:\n",
    "        print(i, np.mean(batch_loss), np.mean(batch_error))\n"
   ]
  },
  {
   "cell_type": "code",
   "execution_count": 120,
   "metadata": {},
   "outputs": [
    {
     "data": {
      "image/png": "[encoded data removed]",
      "text/plain": [
       "<matplotlib.figure.Figure at 0x7fee5972b198>"
      ]
     },
     "metadata": {},
     "output_type": "display_data"
    }
   ],
   "source": [
    "# 请绘制上面训练过程的损失函数曲线，以及'''错误率曲线'''！！！\n",
    "\n",
    "plt.plot(np.arange(len(losses)), losses, label='Cross Entropy')\n",
    "plt.plot(np.arange(len(errors)), errors, label='Error Rate')\n",
    "plt.xlabel('epoch')\n",
    "plt.ylabel('Cross Entropy/Error Rate')\n",
    "plt.legend()\n",
    "plt.show()"
   ]
  },
  {
   "cell_type": "code",
   "execution_count": 122,
   "metadata": {
    "scrolled": true
   },
   "outputs": [
    {
     "ename": "ValueError",
     "evalue": "Expected 4D tensor as input, got 2D tensor instead.",
     "output_type": "error",
     "traceback": [
      "\u001b[0;31m---------------------------------------------------------------------------\u001b[0m",
      "\u001b[0;31mValueError\u001b[0m                                Traceback (most recent call last)",
      "\u001b[0;32m<ipython-input-122-0fdeaf00f27a>\u001b[0m in \u001b[0;36m<module>\u001b[0;34m()\u001b[0m\n\u001b[1;32m     10\u001b[0m     \u001b[0mx\u001b[0m \u001b[0;34m=\u001b[0m \u001b[0mVariable\u001b[0m\u001b[0;34m(\u001b[0m\u001b[0mtorch\u001b[0m\u001b[0;34m.\u001b[0m\u001b[0mFloatTensor\u001b[0m\u001b[0;34m(\u001b[0m\u001b[0mtest_X\u001b[0m\u001b[0;34m[\u001b[0m\u001b[0mstart\u001b[0m\u001b[0;34m:\u001b[0m\u001b[0mend\u001b[0m\u001b[0;34m]\u001b[0m\u001b[0;34m)\u001b[0m\u001b[0;34m)\u001b[0m\u001b[0;34m\u001b[0m\u001b[0m\n\u001b[1;32m     11\u001b[0m     \u001b[0my\u001b[0m \u001b[0;34m=\u001b[0m \u001b[0mVariable\u001b[0m\u001b[0;34m(\u001b[0m\u001b[0mtorch\u001b[0m\u001b[0;34m.\u001b[0m\u001b[0mLongTensor\u001b[0m\u001b[0;34m(\u001b[0m\u001b[0mtest_Y\u001b[0m\u001b[0;34m[\u001b[0m\u001b[0mstart\u001b[0m\u001b[0;34m:\u001b[0m\u001b[0mend\u001b[0m\u001b[0;34m]\u001b[0m\u001b[0;34m)\u001b[0m\u001b[0;34m)\u001b[0m\u001b[0;34m\u001b[0m\u001b[0m\n\u001b[0;32m---> 12\u001b[0;31m     \u001b[0mpredictions\u001b[0m \u001b[0;34m=\u001b[0m \u001b[0mnet\u001b[0m\u001b[0;34m(\u001b[0m\u001b[0mx\u001b[0m\u001b[0;34m)\u001b[0m\u001b[0;34m\u001b[0m\u001b[0m\n\u001b[0m\u001b[1;32m     13\u001b[0m     \u001b[0mloss\u001b[0m \u001b[0;34m=\u001b[0m \u001b[0mcost\u001b[0m\u001b[0;34m(\u001b[0m\u001b[0mpredictions\u001b[0m\u001b[0;34m,\u001b[0m \u001b[0my\u001b[0m\u001b[0;34m)\u001b[0m\u001b[0;34m\u001b[0m\u001b[0m\n\u001b[1;32m     14\u001b[0m     \u001b[0merr_rate\u001b[0m \u001b[0;34m=\u001b[0m \u001b[0merror_rate\u001b[0m\u001b[0;34m(\u001b[0m\u001b[0mpredictions\u001b[0m\u001b[0;34m,\u001b[0m \u001b[0my\u001b[0m\u001b[0;34m)\u001b[0m\u001b[0;34m\u001b[0m\u001b[0m\n",
      "\u001b[0;32m~/Location/anaconda3/envs/py3/lib/python3.6/site-packages/torch/nn/modules/module.py\u001b[0m in \u001b[0;36m__call__\u001b[0;34m(self, *input, **kwargs)\u001b[0m\n\u001b[1;32m    222\u001b[0m         \u001b[0;32mfor\u001b[0m \u001b[0mhook\u001b[0m \u001b[0;32min\u001b[0m \u001b[0mself\u001b[0m\u001b[0;34m.\u001b[0m\u001b[0m_forward_pre_hooks\u001b[0m\u001b[0;34m.\u001b[0m\u001b[0mvalues\u001b[0m\u001b[0;34m(\u001b[0m\u001b[0;34m)\u001b[0m\u001b[0;34m:\u001b[0m\u001b[0;34m\u001b[0m\u001b[0m\n\u001b[1;32m    223\u001b[0m             \u001b[0mhook\u001b[0m\u001b[0;34m(\u001b[0m\u001b[0mself\u001b[0m\u001b[0;34m,\u001b[0m \u001b[0minput\u001b[0m\u001b[0;34m)\u001b[0m\u001b[0;34m\u001b[0m\u001b[0m\n\u001b[0;32m--> 224\u001b[0;31m         \u001b[0mresult\u001b[0m \u001b[0;34m=\u001b[0m \u001b[0mself\u001b[0m\u001b[0;34m.\u001b[0m\u001b[0mforward\u001b[0m\u001b[0;34m(\u001b[0m\u001b[0;34m*\u001b[0m\u001b[0minput\u001b[0m\u001b[0;34m,\u001b[0m \u001b[0;34m**\u001b[0m\u001b[0mkwargs\u001b[0m\u001b[0;34m)\u001b[0m\u001b[0;34m\u001b[0m\u001b[0m\n\u001b[0m\u001b[1;32m    225\u001b[0m         \u001b[0;32mfor\u001b[0m \u001b[0mhook\u001b[0m \u001b[0;32min\u001b[0m \u001b[0mself\u001b[0m\u001b[0;34m.\u001b[0m\u001b[0m_forward_hooks\u001b[0m\u001b[0;34m.\u001b[0m\u001b[0mvalues\u001b[0m\u001b[0;34m(\u001b[0m\u001b[0;34m)\u001b[0m\u001b[0;34m:\u001b[0m\u001b[0;34m\u001b[0m\u001b[0m\n\u001b[1;32m    226\u001b[0m             \u001b[0mhook_result\u001b[0m \u001b[0;34m=\u001b[0m \u001b[0mhook\u001b[0m\u001b[0;34m(\u001b[0m\u001b[0mself\u001b[0m\u001b[0;34m,\u001b[0m \u001b[0minput\u001b[0m\u001b[0;34m,\u001b[0m \u001b[0mresult\u001b[0m\u001b[0;34m)\u001b[0m\u001b[0;34m\u001b[0m\u001b[0m\n",
      "\u001b[0;32m<ipython-input-114-6c72c2fbb505>\u001b[0m in \u001b[0;36mforward\u001b[0;34m(self, x)\u001b[0m\n\u001b[1;32m     12\u001b[0m \u001b[0;34m\u001b[0m\u001b[0m\n\u001b[1;32m     13\u001b[0m     \u001b[0;32mdef\u001b[0m \u001b[0mforward\u001b[0m\u001b[0;34m(\u001b[0m\u001b[0mself\u001b[0m\u001b[0;34m,\u001b[0m \u001b[0mx\u001b[0m\u001b[0;34m)\u001b[0m\u001b[0;34m:\u001b[0m\u001b[0;34m\u001b[0m\u001b[0m\n\u001b[0;32m---> 14\u001b[0;31m         \u001b[0mx\u001b[0m \u001b[0;34m=\u001b[0m \u001b[0mself\u001b[0m\u001b[0;34m.\u001b[0m\u001b[0mact\u001b[0m\u001b[0;34m(\u001b[0m\u001b[0mself\u001b[0m\u001b[0;34m.\u001b[0m\u001b[0mmaxpool\u001b[0m\u001b[0;34m(\u001b[0m\u001b[0mself\u001b[0m\u001b[0;34m.\u001b[0m\u001b[0mconv1\u001b[0m\u001b[0;34m(\u001b[0m\u001b[0mx\u001b[0m\u001b[0;34m)\u001b[0m\u001b[0;34m)\u001b[0m\u001b[0;34m)\u001b[0m \u001b[0;31m#1x28x28 -> 20x25x25 -> 20x12x12\u001b[0m\u001b[0;34m\u001b[0m\u001b[0m\n\u001b[0m\u001b[1;32m     15\u001b[0m         \u001b[0mx\u001b[0m \u001b[0;34m=\u001b[0m \u001b[0mself\u001b[0m\u001b[0;34m.\u001b[0m\u001b[0mact\u001b[0m\u001b[0;34m(\u001b[0m\u001b[0mself\u001b[0m\u001b[0;34m.\u001b[0m\u001b[0mmaxpool\u001b[0m\u001b[0;34m(\u001b[0m\u001b[0mself\u001b[0m\u001b[0;34m.\u001b[0m\u001b[0mconv2\u001b[0m\u001b[0;34m(\u001b[0m\u001b[0mx\u001b[0m\u001b[0;34m)\u001b[0m\u001b[0;34m)\u001b[0m\u001b[0;34m)\u001b[0m \u001b[0;31m#20x12x12 -> 40x9x9 -> 40x4x4\u001b[0m\u001b[0;34m\u001b[0m\u001b[0m\n\u001b[1;32m     16\u001b[0m         \u001b[0mx\u001b[0m \u001b[0;34m=\u001b[0m \u001b[0mx\u001b[0m\u001b[0;34m.\u001b[0m\u001b[0mview\u001b[0m\u001b[0;34m(\u001b[0m\u001b[0;34m-\u001b[0m\u001b[0;36m1\u001b[0m\u001b[0;34m,\u001b[0m \u001b[0;36m10\u001b[0m\u001b[0;34m*\u001b[0m\u001b[0;36m4\u001b[0m\u001b[0;34m*\u001b[0m\u001b[0;36m4\u001b[0m\u001b[0;34m)\u001b[0m\u001b[0;34m\u001b[0m\u001b[0m\n",
      "\u001b[0;32m~/Location/anaconda3/envs/py3/lib/python3.6/site-packages/torch/nn/modules/module.py\u001b[0m in \u001b[0;36m__call__\u001b[0;34m(self, *input, **kwargs)\u001b[0m\n\u001b[1;32m    222\u001b[0m         \u001b[0;32mfor\u001b[0m \u001b[0mhook\u001b[0m \u001b[0;32min\u001b[0m \u001b[0mself\u001b[0m\u001b[0;34m.\u001b[0m\u001b[0m_forward_pre_hooks\u001b[0m\u001b[0;34m.\u001b[0m\u001b[0mvalues\u001b[0m\u001b[0;34m(\u001b[0m\u001b[0;34m)\u001b[0m\u001b[0;34m:\u001b[0m\u001b[0;34m\u001b[0m\u001b[0m\n\u001b[1;32m    223\u001b[0m             \u001b[0mhook\u001b[0m\u001b[0;34m(\u001b[0m\u001b[0mself\u001b[0m\u001b[0;34m,\u001b[0m \u001b[0minput\u001b[0m\u001b[0;34m)\u001b[0m\u001b[0;34m\u001b[0m\u001b[0m\n\u001b[0;32m--> 224\u001b[0;31m         \u001b[0mresult\u001b[0m \u001b[0;34m=\u001b[0m \u001b[0mself\u001b[0m\u001b[0;34m.\u001b[0m\u001b[0mforward\u001b[0m\u001b[0;34m(\u001b[0m\u001b[0;34m*\u001b[0m\u001b[0minput\u001b[0m\u001b[0;34m,\u001b[0m \u001b[0;34m**\u001b[0m\u001b[0mkwargs\u001b[0m\u001b[0;34m)\u001b[0m\u001b[0;34m\u001b[0m\u001b[0m\n\u001b[0m\u001b[1;32m    225\u001b[0m         \u001b[0;32mfor\u001b[0m \u001b[0mhook\u001b[0m \u001b[0;32min\u001b[0m \u001b[0mself\u001b[0m\u001b[0;34m.\u001b[0m\u001b[0m_forward_hooks\u001b[0m\u001b[0;34m.\u001b[0m\u001b[0mvalues\u001b[0m\u001b[0;34m(\u001b[0m\u001b[0;34m)\u001b[0m\u001b[0;34m:\u001b[0m\u001b[0;34m\u001b[0m\u001b[0m\n\u001b[1;32m    226\u001b[0m             \u001b[0mhook_result\u001b[0m \u001b[0;34m=\u001b[0m \u001b[0mhook\u001b[0m\u001b[0;34m(\u001b[0m\u001b[0mself\u001b[0m\u001b[0;34m,\u001b[0m \u001b[0minput\u001b[0m\u001b[0;34m,\u001b[0m \u001b[0mresult\u001b[0m\u001b[0;34m)\u001b[0m\u001b[0;34m\u001b[0m\u001b[0m\n",
      "\u001b[0;32m~/Location/anaconda3/envs/py3/lib/python3.6/site-packages/torch/nn/modules/conv.py\u001b[0m in \u001b[0;36mforward\u001b[0;34m(self, input)\u001b[0m\n\u001b[1;32m    252\u001b[0m     \u001b[0;32mdef\u001b[0m \u001b[0mforward\u001b[0m\u001b[0;34m(\u001b[0m\u001b[0mself\u001b[0m\u001b[0;34m,\u001b[0m \u001b[0minput\u001b[0m\u001b[0;34m)\u001b[0m\u001b[0;34m:\u001b[0m\u001b[0;34m\u001b[0m\u001b[0m\n\u001b[1;32m    253\u001b[0m         return F.conv2d(input, self.weight, self.bias, self.stride,\n\u001b[0;32m--> 254\u001b[0;31m                         self.padding, self.dilation, self.groups)\n\u001b[0m\u001b[1;32m    255\u001b[0m \u001b[0;34m\u001b[0m\u001b[0m\n\u001b[1;32m    256\u001b[0m \u001b[0;34m\u001b[0m\u001b[0m\n",
      "\u001b[0;32m~/Location/anaconda3/envs/py3/lib/python3.6/site-packages/torch/nn/functional.py\u001b[0m in \u001b[0;36mconv2d\u001b[0;34m(input, weight, bias, stride, padding, dilation, groups)\u001b[0m\n\u001b[1;32m     46\u001b[0m     \"\"\"\n\u001b[1;32m     47\u001b[0m     \u001b[0;32mif\u001b[0m \u001b[0minput\u001b[0m \u001b[0;32mis\u001b[0m \u001b[0;32mnot\u001b[0m \u001b[0;32mNone\u001b[0m \u001b[0;32mand\u001b[0m \u001b[0minput\u001b[0m\u001b[0;34m.\u001b[0m\u001b[0mdim\u001b[0m\u001b[0;34m(\u001b[0m\u001b[0;34m)\u001b[0m \u001b[0;34m!=\u001b[0m \u001b[0;36m4\u001b[0m\u001b[0;34m:\u001b[0m\u001b[0;34m\u001b[0m\u001b[0m\n\u001b[0;32m---> 48\u001b[0;31m         \u001b[0;32mraise\u001b[0m \u001b[0mValueError\u001b[0m\u001b[0;34m(\u001b[0m\u001b[0;34m\"Expected 4D tensor as input, got {}D tensor instead.\"\u001b[0m\u001b[0;34m.\u001b[0m\u001b[0mformat\u001b[0m\u001b[0;34m(\u001b[0m\u001b[0minput\u001b[0m\u001b[0;34m.\u001b[0m\u001b[0mdim\u001b[0m\u001b[0;34m(\u001b[0m\u001b[0;34m)\u001b[0m\u001b[0;34m)\u001b[0m\u001b[0;34m)\u001b[0m\u001b[0;34m\u001b[0m\u001b[0m\n\u001b[0m\u001b[1;32m     49\u001b[0m \u001b[0;34m\u001b[0m\u001b[0m\n\u001b[1;32m     50\u001b[0m     f = ConvNd(_pair(stride), _pair(padding), _pair(dilation), False,\n",
      "\u001b[0;31mValueError\u001b[0m: Expected 4D tensor as input, got 2D tensor instead."
     ]
    }
   ],
   "source": [
    "net.eval()\n",
    "\n",
    "# 分多个batch计算测试结果\n",
    "errors = []\n",
    "losses = []\n",
    "i = 0\n",
    "for start in range(0, len(test_X), batch_size):\n",
    "    end1 = (start + batch_size) if start + batch_size < len(test_X) else len(test_X)\n",
    "    i += 1\n",
    "    x = Variable(torch.FloatTensor(test_X[start:end]))\n",
    "    y = Variable(torch.LongTensor(test_Y[start:end]))\n",
    "    predictions = net(x)\n",
    "    loss = cost(predictions, y)\n",
    "    err_rate = error_rate(predictions, y)\n",
    "    errors.append(err_rate)\n",
    "    losses.append(loss.data.numpy())\n",
    "    print(i, err_rate)\n",
    "\n",
    "print('平均错误率：%.4f%%' % (np.mean(errors)*100))"
   ]
  },
  {
   "cell_type": "code",
   "execution_count": null,
   "metadata": {
    "collapsed": true
   },
   "outputs": [],
   "source": []
  },
  {
   "cell_type": "code",
   "execution_count": null,
   "metadata": {
    "collapsed": true
   },
   "outputs": [],
   "source": []
  },
  {
   "cell_type": "code",
   "execution_count": null,
   "metadata": {
    "collapsed": true
   },
   "outputs": [],
   "source": []
  },
  {
   "cell_type": "code",
   "execution_count": null,
   "metadata": {
    "collapsed": true
   },
   "outputs": [],
   "source": []
  },
  {
   "cell_type": "markdown",
   "metadata": {},
   "source": [
    "### 第四步：在测试集上测试模型"
   ]
  },
  {
   "cell_type": "code",
   "execution_count": 14,
   "metadata": {
    "collapsed": true
   },
   "outputs": [],
   "source": [
    "# 定义一个专门计算分类错误率的函数，它的基本思想是，对于预测向量predictions的每一行，\n",
    "# 取最大的那个元素的下标，与标签labels中的元素做比较\n",
    "#def error_rate(predictions, labels):\n",
    "#    \"\"\"计算预测错误率的函数，其中predictions是模型给出的一组预测结果，labels是数据之中的正确答案\"\"\"\n",
    "#    predictions = np.argmax(predictions, 1)\n",
    "#    return 100.0 - (\n",
    "#      100.0 *\n",
    "#      np.sum( predictions == labels) /\n",
    "#      predictions.shape[0])"
   ]
  },
  {
   "cell_type": "code",
   "execution_count": 65,
   "metadata": {
    "scrolled": true
   },
   "outputs": [
    {
     "name": "stdout",
     "output_type": "stream",
     "text": [
      "1 0.0203\n",
      "2 0.0205632090762\n",
      "3 0.0206280788177\n",
      "4 0.0204866888519\n",
      "5 0.0203414839798\n",
      "6 0.020405982906\n",
      "7 0.0202556325823\n",
      "8 0.0203207381371\n",
      "9 0.0200534759358\n",
      "10 0.0200045207957\n",
      "11 0.0192660550459\n",
      "12 0.0190875232775\n",
      "13 0.0189035916824\n",
      "14 0.0188339731286\n",
      "15 0.0185185185185\n",
      "16 0.0186881188119\n",
      "17 0.0183601609658\n",
      "18 0.0180214723926\n",
      "19 0.0176715176715\n",
      "20 0.0173097251586\n",
      "21 0.0172043010753\n",
      "22 0.0170951859956\n",
      "23 0.0169821826281\n",
      "24 0.0167233560091\n",
      "25 0.0168879907621\n",
      "26 0.0169117647059\n",
      "27 0.0170863309353\n",
      "28 0.0172677261614\n",
      "29 0.0166770573566\n",
      "30 0.0165394402036\n",
      "31 0.0154220779221\n",
      "32 0.0150862068966\n",
      "33 0.0149051490515\n",
      "34 0.014716066482\n",
      "35 0.0139872521246\n",
      "36 0.0141304347826\n",
      "37 0.0137240356083\n",
      "38 0.013867781155\n",
      "39 0.0134345794393\n",
      "40 0.0129792332268\n",
      "41 0.0133196721311\n",
      "42 0.013468013468\n",
      "43 0.013624567474\n",
      "44 0.0137900355872\n",
      "45 0.0141941391941\n",
      "46 0.0134433962264\n",
      "47 0.0133754863813\n",
      "48 0.0122991967871\n",
      "49 0.0124481327801\n",
      "50 0.0126072961373\n",
      "51 0.0127777777778\n",
      "52 0.0129608294931\n",
      "53 0.0110645933014\n",
      "54 0.0108830845771\n",
      "55 0.0113341968912\n",
      "56 0.0118243243243\n",
      "57 0.0123587570621\n",
      "58 0.012573964497\n",
      "59 0.013198757764\n",
      "60 0.0134803921569\n",
      "61 0.014224137931\n",
      "62 0.0150547445255\n",
      "63 0.015503875969\n",
      "64 0.0160123966942\n",
      "65 0.0160398230088\n",
      "66 0.0166666666667\n",
      "67 0.0173969072165\n",
      "68 0.0168539325843\n",
      "69 0.0185185185185\n",
      "70 0.0205479452055\n",
      "71 0.0230769230769\n",
      "72 0.0230263157895\n",
      "73 0.0267857142857\n",
      "74 0.030487804878\n",
      "75 0.0378787878788\n",
      "76 0.0475\n",
      "77 0.0367647058824\n",
      "78 0.0138888888889\n",
      "79 0.0\n",
      "平均错误率：1.7227%\n"
     ]
    }
   ],
   "source": [
    "# 分多个batch计算测试结果\n",
    "errors = []\n",
    "losses = []\n",
    "i = 0\n",
    "for start in range(0, len(test_X), batch_size):\n",
    "    end1 = (start + batch_size) if start + batch_size < len(test_X) else len(test_X)\n",
    "    i += 1\n",
    "    x = Variable(torch.FloatTensor(test_X[start:end]))\n",
    "    y = Variable(torch.LongTensor(test_Y[start:end]))\n",
    "    predictions = net(x)\n",
    "    loss = cost(predictions, y)\n",
    "    err_rate = error_rate(predictions, y)\n",
    "    errors.append(err_rate)\n",
    "    losses.append(loss.data.numpy())\n",
    "    print(i, err_rate)\n",
    "\n",
    "print('平均错误率：%.4f%%' % (np.mean(errors)*100))"
   ]
  },
  {
   "cell_type": "markdown",
   "metadata": {},
   "source": [
    "### 用单个图像进行测试"
   ]
  },
  {
   "cell_type": "code",
   "execution_count": 66,
   "metadata": {},
   "outputs": [
    {
     "data": {
      "text/plain": [
       "<matplotlib.image.AxesImage at 0x7f82a19a0ef0>"
      ]
     },
     "execution_count": 66,
     "metadata": {},
     "output_type": "execute_result"
    },
    {
     "data": {
      "image/png": "[encoded data removed]",
      "text/plain": [
       "<matplotlib.figure.Figure at 0x7f82a163e400>"
      ]
     },
     "metadata": {},
     "output_type": "display_data"
    }
   ],
   "source": [
    "#随便从数据集中读入一张图片，并绘制出来\n",
    "idx = np.random.randint(100)\n",
    "muteimg = test_data[idx, 0, :, :]\n",
    "plt.imshow(muteimg)"
   ]
  },
  {
   "cell_type": "code",
   "execution_count": 67,
   "metadata": {},
   "outputs": [
    {
     "data": {
      "text/plain": [
       "5"
      ]
     },
     "execution_count": 67,
     "metadata": {},
     "output_type": "execute_result"
    }
   ],
   "source": [
    "# 计算识别结果\n",
    "x = Variable(torch.FloatTensor(test_X[idx, :].reshape(1, -1)))\n",
    "predict = net(x)\n",
    "np.argmax(predict.data.numpy())"
   ]
  },
  {
   "cell_type": "markdown",
   "metadata": {},
   "source": [
    "## 升级版"
   ]
  },
  {
   "cell_type": "markdown",
   "metadata": {},
   "source": [
    "如果你已经运行跑通上面的所有代码，那么请你尝试对其进行更改，让测试集上面的识别错误率进一步下降，看看能不能到1%以下\n",
    "\n",
    "提示：可以考虑增加层的深度\n",
    "\n",
    "本文件是集智AI学园http://campus.swarma.org 出品的“火炬上的深度学习”第II课的配套源代码"
   ]
  }
 ],
 "metadata": {
  "kernelspec": {
   "display_name": "Python 3",
   "language": "python",
   "name": "python3"
  },
  "language_info": {
   "codemirror_mode": {
    "name": "ipython",
    "version": 3
   },
   "file_extension": ".py",
   "mimetype": "text/x-python",
   "name": "python",
   "nbconvert_exporter": "python",
   "pygments_lexer": "ipython3",
   "version": "3.6.1"
  }
 },
 "nbformat": 4,
 "nbformat_minor": 2
}
