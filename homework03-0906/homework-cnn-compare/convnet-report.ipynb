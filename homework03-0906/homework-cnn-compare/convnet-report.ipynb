{
 "cells": [
  {
   "cell_type": "markdown",
   "metadata": {},
   "source": [
    "Under the condition where epoch = 100, compare three kinds of convnets using different training ways:\n",
    "\n",
    "1. Firstly train digits 0~4, then 5~9\n",
    "2. Firstly train digits 0~4, then 0~9\n",
    "3. Firstly train digits 0~9"
   ]
  },
  {
   "cell_type": "markdown",
   "metadata": {},
   "source": [
    "Compare way:\n",
    "\n",
    "1. curves' shape\n",
    "2. accuracy on test sets\n",
    "3. **[Note]** Conclusions must be based on means of results from multiple experients, 5 at least."
   ]
  },
  {
   "cell_type": "markdown",
   "metadata": {},
   "source": [
    "You should commit:\n",
    "\n",
    "1. Source code\n",
    "2. A PDF report with details of experiments, including details of methods, results in graphs and conclusion."
   ]
  },
  {
   "cell_type": "markdown",
   "metadata": {},
   "source": [
    " --------------------------------------------------------------"
   ]
  },
  {
   "cell_type": "markdown",
   "metadata": {},
   "source": [
    "# -1. Preparation"
   ]
  },
  {
   "cell_type": "code",
   "execution_count": 1,
   "metadata": {
    "collapsed": true
   },
   "outputs": [],
   "source": [
    "#import modules\n",
    "import os\n",
    "\n",
    "import numpy as np\n",
    "import pandas as pd\n",
    "import matplotlib.pyplot as plt\n",
    "\n",
    "import torch\n",
    "from torch import nn\n",
    "from torch.autograd import Variable\n",
    "\n",
    "from IPython.display import display\n",
    "%matplotlib inline"
   ]
  },
  {
   "cell_type": "code",
   "execution_count": 2,
   "metadata": {
    "collapsed": true
   },
   "outputs": [],
   "source": [
    "# define some constant variables\n",
    "\n",
    "use_cuda = torch.cuda.is_available()\n",
    "dtype_float = torch.cuda.FloatTensor if use_cuda else torch.FloatTensor\n",
    "dtype_long = torch.cuda.LongTensor if use_cuda else torch.LongTensor"
   ]
  },
  {
   "cell_type": "code",
   "execution_count": 3,
   "metadata": {},
   "outputs": [],
   "source": [
    "import torchvision\n",
    "\n",
    "# prepare MNIST\n",
    "\n",
    "path_datasets = './datasets'\n",
    "\n",
    "transform_set = torchvision.transforms.Compose([\n",
    "    torchvision.transforms.ToTensor()\n",
    "])\n",
    "data_train = torchvision.datasets.MNIST(root=path_datasets, train=True, download=True, \n",
    "                                        transform=transform_set) \n",
    "data_test = torchvision.datasets.MNIST(root=path_datasets, train=False, download=True,\n",
    "                                        transform=transform_set)"
   ]
  },
  {
   "cell_type": "code",
   "execution_count": 4,
   "metadata": {},
   "outputs": [],
   "source": [
    "batch_size = 100\n",
    "n_class = 10\n",
    "\n",
    "##dataloader_train\n",
    "dataloader_train = torch.utils.data.DataLoader(dataset=data_train, batch_size=batch_size, shuffle=True)\n",
    "\n",
    "##dataloader_valid\n",
    "\n",
    "indices_valid = range(len(data_test)//2)\n",
    "sampler_valid = torch.utils.data.sampler.SubsetRandomSampler(indices=indices_valid)\n",
    "dataloader_valid = torch.utils.data.DataLoader(dataset=data_test, batch_size=batch_size, sampler=sampler_valid)\n",
    "\n",
    "##dataloader_test\n",
    "\n",
    "indices_test = range(len(data_test)//2, len(data_test))\n",
    "sampler_test = torch.utils.data.sampler.SubsetRandomSampler(indices=indices_test)\n",
    "\n",
    "dataloader_test = torch.utils.data.DataLoader(dataset=data_test, batch_size=batch_size, sampler=sampler_test)"
   ]
  },
  {
   "cell_type": "markdown",
   "metadata": {},
   "source": [
    "## 查看三个数据迭代器的结果"
   ]
  },
  {
   "cell_type": "code",
   "execution_count": 5,
   "metadata": {
    "scrolled": false
   },
   "outputs": [
    {
     "data": {
      "text/html": [
       "<div>\n",
       "<style>\n",
       "    .dataframe thead tr:only-child th {\n",
       "        text-align: right;\n",
       "    }\n",
       "\n",
       "    .dataframe thead th {\n",
       "        text-align: left;\n",
       "    }\n",
       "\n",
       "    .dataframe tbody tr th {\n",
       "        vertical-align: top;\n",
       "    }\n",
       "</style>\n",
       "<table border=\"1\" class=\"dataframe\">\n",
       "  <thead>\n",
       "    <tr style=\"text-align: right;\">\n",
       "      <th></th>\n",
       "      <th>0</th>\n",
       "    </tr>\n",
       "  </thead>\n",
       "  <tbody>\n",
       "    <tr>\n",
       "      <th>0</th>\n",
       "      <td>5923</td>\n",
       "    </tr>\n",
       "    <tr>\n",
       "      <th>1</th>\n",
       "      <td>6742</td>\n",
       "    </tr>\n",
       "    <tr>\n",
       "      <th>2</th>\n",
       "      <td>5958</td>\n",
       "    </tr>\n",
       "    <tr>\n",
       "      <th>3</th>\n",
       "      <td>6131</td>\n",
       "    </tr>\n",
       "    <tr>\n",
       "      <th>4</th>\n",
       "      <td>5842</td>\n",
       "    </tr>\n",
       "    <tr>\n",
       "      <th>5</th>\n",
       "      <td>5421</td>\n",
       "    </tr>\n",
       "    <tr>\n",
       "      <th>6</th>\n",
       "      <td>5918</td>\n",
       "    </tr>\n",
       "    <tr>\n",
       "      <th>7</th>\n",
       "      <td>6265</td>\n",
       "    </tr>\n",
       "    <tr>\n",
       "      <th>8</th>\n",
       "      <td>5851</td>\n",
       "    </tr>\n",
       "    <tr>\n",
       "      <th>9</th>\n",
       "      <td>5949</td>\n",
       "    </tr>\n",
       "  </tbody>\n",
       "</table>\n",
       "</div>"
      ],
      "text/plain": [
       "      0\n",
       "0  5923\n",
       "1  6742\n",
       "2  5958\n",
       "3  6131\n",
       "4  5842\n",
       "5  5421\n",
       "6  5918\n",
       "7  6265\n",
       "8  5851\n",
       "9  5949"
      ]
     },
     "metadata": {},
     "output_type": "display_data"
    },
    {
     "data": {
      "image/png": "[encoded data removed]",
      "text/plain": [
       "<matplotlib.figure.Figure at 0x7f1618259518>"
      ]
     },
     "metadata": {},
     "output_type": "display_data"
    }
   ],
   "source": [
    "count = {i:0 for i in range(n_class)}\n",
    "for i,data in enumerate(dataloader_train):\n",
    "    xs,ys = data\n",
    "    for y in ys:\n",
    "        count[y] += 1\n",
    "\n",
    "count = [count[i] for i in range(n_class)]\n",
    "display(pd.DataFrame(data=count))\n",
    "plt.bar(left=np.arange(n_class), height=count)\n",
    "plt.xlabel('digit classes')\n",
    "plt.ylabel('num of samples')\n",
    "plt.title('simple stat: data_train')\n",
    "plt.show()"
   ]
  },
  {
   "cell_type": "code",
   "execution_count": 6,
   "metadata": {},
   "outputs": [
    {
     "data": {
      "text/html": [
       "<div>\n",
       "<style>\n",
       "    .dataframe thead tr:only-child th {\n",
       "        text-align: right;\n",
       "    }\n",
       "\n",
       "    .dataframe thead th {\n",
       "        text-align: left;\n",
       "    }\n",
       "\n",
       "    .dataframe tbody tr th {\n",
       "        vertical-align: top;\n",
       "    }\n",
       "</style>\n",
       "<table border=\"1\" class=\"dataframe\">\n",
       "  <thead>\n",
       "    <tr style=\"text-align: right;\">\n",
       "      <th></th>\n",
       "      <th>0</th>\n",
       "    </tr>\n",
       "  </thead>\n",
       "  <tbody>\n",
       "    <tr>\n",
       "      <th>0</th>\n",
       "      <td>460</td>\n",
       "    </tr>\n",
       "    <tr>\n",
       "      <th>1</th>\n",
       "      <td>571</td>\n",
       "    </tr>\n",
       "    <tr>\n",
       "      <th>2</th>\n",
       "      <td>530</td>\n",
       "    </tr>\n",
       "    <tr>\n",
       "      <th>3</th>\n",
       "      <td>500</td>\n",
       "    </tr>\n",
       "    <tr>\n",
       "      <th>4</th>\n",
       "      <td>500</td>\n",
       "    </tr>\n",
       "    <tr>\n",
       "      <th>5</th>\n",
       "      <td>456</td>\n",
       "    </tr>\n",
       "    <tr>\n",
       "      <th>6</th>\n",
       "      <td>462</td>\n",
       "    </tr>\n",
       "    <tr>\n",
       "      <th>7</th>\n",
       "      <td>512</td>\n",
       "    </tr>\n",
       "    <tr>\n",
       "      <th>8</th>\n",
       "      <td>489</td>\n",
       "    </tr>\n",
       "    <tr>\n",
       "      <th>9</th>\n",
       "      <td>520</td>\n",
       "    </tr>\n",
       "  </tbody>\n",
       "</table>\n",
       "</div>"
      ],
      "text/plain": [
       "     0\n",
       "0  460\n",
       "1  571\n",
       "2  530\n",
       "3  500\n",
       "4  500\n",
       "5  456\n",
       "6  462\n",
       "7  512\n",
       "8  489\n",
       "9  520"
      ]
     },
     "metadata": {},
     "output_type": "display_data"
    },
    {
     "data": {
      "image/png": "[encoded data removed]",
      "text/plain": [
       "<matplotlib.figure.Figure at 0x7f16182710b8>"
      ]
     },
     "metadata": {},
     "output_type": "display_data"
    }
   ],
   "source": [
    "count = {i:0 for i in range(n_class)}\n",
    "for i,data in enumerate(dataloader_valid):\n",
    "    xs,ys = data\n",
    "    for y in ys:\n",
    "        count[y] += 1\n",
    "\n",
    "count = [count[i] for i in range(n_class)]\n",
    "display(pd.DataFrame(data=count))\n",
    "plt.bar(left=np.arange(n_class), height=count)\n",
    "plt.xlabel('digit classes')\n",
    "plt.ylabel('num of samples')\n",
    "plt.title('simple stat: data_valid')\n",
    "plt.show()"
   ]
  },
  {
   "cell_type": "code",
   "execution_count": 7,
   "metadata": {},
   "outputs": [
    {
     "data": {
      "text/html": [
       "<div>\n",
       "<style>\n",
       "    .dataframe thead tr:only-child th {\n",
       "        text-align: right;\n",
       "    }\n",
       "\n",
       "    .dataframe thead th {\n",
       "        text-align: left;\n",
       "    }\n",
       "\n",
       "    .dataframe tbody tr th {\n",
       "        vertical-align: top;\n",
       "    }\n",
       "</style>\n",
       "<table border=\"1\" class=\"dataframe\">\n",
       "  <thead>\n",
       "    <tr style=\"text-align: right;\">\n",
       "      <th></th>\n",
       "      <th>0</th>\n",
       "    </tr>\n",
       "  </thead>\n",
       "  <tbody>\n",
       "    <tr>\n",
       "      <th>0</th>\n",
       "      <td>520</td>\n",
       "    </tr>\n",
       "    <tr>\n",
       "      <th>1</th>\n",
       "      <td>564</td>\n",
       "    </tr>\n",
       "    <tr>\n",
       "      <th>2</th>\n",
       "      <td>502</td>\n",
       "    </tr>\n",
       "    <tr>\n",
       "      <th>3</th>\n",
       "      <td>510</td>\n",
       "    </tr>\n",
       "    <tr>\n",
       "      <th>4</th>\n",
       "      <td>482</td>\n",
       "    </tr>\n",
       "    <tr>\n",
       "      <th>5</th>\n",
       "      <td>436</td>\n",
       "    </tr>\n",
       "    <tr>\n",
       "      <th>6</th>\n",
       "      <td>496</td>\n",
       "    </tr>\n",
       "    <tr>\n",
       "      <th>7</th>\n",
       "      <td>516</td>\n",
       "    </tr>\n",
       "    <tr>\n",
       "      <th>8</th>\n",
       "      <td>485</td>\n",
       "    </tr>\n",
       "    <tr>\n",
       "      <th>9</th>\n",
       "      <td>489</td>\n",
       "    </tr>\n",
       "  </tbody>\n",
       "</table>\n",
       "</div>"
      ],
      "text/plain": [
       "     0\n",
       "0  520\n",
       "1  564\n",
       "2  502\n",
       "3  510\n",
       "4  482\n",
       "5  436\n",
       "6  496\n",
       "7  516\n",
       "8  485\n",
       "9  489"
      ]
     },
     "metadata": {},
     "output_type": "display_data"
    },
    {
     "data": {
      "image/png": "[encoded data removed]",
      "text/plain": [
       "<matplotlib.figure.Figure at 0x7f15c65426d8>"
      ]
     },
     "metadata": {},
     "output_type": "display_data"
    }
   ],
   "source": [
    "count = {i:0 for i in range(n_class)}\n",
    "for i,data in enumerate(dataloader_test):\n",
    "    xs,ys = data\n",
    "    for y in ys:\n",
    "        count[y] += 1\n",
    "\n",
    "count = [count[i] for i in range(n_class)]\n",
    "display(pd.DataFrame(data=count))\n",
    "plt.bar(left=np.arange(n_class), height=count)\n",
    "plt.xlabel('digit classes')\n",
    "plt.ylabel('num of samples')\n",
    "plt.title('simple stat: data_test')\n",
    "plt.show()"
   ]
  },
  {
   "cell_type": "markdown",
   "metadata": {},
   "source": [
    "# 0. ConvNet class"
   ]
  },
  {
   "cell_type": "code",
   "execution_count": 8,
   "metadata": {},
   "outputs": [],
   "source": [
    "from  torch.nn import functional as F\n",
    "\n",
    "n_channels = 1\n",
    "n_class = 10\n",
    "size_image = 28\n",
    "\n",
    "\n",
    "depth = [8, 16, 32]\n",
    "fc = [1024, 128, n_class]\n",
    "ksize = [5, 5, 5]\n",
    "pad = [2, 2, 2]\n",
    "\n",
    "\n",
    "# define class\n",
    "\n",
    "class ConvNet(nn.Module):\n",
    "    \n",
    "    def __init__(self):\n",
    "        super(ConvNet, self).__init__()\n",
    "        self.conv00 = nn.Conv2d(in_channels=n_channels, out_channels=depth[0], kernel_size=ksize[0], padding=pad[0])\n",
    "        self.conv01 = nn.Conv2d(in_channels=depth[0], out_channels=depth[1], kernel_size=ksize[1], padding=pad[1])\n",
    "        self.conv02 = nn.Conv2d(in_channels=depth[1], out_channels=depth[2], kernel_size=ksize[2], padding=pad[2])\n",
    "        self.maxpool = nn.MaxPool2d(kernel_size=2, stride=2)\n",
    "        \n",
    "        self.fc00 = nn.Linear(in_features=(size_image//4//2)*(size_image//4//2)*depth[2], out_features=fc[0])\n",
    "        self.fc01 = nn.Linear(in_features=fc[0], out_features=fc[1])\n",
    "        self.fc02 = nn.Linear(in_features=fc[1], out_features=fc[2])\n",
    "        \n",
    "        self.bn1d = nn.BatchNorm1d(num_features=fc[1])\n",
    "    \n",
    "    def forward(self, x, training=True):\n",
    "        x = F.leaky_relu(self.conv00(x))\n",
    "        x = self.maxpool(x)\n",
    "        x = F.leaky_relu(self.conv01(x))\n",
    "        x = self.maxpool(x)\n",
    "        x = F.leaky_relu(self.conv02(x))\n",
    "        x = self.maxpool(x)\n",
    "        x = x.view(-1, (size_image//4//2)*(size_image//4//2)*depth[2])\n",
    "        \n",
    "        x = F.leaky_relu(self.fc00(x))\n",
    "        x = F.dropout(x, training=self.training)\n",
    "        x = F.leaky_relu(self.fc01(x))\n",
    "        x = self.bn1d(x)\n",
    "        x = F.leaky_relu(self.fc02(x))\n",
    "        \n",
    "        return x"
   ]
  },
  {
   "cell_type": "markdown",
   "metadata": {},
   "source": [
    "# 1. ConvNet_0 [0~4 -> 5~9]"
   ]
  },
  {
   "cell_type": "markdown",
   "metadata": {},
   "source": [
    "## 1.1 train and test"
   ]
  },
  {
   "cell_type": "code",
   "execution_count": 9,
   "metadata": {},
   "outputs": [],
   "source": [
    "# init\n",
    "net = ConvNet().cuda() if use_cuda else ConvNet()\n",
    "loss_func = nn.CrossEntropyLoss()\n",
    "optimizer = torch.optim.Adam(net.parameters())"
   ]
  },
  {
   "cell_type": "markdown",
   "metadata": {},
   "source": [
    "报错过 `Assertion `cur_target >= 0 && cur_target < n_classes' failed.`，于是打印预测值，发现预测值是\n",
    "\n",
    "```\n",
    "0.1296\n",
    "-0.0020\n",
    "-0.0002\n",
    "-0.0004\n",
    " 0.0679\n",
    " 0.0892\n",
    "-0.0001\n",
    "-0.0057\n",
    "-0.0023\n",
    "-0.0033\n",
    " 0.4178\n",
    "-0.0057\n",
    " 0.3687\n",
    "-0.0001\n",
    " 0.4879\n",
    "-0.0012\n",
    "-0.0029\n",
    " 0.4439\n",
    "-0.0038\n",
    "-0.0007\n",
    "-0.0016\n",
    " 0.0780\n",
    "-0.0021\n",
    "-0.0010\n",
    "-0.0016\n",
    "-0.0034\n",
    " 0.2390\n",
    "-0.0039\n",
    "-0.0032\n",
    "-0.0005\n",
    "-0.0031\n",
    "-0.0033\n",
    "-0.0007\n",
    " 1.0161\n",
    "-0.0013\n",
    "-0.0033\n",
    " 0.1488\n",
    "```\n",
    "\n",
    "于是我估计前向传播出问题了，看了一下 `forward`，果然，由于延续了之前的代码，没有改成 softmax\n",
    "\n",
    "\n",
    "后来又报错 `Expected 2 or 4 dimensions (got 1) `，仔细查看网络结构，对比现有网络和之前成功的网络，发现自己通不过的网络里，最后一层全连接是 1 个结点，想到估计是这个导致 softmax 没法输出（本应接受 `n_class` 个输入才能有对应输出的）\n",
    "\n",
    "后来报错 `inconsistent tensor size, expected r_ [1000], ta [1000] and tb [100] to have the same number of elements, but got 1000, 1000 and 100 elements respectively at /opt/conda/conda-bld/pytorch_1502004572321/work/torch/lib/TH/generic/THTensorMath.c:2829`，然后我估计是形状不匹配，于是在测试前加入形状代码，发现现在一个输出是 10 维度，一个原始数据是 1 维，当然无法比较。那么为什么原来的网络可以呢？对比后发现，原来的网络在测试时使用了 `np.argmax` 来转换。于是我就想，干脆在网络输出前用 `torch.max` 来取值就好了"
   ]
  },
  {
   "cell_type": "code",
   "execution_count": 10,
   "metadata": {},
   "outputs": [],
   "source": [
    "# define training function using specified digits\n",
    "\n",
    "\n",
    "def train_net(net, loss_func, optimizer, digit_range, sum_epochs=15):\n",
    "    bag_loss = {'train':[], 'valid':[]}\n",
    "    bag_acc = {'train':[], 'valid':[]}\n",
    "    for epoch in range(sum_epochs):\n",
    "        for idx,batch in enumerate(dataloader_train):\n",
    "            # set net state\n",
    "            net.train()\n",
    "\n",
    "            # fetch batch for this round, then choose points that are in `digit_range`\n",
    "            xs_raw, ys_raw = batch\n",
    "            xs, ys = [], []\n",
    "            for (data,label) in zip(xs_raw, ys_raw):\n",
    "                if label in digit_range:\n",
    "                    xs.append(data.unsqueeze(0))\n",
    "                    ys.append(label)\n",
    "            xs = torch.cat(xs)\n",
    "            ys = torch.from_numpy(np.array(ys))\n",
    "            xs, ys = (xs.cuda(), ys.cuda()) if use_cuda else (xs, ys)\n",
    "            \n",
    "            # pack in Variable\n",
    "            xs, ys = Variable(xs), Variable(ys)  # easy to forget packing `ys` in `Variable`\n",
    "\n",
    "            # predictions\n",
    "            preds = net(xs)\n",
    "\n",
    "            # count loss\n",
    "            loss_train = loss_func(preds, ys)\n",
    "\n",
    "            # clear grad and backwoard\n",
    "            optimizer.zero_grad()\n",
    "            loss_train.backward()\n",
    "            optimizer.step()\n",
    "\n",
    "            if idx % 50 == 0:\n",
    "                # set net state\n",
    "                net.eval()\n",
    "\n",
    "                # TODO: validation\n",
    "                acc_valid, loss_valid = [], []\n",
    "                for jdx, batch_v in enumerate(dataloader_valid):\n",
    "                    xs_v, ys_v = batch_v\n",
    "                    xs_v, ys_v = (xs_v.cuda(), ys_v.cuda()) if use_cuda else (xs_v, ys_v)\n",
    "                    xs_v, ys_v = Variable(xs_v), Variable(ys_v)\n",
    "                    preds_v = net(xs_v)\n",
    "                    loss_valid_raw = loss_func(preds_v, ys_v)\n",
    "                    loss_valid.append(loss_valid_raw.cpu().data.numpy() if use_cuda else loss_valid_raw.data.numpy())\n",
    "                    acc_valid.append(evaludate_acc(preds_v, ys_v)[0])\n",
    "\n",
    "                acc_train = evaludate_acc(net(Variable(xs_raw)), Variable(ys_raw))[0]\n",
    "                acc_valid = np.mean(acc_valid)\n",
    "                loss_valid = np.mean(loss_valid)\n",
    "                bag_loss['train'].append(loss_train.cpu().data.numpy() if use_cuda else loss_train.data.numpy())\n",
    "                bag_loss['valid'].append(loss_valid)\n",
    "                bag_acc['train'].append(acc_train)\n",
    "                bag_acc['valid'].append(acc_valid)\n",
    "\n",
    "                print('[Epoch: {}/{}] [Batch: {}/{}] [Loss-mean(train): {:.4f}] [Loss-mean(validation): {:.4f}] \\\n",
    "[Acc-mean(train): {:.4f}] [Acc-mean(validation): {:.4f}]'.format(\n",
    "                    epoch, sum_epochs, idx, len(dataloader_train),\n",
    "                    np.mean(bag_loss['train']), \n",
    "                    np.mean(bag_loss['valid']), \n",
    "                    np.mean(bag_acc['train']), \n",
    "                    np.mean(bag_acc['valid'])\n",
    "                ))\n",
    "                \n",
    "    return (bag_loss, bag_acc, net)"
   ]
  },
  {
   "cell_type": "code",
   "execution_count": 11,
   "metadata": {
    "collapsed": true
   },
   "outputs": [],
   "source": [
    "def evaludate_acc(y, target):\n",
    "    if isinstance(target, torch.autograd.Variable):\n",
    "        target = target.data\n",
    "    if isinstance(y, torch.autograd.Variable):\n",
    "        y = y.data\n",
    "    pred = torch.max(y, dim=1)[-1]\n",
    "    rights = pred.eq(target).sum()\n",
    "    length = y.size()[0]\n",
    "    acc = 1.0 * rights / length\n",
    "    return (acc, rights, length)"
   ]
  },
  {
   "cell_type": "code",
   "execution_count": 12,
   "metadata": {
    "collapsed": true
   },
   "outputs": [],
   "source": [
    "# init results\n",
    "\n",
    "results = {stage:{'train':[], 'valid':[]} for stage in ['loss', 'acc']}\n",
    "\n",
    "n_epoch = 4"
   ]
  },
  {
   "cell_type": "code",
   "execution_count": 13,
   "metadata": {},
   "outputs": [
    {
     "name": "stdout",
     "output_type": "stream",
     "text": [
      "[Epoch: 0/2] [Batch: 0/600] [Loss-mean(train): 2.3578] [Loss-mean(validation): 2.3029] [Acc-mean(train): 0.0900] [Acc-mean(validation): 0.1024]\n",
      "[Epoch: 0/2] [Batch: 50/600] [Loss-mean(train): 1.2907] [Loss-mean(validation): 2.1462] [Acc-mean(train): 0.2150] [Acc-mean(validation): 0.2501]\n",
      "[Epoch: 0/2] [Batch: 100/600] [Loss-mean(train): 0.8933] [Loss-mean(validation): 2.0884] [Acc-mean(train): 0.2600] [Acc-mean(validation): 0.3027]\n",
      "[Epoch: 0/2] [Batch: 150/600] [Loss-mean(train): 0.6912] [Loss-mean(validation): 2.1313] [Acc-mean(train): 0.3075] [Acc-mean(validation): 0.3291]\n",
      "[Epoch: 0/2] [Batch: 200/600] [Loss-mean(train): 0.5737] [Loss-mean(validation): 2.1968] [Acc-mean(train): 0.3180] [Acc-mean(validation): 0.3446]\n",
      "[Epoch: 0/2] [Batch: 250/600] [Loss-mean(train): 0.4933] [Loss-mean(validation): 2.3029] [Acc-mean(train): 0.3183] [Acc-mean(validation): 0.3555]\n",
      "[Epoch: 0/2] [Batch: 300/600] [Loss-mean(train): 0.4287] [Loss-mean(validation): 2.4174] [Acc-mean(train): 0.3243] [Acc-mean(validation): 0.3631]\n",
      "[Epoch: 0/2] [Batch: 350/600] [Loss-mean(train): 0.3764] [Loss-mean(validation): 2.5296] [Acc-mean(train): 0.3412] [Acc-mean(validation): 0.3688]\n",
      "[Epoch: 0/2] [Batch: 400/600] [Loss-mean(train): 0.3355] [Loss-mean(validation): 2.5752] [Acc-mean(train): 0.3400] [Acc-mean(validation): 0.3734]\n",
      "[Epoch: 0/2] [Batch: 450/600] [Loss-mean(train): 0.3024] [Loss-mean(validation): 2.6157] [Acc-mean(train): 0.3510] [Acc-mean(validation): 0.3770]\n",
      "[Epoch: 0/2] [Batch: 500/600] [Loss-mean(train): 0.2772] [Loss-mean(validation): 2.6580] [Acc-mean(train): 0.3545] [Acc-mean(validation): 0.3801]\n",
      "[Epoch: 0/2] [Batch: 550/600] [Loss-mean(train): 0.2544] [Loss-mean(validation): 2.7014] [Acc-mean(train): 0.3592] [Acc-mean(validation): 0.3825]\n",
      "[Epoch: 1/2] [Batch: 0/600] [Loss-mean(train): 0.2368] [Loss-mean(validation): 2.7286] [Acc-mean(train): 0.3623] [Acc-mean(validation): 0.3847]\n",
      "[Epoch: 1/2] [Batch: 50/600] [Loss-mean(train): 0.2203] [Loss-mean(validation): 2.7676] [Acc-mean(train): 0.3679] [Acc-mean(validation): 0.3864]\n",
      "[Epoch: 1/2] [Batch: 100/600] [Loss-mean(train): 0.2058] [Loss-mean(validation): 2.8088] [Acc-mean(train): 0.3740] [Acc-mean(validation): 0.3881]\n",
      "[Epoch: 1/2] [Batch: 150/600] [Loss-mean(train): 0.1933] [Loss-mean(validation): 2.8546] [Acc-mean(train): 0.3750] [Acc-mean(validation): 0.3895]\n",
      "[Epoch: 1/2] [Batch: 200/600] [Loss-mean(train): 0.1857] [Loss-mean(validation): 2.8869] [Acc-mean(train): 0.3794] [Acc-mean(validation): 0.3907]\n",
      "[Epoch: 1/2] [Batch: 250/600] [Loss-mean(train): 0.1757] [Loss-mean(validation): 2.9277] [Acc-mean(train): 0.3806] [Acc-mean(validation): 0.3917]\n",
      "[Epoch: 1/2] [Batch: 300/600] [Loss-mean(train): 0.1667] [Loss-mean(validation): 2.9644] [Acc-mean(train): 0.3816] [Acc-mean(validation): 0.3927]\n",
      "[Epoch: 1/2] [Batch: 350/600] [Loss-mean(train): 0.1585] [Loss-mean(validation): 3.0019] [Acc-mean(train): 0.3825] [Acc-mean(validation): 0.3936]\n",
      "[Epoch: 1/2] [Batch: 400/600] [Loss-mean(train): 0.1521] [Loss-mean(validation): 3.0328] [Acc-mean(train): 0.3862] [Acc-mean(validation): 0.3944]\n",
      "[Epoch: 1/2] [Batch: 450/600] [Loss-mean(train): 0.1453] [Loss-mean(validation): 3.0698] [Acc-mean(train): 0.3836] [Acc-mean(validation): 0.3950]\n",
      "[Epoch: 1/2] [Batch: 500/600] [Loss-mean(train): 0.1421] [Loss-mean(validation): 3.1047] [Acc-mean(train): 0.3809] [Acc-mean(validation): 0.3957]\n",
      "[Epoch: 1/2] [Batch: 550/600] [Loss-mean(train): 0.1363] [Loss-mean(validation): 3.1437] [Acc-mean(train): 0.3842] [Acc-mean(validation): 0.3963]\n"
     ]
    }
   ],
   "source": [
    "# train using 0~4\n",
    "import copy\n",
    "\n",
    "raw_out = {'loss':[], 'acc':[]}\n",
    "\n",
    "raw_out['loss'], raw_out['acc'], net = train_net(\n",
    "    net=net, loss_func=loss_func, optimizer=optimizer, digit_range=range(4),\n",
    "    sum_epochs=n_epoch//2\n",
    ")\n",
    "\n",
    "for ind in ['loss', 'acc']:\n",
    "    for stage in ['train', 'valid']:\n",
    "        items = [i[0] if isinstance(i, np.ndarray) else i for i in raw_out[ind][stage]]\n",
    "        results[ind][stage] = copy.deepcopy(items)"
   ]
  },
  {
   "cell_type": "code",
   "execution_count": 14,
   "metadata": {},
   "outputs": [
    {
     "name": "stdout",
     "output_type": "stream",
     "text": [
      "[Epoch: 0/2] [Batch: 0/600] [Loss-mean(train): 8.3367] [Loss-mean(validation): 4.2802] [Acc-mean(train): 0.3900] [Acc-mean(validation): 0.4102]\n",
      "[Epoch: 0/2] [Batch: 50/600] [Loss-mean(train): 4.4013] [Loss-mean(validation): 3.4487] [Acc-mean(train): 0.3900] [Acc-mean(validation): 0.4109]\n",
      "[Epoch: 0/2] [Batch: 100/600] [Loss-mean(train): 2.9626] [Loss-mean(validation): 3.2107] [Acc-mean(train): 0.4233] [Acc-mean(validation): 0.4274]\n",
      "[Epoch: 0/2] [Batch: 150/600] [Loss-mean(train): 2.2306] [Loss-mean(validation): 3.1510] [Acc-mean(train): 0.4525] [Acc-mean(validation): 0.4388]\n",
      "[Epoch: 0/2] [Batch: 200/600] [Loss-mean(train): 1.7933] [Loss-mean(validation): 3.1016] [Acc-mean(train): 0.4480] [Acc-mean(validation): 0.4455]\n",
      "[Epoch: 0/2] [Batch: 250/600] [Loss-mean(train): 1.4972] [Loss-mean(validation): 3.0931] [Acc-mean(train): 0.4550] [Acc-mean(validation): 0.4505]\n",
      "[Epoch: 0/2] [Batch: 300/600] [Loss-mean(train): 1.2972] [Loss-mean(validation): 3.0608] [Acc-mean(train): 0.4643] [Acc-mean(validation): 0.4543]\n",
      "[Epoch: 0/2] [Batch: 350/600] [Loss-mean(train): 1.1376] [Loss-mean(validation): 3.0709] [Acc-mean(train): 0.4675] [Acc-mean(validation): 0.4571]\n",
      "[Epoch: 0/2] [Batch: 400/600] [Loss-mean(train): 1.0133] [Loss-mean(validation): 3.0880] [Acc-mean(train): 0.4722] [Acc-mean(validation): 0.4595]\n",
      "[Epoch: 0/2] [Batch: 450/600] [Loss-mean(train): 0.9134] [Loss-mean(validation): 3.0987] [Acc-mean(train): 0.4760] [Acc-mean(validation): 0.4613]\n",
      "[Epoch: 0/2] [Batch: 500/600] [Loss-mean(train): 0.8345] [Loss-mean(validation): 3.1346] [Acc-mean(train): 0.4791] [Acc-mean(validation): 0.4631]\n",
      "[Epoch: 0/2] [Batch: 550/600] [Loss-mean(train): 0.7662] [Loss-mean(validation): 3.1275] [Acc-mean(train): 0.4792] [Acc-mean(validation): 0.4646]\n",
      "[Epoch: 1/2] [Batch: 0/600] [Loss-mean(train): 0.7214] [Loss-mean(validation): 3.1522] [Acc-mean(train): 0.4769] [Acc-mean(validation): 0.4656]\n",
      "[Epoch: 1/2] [Batch: 50/600] [Loss-mean(train): 0.6743] [Loss-mean(validation): 3.1497] [Acc-mean(train): 0.4743] [Acc-mean(validation): 0.4668]\n",
      "[Epoch: 1/2] [Batch: 100/600] [Loss-mean(train): 0.6301] [Loss-mean(validation): 3.1660] [Acc-mean(train): 0.4753] [Acc-mean(validation): 0.4677]\n",
      "[Epoch: 1/2] [Batch: 150/600] [Loss-mean(train): 0.5916] [Loss-mean(validation): 3.1636] [Acc-mean(train): 0.4800] [Acc-mean(validation): 0.4685]\n",
      "[Epoch: 1/2] [Batch: 200/600] [Loss-mean(train): 0.5580] [Loss-mean(validation): 3.1743] [Acc-mean(train): 0.4800] [Acc-mean(validation): 0.4692]\n",
      "[Epoch: 1/2] [Batch: 250/600] [Loss-mean(train): 0.5294] [Loss-mean(validation): 3.1848] [Acc-mean(train): 0.4794] [Acc-mean(validation): 0.4699]\n",
      "[Epoch: 1/2] [Batch: 300/600] [Loss-mean(train): 0.5017] [Loss-mean(validation): 3.1948] [Acc-mean(train): 0.4816] [Acc-mean(validation): 0.4705]\n",
      "[Epoch: 1/2] [Batch: 350/600] [Loss-mean(train): 0.4787] [Loss-mean(validation): 3.1999] [Acc-mean(train): 0.4815] [Acc-mean(validation): 0.4710]\n",
      "[Epoch: 1/2] [Batch: 400/600] [Loss-mean(train): 0.4582] [Loss-mean(validation): 3.1989] [Acc-mean(train): 0.4857] [Acc-mean(validation): 0.4715]\n",
      "[Epoch: 1/2] [Batch: 450/600] [Loss-mean(train): 0.4390] [Loss-mean(validation): 3.1987] [Acc-mean(train): 0.4855] [Acc-mean(validation): 0.4720]\n",
      "[Epoch: 1/2] [Batch: 500/600] [Loss-mean(train): 0.4248] [Loss-mean(validation): 3.2046] [Acc-mean(train): 0.4865] [Acc-mean(validation): 0.4724]\n",
      "[Epoch: 1/2] [Batch: 550/600] [Loss-mean(train): 0.4108] [Loss-mean(validation): 3.2141] [Acc-mean(train): 0.4871] [Acc-mean(validation): 0.4727]\n"
     ]
    }
   ],
   "source": [
    "# train using 5~9\n",
    "\n",
    "raw_out = {'loss':[], 'acc':[]}\n",
    "\n",
    "raw_out['loss'], raw_out['acc'], net = train_net(\n",
    "    net=net, loss_func=loss_func, optimizer=optimizer, digit_range=range(5,9+1),\n",
    "    sum_epochs=n_epoch//2\n",
    ")\n",
    "\n",
    "for ind in ['loss', 'acc']:\n",
    "    for stage in ['train', 'valid']:\n",
    "        items = [i[0] if isinstance(i, np.ndarray) else i for i in raw_out[ind][stage]]\n",
    "        results[ind][stage].extend(items)"
   ]
  },
  {
   "cell_type": "code",
   "execution_count": 15,
   "metadata": {
    "collapsed": true
   },
   "outputs": [],
   "source": [
    "# save data: train & validation\n",
    "\n",
    "dirname = 'outputs'\n",
    "if not os.path.isdir(dirname):\n",
    "    os.mkdir(dirname)\n",
    "\n",
    "for stage in ['train', 'valid']:\n",
    "    tmp_pd = pd.DataFrame(data={ind:results[ind][stage] for ind in ['loss', 'acc']})\n",
    "    filename = os.path.join(os.getcwd(), dirname, 'convnet00-{}.csv'.format(stage))\n",
    "    tmp_pd.to_csv(filename)"
   ]
  },
  {
   "cell_type": "code",
   "execution_count": 25,
   "metadata": {
    "scrolled": false
   },
   "outputs": [
    {
     "data": {
      "image/png": "[encoded data removed]",
      "text/plain": [
       "<matplotlib.figure.Figure at 0x7f15b5200c50>"
      ]
     },
     "metadata": {},
     "output_type": "display_data"
    }
   ],
   "source": [
    "# plot: train & validation\n",
    "        \n",
    "fig, (ax0, ax1) = plt.subplots(1,2, figsize=(15, 5))\n",
    "axes = {'loss':ax0, 'acc':ax1}\n",
    "\n",
    "x_inds = np.arange(4 * len(dataloader_train) // 50)\n",
    "for ind in ['loss', 'acc']:\n",
    "    for stage in ['train', 'valid']:\n",
    "        axes[ind].plot(x_inds, results[ind][stage], label='{}_{}'.format(ind, stage))\n",
    "\n",
    "    axes[ind].set_xlabel('num_iter')\n",
    "    axes[ind].set_ylabel(ind)\n",
    "    axes[ind].set_title('data on: convnet_0')\n",
    "    axes[ind].legend()\n",
    "    \n",
    "plt.tight_layout(w_pad=10)\n",
    "\n",
    "filename = os.path.join(os.getcwd(), 'outputs', 'convnet00-curves_train-validation')\n",
    "plt.savefig(filename)\n",
    "\n",
    "# fig.show() \n",
    "# comment the command above to avoid warning \n",
    "#`UserWarning: matplotlib is currently using a non-GUI backend, so cannot show the figure`"
   ]
  },
  {
   "cell_type": "code",
   "execution_count": 17,
   "metadata": {
    "collapsed": true
   },
   "outputs": [],
   "source": [
    "# test\n",
    "\n",
    "net.eval()\n",
    "\n",
    "loss_test = []\n",
    "acc_test = []\n",
    "\n",
    "for kdx, batch_t in enumerate(dataloader_test):\n",
    "    xs_t, ys_t = batch_t\n",
    "    xs_t, ys_t = (xs_t.cuda(), ys_t.cuda()) if use_cuda else (xs_t, ys_t)\n",
    "    xs_t, ys_t = Variable(xs_t), Variable(ys_t)\n",
    "    preds_t = net(xs_t)\n",
    "    loss_test_raw = loss_func(preds_t, ys_t)\n",
    "    loss_test.append(loss_test_raw.cpu().data.numpy() if use_cuda else loss_test_raw.data.numpy())\n",
    "    acc_test.append(evaludate_acc(preds_t, ys_t)[0])\n",
    "\n",
    "items = [i[0] if isinstance(i, np.ndarray) else i for i in loss_test]\n",
    "results['loss']['test'] = copy.deepcopy(items)\n",
    "items = [i[0] if isinstance(i, np.ndarray) else i for i in acc_test]\n",
    "results['acc']['test'] = copy.deepcopy(items)"
   ]
  },
  {
   "cell_type": "code",
   "execution_count": 18,
   "metadata": {},
   "outputs": [],
   "source": [
    "# save data: test\n",
    "\n",
    "dirname = 'outputs'\n",
    "if not os.path.isdir(dirname):\n",
    "    os.mkdir(dirname)\n",
    "\n",
    "stage = 'test'\n",
    "tmp_pd = pd.DataFrame(data={ind:results[ind][stage] for ind in ['loss', 'acc']})\n",
    "filename = os.path.join(os.getcwd(), dirname, 'convnet_0-{}.csv'.format(stage))\n",
    "tmp_pd.to_csv(filename)"
   ]
  },
  {
   "cell_type": "code",
   "execution_count": 24,
   "metadata": {},
   "outputs": [
    {
     "data": {
      "image/png": "[encoded data removed]",
      "text/plain": [
       "<matplotlib.figure.Figure at 0x7f15b4f1d4a8>"
      ]
     },
     "metadata": {},
     "output_type": "display_data"
    }
   ],
   "source": [
    "# plot: test\n",
    "\n",
    "x_inds = np.arange(len(dataloader_test))\n",
    "fig, (ax0, ax1) = plt.subplots(1,2, figsize=(15,5))\n",
    "ax0.plot(x_inds, loss_test, label='loss_test')\n",
    "ax1.plot(x_inds, acc_test, label='acc_test')\n",
    "ax0.set_xlabel('num_iter')\n",
    "ax1.set_xlabel('num_iter')\n",
    "ax0.set_ylabel('loss')\n",
    "ax1.set_ylabel('accuracy')\n",
    "\n",
    "filename = os.path.join(os.getcwd(), 'outputs', 'curves_test')\n",
    "plt.savefig(filename)"
   ]
  },
  {
   "cell_type": "code",
   "execution_count": 20,
   "metadata": {},
   "outputs": [
    {
     "name": "stdout",
     "output_type": "stream",
     "text": [
      "finish first tiral\n"
     ]
    }
   ],
   "source": [
    "print('finish first tiral')"
   ]
  },
  {
   "cell_type": "markdown",
   "metadata": {},
   "source": [
    "## 1.2 details"
   ]
  },
  {
   "cell_type": "markdown",
   "metadata": {},
   "source": [
    "blabla..."
   ]
  },
  {
   "cell_type": "markdown",
   "metadata": {},
   "source": [
    "# 2. ConvNet_1 [0~4 -> 0~9]"
   ]
  },
  {
   "cell_type": "markdown",
   "metadata": {},
   "source": [
    "## 2.1 train and test"
   ]
  },
  {
   "cell_type": "code",
   "execution_count": null,
   "metadata": {
    "collapsed": true
   },
   "outputs": [],
   "source": [
    "# define class"
   ]
  },
  {
   "cell_type": "code",
   "execution_count": null,
   "metadata": {
    "collapsed": true
   },
   "outputs": [],
   "source": [
    "# train using 0~4"
   ]
  },
  {
   "cell_type": "code",
   "execution_count": null,
   "metadata": {
    "collapsed": true
   },
   "outputs": [],
   "source": [
    "# train using 0~9"
   ]
  },
  {
   "cell_type": "code",
   "execution_count": null,
   "metadata": {
    "collapsed": true
   },
   "outputs": [],
   "source": [
    "# test"
   ]
  },
  {
   "cell_type": "markdown",
   "metadata": {},
   "source": [
    "## 2.2 details"
   ]
  },
  {
   "cell_type": "markdown",
   "metadata": {},
   "source": [
    "blabla..."
   ]
  },
  {
   "cell_type": "markdown",
   "metadata": {},
   "source": [
    "# 3. ConvNet_2 [0~9]"
   ]
  },
  {
   "cell_type": "markdown",
   "metadata": {},
   "source": [
    "## 3.1 train and test"
   ]
  },
  {
   "cell_type": "code",
   "execution_count": null,
   "metadata": {
    "collapsed": true
   },
   "outputs": [],
   "source": [
    "# define class"
   ]
  },
  {
   "cell_type": "code",
   "execution_count": null,
   "metadata": {
    "collapsed": true
   },
   "outputs": [],
   "source": [
    "# train using 0~9"
   ]
  },
  {
   "cell_type": "code",
   "execution_count": null,
   "metadata": {
    "collapsed": true
   },
   "outputs": [],
   "source": [
    "# test"
   ]
  },
  {
   "cell_type": "markdown",
   "metadata": {},
   "source": [
    "## 3.2 details"
   ]
  },
  {
   "cell_type": "markdown",
   "metadata": {},
   "source": [
    "blabla..."
   ]
  },
  {
   "cell_type": "code",
   "execution_count": null,
   "metadata": {
    "collapsed": true
   },
   "outputs": [],
   "source": []
  },
  {
   "cell_type": "code",
   "execution_count": null,
   "metadata": {
    "collapsed": true
   },
   "outputs": [],
   "source": []
  },
  {
   "cell_type": "code",
   "execution_count": null,
   "metadata": {
    "collapsed": true
   },
   "outputs": [],
   "source": []
  },
  {
   "cell_type": "code",
   "execution_count": null,
   "metadata": {
    "collapsed": true
   },
   "outputs": [],
   "source": []
  }
 ],
 "metadata": {
  "kernelspec": {
   "display_name": "Python 3",
   "language": "python",
   "name": "python3"
  },
  "language_info": {
   "codemirror_mode": {
    "name": "ipython",
    "version": 3
   },
   "file_extension": ".py",
   "mimetype": "text/x-python",
   "name": "python",
   "nbconvert_exporter": "python",
   "pygments_lexer": "ipython3",
   "version": "3.6.1"
  }
 },
 "nbformat": 4,
 "nbformat_minor": 2
}
