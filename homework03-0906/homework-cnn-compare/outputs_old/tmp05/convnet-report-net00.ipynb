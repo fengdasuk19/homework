{
 "cells": [
  {
   "cell_type": "markdown",
   "metadata": {},
   "source": [
    "Under the condition where epoch = 100, compare three kinds of convnets using different training ways:\n",
    "\n",
    "1. Firstly train digits 0~4, then 5~9\n",
    "2. Firstly train digits 0~4, then 0~9\n",
    "3. Firstly train digits 0~9"
   ]
  },
  {
   "cell_type": "markdown",
   "metadata": {},
   "source": [
    "Compare way:\n",
    "\n",
    "1. curves' shape\n",
    "2. accuracy on test sets\n",
    "3. **[Note]** Conclusions must be based on means of results from multiple experients, 5 at least."
   ]
  },
  {
   "cell_type": "markdown",
   "metadata": {},
   "source": [
    "You should commit:\n",
    "\n",
    "1. Source code\n",
    "2. A PDF report with details of experiments, including details of methods, results in graphs and conclusion."
   ]
  },
  {
   "cell_type": "markdown",
   "metadata": {},
   "source": [
    " --------------------------------------------------------------"
   ]
  },
  {
   "cell_type": "markdown",
   "metadata": {},
   "source": [
    "# -1. Preparation"
   ]
  },
  {
   "cell_type": "code",
   "execution_count": 2,
   "metadata": {
    "collapsed": true
   },
   "outputs": [],
   "source": [
    "#import modules\n",
    "import os\n",
    "import copy\n",
    "\n",
    "import numpy as np\n",
    "import pandas as pd\n",
    "import matplotlib.pyplot as plt\n",
    "\n",
    "import torch\n",
    "from torch import nn\n",
    "from torch.autograd import Variable\n",
    "\n",
    "from IPython.display import display\n",
    "%matplotlib inline"
   ]
  },
  {
   "cell_type": "code",
   "execution_count": 3,
   "metadata": {
    "collapsed": true
   },
   "outputs": [],
   "source": [
    "# define some constant variables\n",
    "\n",
    "use_cuda = torch.cuda.is_available()\n",
    "dtype_float = torch.cuda.FloatTensor if use_cuda else torch.FloatTensor\n",
    "dtype_long = torch.cuda.LongTensor if use_cuda else torch.LongTensor"
   ]
  },
  {
   "cell_type": "code",
   "execution_count": 4,
   "metadata": {
    "collapsed": true
   },
   "outputs": [],
   "source": [
    "import torchvision\n",
    "\n",
    "# prepare MNIST\n",
    "\n",
    "path_datasets = './datasets'\n",
    "\n",
    "transform_set = torchvision.transforms.Compose([\n",
    "    torchvision.transforms.ToTensor()\n",
    "])\n",
    "data_train = torchvision.datasets.MNIST(root=path_datasets, train=True, download=True, \n",
    "                                        transform=transform_set) \n",
    "data_test = torchvision.datasets.MNIST(root=path_datasets, train=False, download=True,\n",
    "                                        transform=transform_set)"
   ]
  },
  {
   "cell_type": "code",
   "execution_count": 5,
   "metadata": {
    "collapsed": true
   },
   "outputs": [],
   "source": [
    "batch_size = 100\n",
    "n_class = 10\n",
    "\n",
    "##dataloader_train\n",
    "dataloader_train = torch.utils.data.DataLoader(dataset=data_train, batch_size=batch_size, shuffle=True)\n",
    "\n",
    "##dataloader_valid\n",
    "\n",
    "indices_valid = range(len(data_test)//2)\n",
    "sampler_valid = torch.utils.data.sampler.SubsetRandomSampler(indices=indices_valid)\n",
    "dataloader_valid = torch.utils.data.DataLoader(dataset=data_test, batch_size=batch_size, sampler=sampler_valid)\n",
    "\n",
    "##dataloader_test\n",
    "\n",
    "indices_test = range(len(data_test)//2, len(data_test))\n",
    "sampler_test = torch.utils.data.sampler.SubsetRandomSampler(indices=indices_test)\n",
    "\n",
    "dataloader_test = torch.utils.data.DataLoader(dataset=data_test, batch_size=batch_size, sampler=sampler_test)"
   ]
  },
  {
   "cell_type": "markdown",
   "metadata": {},
   "source": [
    "## 查看三个数据迭代器的结果"
   ]
  },
  {
   "cell_type": "code",
   "execution_count": 7,
   "metadata": {
    "scrolled": false
   },
   "outputs": [
    {
     "data": {
      "text/html": [
       "<div>\n",
       "<style>\n",
       "    .dataframe thead tr:only-child th {\n",
       "        text-align: right;\n",
       "    }\n",
       "\n",
       "    .dataframe thead th {\n",
       "        text-align: left;\n",
       "    }\n",
       "\n",
       "    .dataframe tbody tr th {\n",
       "        vertical-align: top;\n",
       "    }\n",
       "</style>\n",
       "<table border=\"1\" class=\"dataframe\">\n",
       "  <thead>\n",
       "    <tr style=\"text-align: right;\">\n",
       "      <th></th>\n",
       "      <th>0</th>\n",
       "    </tr>\n",
       "  </thead>\n",
       "  <tbody>\n",
       "    <tr>\n",
       "      <th>0</th>\n",
       "      <td>5923</td>\n",
       "    </tr>\n",
       "    <tr>\n",
       "      <th>1</th>\n",
       "      <td>6742</td>\n",
       "    </tr>\n",
       "    <tr>\n",
       "      <th>2</th>\n",
       "      <td>5958</td>\n",
       "    </tr>\n",
       "    <tr>\n",
       "      <th>3</th>\n",
       "      <td>6131</td>\n",
       "    </tr>\n",
       "    <tr>\n",
       "      <th>4</th>\n",
       "      <td>5842</td>\n",
       "    </tr>\n",
       "    <tr>\n",
       "      <th>5</th>\n",
       "      <td>5421</td>\n",
       "    </tr>\n",
       "    <tr>\n",
       "      <th>6</th>\n",
       "      <td>5918</td>\n",
       "    </tr>\n",
       "    <tr>\n",
       "      <th>7</th>\n",
       "      <td>6265</td>\n",
       "    </tr>\n",
       "    <tr>\n",
       "      <th>8</th>\n",
       "      <td>5851</td>\n",
       "    </tr>\n",
       "    <tr>\n",
       "      <th>9</th>\n",
       "      <td>5949</td>\n",
       "    </tr>\n",
       "  </tbody>\n",
       "</table>\n",
       "</div>"
      ],
      "text/plain": [
       "      0\n",
       "0  5923\n",
       "1  6742\n",
       "2  5958\n",
       "3  6131\n",
       "4  5842\n",
       "5  5421\n",
       "6  5918\n",
       "7  6265\n",
       "8  5851\n",
       "9  5949"
      ]
     },
     "metadata": {},
     "output_type": "display_data"
    },
    {
     "data": {
      "image/png": "[encoded data removed]",
      "text/plain": [
       "<matplotlib.figure.Figure at 0x7fdd15219550>"
      ]
     },
     "metadata": {},
     "output_type": "display_data"
    },
    {
     "data": {
      "text/plain": [
       "<matplotlib.figure.Figure at 0x7fdd15a7b4a8>"
      ]
     },
     "metadata": {},
     "output_type": "display_data"
    }
   ],
   "source": [
    "count = {i:0 for i in range(n_class)}\n",
    "for i,data in enumerate(dataloader_train):\n",
    "    xs,ys = data\n",
    "    for y in ys:\n",
    "        count[y] += 1\n",
    "\n",
    "count = [count[i] for i in range(n_class)]\n",
    "display(pd.DataFrame(data=count))\n",
    "plt.bar(left=np.arange(n_class), height=count)\n",
    "plt.xlabel('digit classes')\n",
    "plt.ylabel('num of samples')\n",
    "plt.title('simple stat: data_train')\n",
    "plt.show()\n",
    "plt.savefig('stat-train')"
   ]
  },
  {
   "cell_type": "code",
   "execution_count": 8,
   "metadata": {},
   "outputs": [
    {
     "data": {
      "text/html": [
       "<div>\n",
       "<style>\n",
       "    .dataframe thead tr:only-child th {\n",
       "        text-align: right;\n",
       "    }\n",
       "\n",
       "    .dataframe thead th {\n",
       "        text-align: left;\n",
       "    }\n",
       "\n",
       "    .dataframe tbody tr th {\n",
       "        vertical-align: top;\n",
       "    }\n",
       "</style>\n",
       "<table border=\"1\" class=\"dataframe\">\n",
       "  <thead>\n",
       "    <tr style=\"text-align: right;\">\n",
       "      <th></th>\n",
       "      <th>0</th>\n",
       "    </tr>\n",
       "  </thead>\n",
       "  <tbody>\n",
       "    <tr>\n",
       "      <th>0</th>\n",
       "      <td>460</td>\n",
       "    </tr>\n",
       "    <tr>\n",
       "      <th>1</th>\n",
       "      <td>571</td>\n",
       "    </tr>\n",
       "    <tr>\n",
       "      <th>2</th>\n",
       "      <td>530</td>\n",
       "    </tr>\n",
       "    <tr>\n",
       "      <th>3</th>\n",
       "      <td>500</td>\n",
       "    </tr>\n",
       "    <tr>\n",
       "      <th>4</th>\n",
       "      <td>500</td>\n",
       "    </tr>\n",
       "    <tr>\n",
       "      <th>5</th>\n",
       "      <td>456</td>\n",
       "    </tr>\n",
       "    <tr>\n",
       "      <th>6</th>\n",
       "      <td>462</td>\n",
       "    </tr>\n",
       "    <tr>\n",
       "      <th>7</th>\n",
       "      <td>512</td>\n",
       "    </tr>\n",
       "    <tr>\n",
       "      <th>8</th>\n",
       "      <td>489</td>\n",
       "    </tr>\n",
       "    <tr>\n",
       "      <th>9</th>\n",
       "      <td>520</td>\n",
       "    </tr>\n",
       "  </tbody>\n",
       "</table>\n",
       "</div>"
      ],
      "text/plain": [
       "     0\n",
       "0  460\n",
       "1  571\n",
       "2  530\n",
       "3  500\n",
       "4  500\n",
       "5  456\n",
       "6  462\n",
       "7  512\n",
       "8  489\n",
       "9  520"
      ]
     },
     "metadata": {},
     "output_type": "display_data"
    },
    {
     "data": {
      "image/png": "[encoded data removed]",
      "text/plain": [
       "<matplotlib.figure.Figure at 0x7fdd15a730b8>"
      ]
     },
     "metadata": {},
     "output_type": "display_data"
    },
    {
     "data": {
      "text/plain": [
       "<matplotlib.figure.Figure at 0x7fdd15203860>"
      ]
     },
     "metadata": {},
     "output_type": "display_data"
    }
   ],
   "source": [
    "count = {i:0 for i in range(n_class)}\n",
    "for i,data in enumerate(dataloader_valid):\n",
    "    xs,ys = data\n",
    "    for y in ys:\n",
    "        count[y] += 1\n",
    "\n",
    "count = [count[i] for i in range(n_class)]\n",
    "display(pd.DataFrame(data=count))\n",
    "plt.bar(left=np.arange(n_class), height=count)\n",
    "plt.xlabel('digit classes')\n",
    "plt.ylabel('num of samples')\n",
    "plt.title('simple stat: data_valid')\n",
    "plt.show()\n",
    "plt.savefig('stat-validation')"
   ]
  },
  {
   "cell_type": "code",
   "execution_count": 9,
   "metadata": {},
   "outputs": [
    {
     "data": {
      "text/html": [
       "<div>\n",
       "<style>\n",
       "    .dataframe thead tr:only-child th {\n",
       "        text-align: right;\n",
       "    }\n",
       "\n",
       "    .dataframe thead th {\n",
       "        text-align: left;\n",
       "    }\n",
       "\n",
       "    .dataframe tbody tr th {\n",
       "        vertical-align: top;\n",
       "    }\n",
       "</style>\n",
       "<table border=\"1\" class=\"dataframe\">\n",
       "  <thead>\n",
       "    <tr style=\"text-align: right;\">\n",
       "      <th></th>\n",
       "      <th>0</th>\n",
       "    </tr>\n",
       "  </thead>\n",
       "  <tbody>\n",
       "    <tr>\n",
       "      <th>0</th>\n",
       "      <td>520</td>\n",
       "    </tr>\n",
       "    <tr>\n",
       "      <th>1</th>\n",
       "      <td>564</td>\n",
       "    </tr>\n",
       "    <tr>\n",
       "      <th>2</th>\n",
       "      <td>502</td>\n",
       "    </tr>\n",
       "    <tr>\n",
       "      <th>3</th>\n",
       "      <td>510</td>\n",
       "    </tr>\n",
       "    <tr>\n",
       "      <th>4</th>\n",
       "      <td>482</td>\n",
       "    </tr>\n",
       "    <tr>\n",
       "      <th>5</th>\n",
       "      <td>436</td>\n",
       "    </tr>\n",
       "    <tr>\n",
       "      <th>6</th>\n",
       "      <td>496</td>\n",
       "    </tr>\n",
       "    <tr>\n",
       "      <th>7</th>\n",
       "      <td>516</td>\n",
       "    </tr>\n",
       "    <tr>\n",
       "      <th>8</th>\n",
       "      <td>485</td>\n",
       "    </tr>\n",
       "    <tr>\n",
       "      <th>9</th>\n",
       "      <td>489</td>\n",
       "    </tr>\n",
       "  </tbody>\n",
       "</table>\n",
       "</div>"
      ],
      "text/plain": [
       "     0\n",
       "0  520\n",
       "1  564\n",
       "2  502\n",
       "3  510\n",
       "4  482\n",
       "5  436\n",
       "6  496\n",
       "7  516\n",
       "8  485\n",
       "9  489"
      ]
     },
     "metadata": {},
     "output_type": "display_data"
    },
    {
     "data": {
      "image/png": "[encoded data removed]",
      "text/plain": [
       "<matplotlib.figure.Figure at 0x7fdd7809f0b8>"
      ]
     },
     "metadata": {},
     "output_type": "display_data"
    },
    {
     "data": {
      "text/plain": [
       "<matplotlib.figure.Figure at 0x7fdd159eef98>"
      ]
     },
     "metadata": {},
     "output_type": "display_data"
    }
   ],
   "source": [
    "count = {i:0 for i in range(n_class)}\n",
    "for i,data in enumerate(dataloader_test):\n",
    "    xs,ys = data\n",
    "    for y in ys:\n",
    "        count[y] += 1\n",
    "\n",
    "count = [count[i] for i in range(n_class)]\n",
    "display(pd.DataFrame(data=count))\n",
    "plt.bar(left=np.arange(n_class), height=count)\n",
    "plt.xlabel('digit classes')\n",
    "plt.ylabel('num of samples')\n",
    "plt.title('simple stat: data_test')\n",
    "plt.show()\n",
    "plt.savefig('stat-test')"
   ]
  },
  {
   "cell_type": "markdown",
   "metadata": {},
   "source": [
    "# 0. ConvNet class"
   ]
  },
  {
   "cell_type": "code",
   "execution_count": 10,
   "metadata": {
    "collapsed": true
   },
   "outputs": [],
   "source": [
    "from  torch.nn import functional as F\n",
    "\n",
    "n_channels = 1\n",
    "n_class = 10\n",
    "size_image = 28\n",
    "\n",
    "depth = [8, 16, 32]\n",
    "fc = [1024, 128, n_class]\n",
    "ksize = [5, 5, 5]\n",
    "pad = [2, 2, 2]\n",
    "\n",
    "net_names = []\n",
    "\n",
    "# define class\n",
    "\n",
    "class ConvNet(nn.Module):\n",
    "    \n",
    "    def __init__(self, init_name):\n",
    "        super(ConvNet, self).__init__()\n",
    "        # init\n",
    "        global net_names\n",
    "        assert init_name not in net_names, \"Name existed: {}\".format(net_names)\n",
    "        net_names.append(init_name)\n",
    "        self.name = init_name\n",
    "        \n",
    "        # conv-net\n",
    "        self.conv00 = nn.Conv2d(in_channels=n_channels, out_channels=depth[0], kernel_size=ksize[0], padding=pad[0])\n",
    "        self.conv01 = nn.Conv2d(in_channels=depth[0], out_channels=depth[1], kernel_size=ksize[1], padding=pad[1])\n",
    "        self.conv02 = nn.Conv2d(in_channels=depth[1], out_channels=depth[2], kernel_size=ksize[2], padding=pad[2])\n",
    "        self.maxpool = nn.MaxPool2d(kernel_size=2, stride=2)\n",
    "        \n",
    "        # full-connect\n",
    "        self.fc00 = nn.Linear(in_features=(size_image//4//2)*(size_image//4//2)*depth[2], out_features=fc[0])\n",
    "        self.fc01 = nn.Linear(in_features=fc[0], out_features=fc[1])\n",
    "        self.fc02 = nn.Linear(in_features=fc[1], out_features=fc[2])\n",
    "        \n",
    "        self.bn1d = nn.BatchNorm1d(num_features=fc[1])\n",
    "        \n",
    "    def rename(self, new_name):\n",
    "        global net_names\n",
    "        net_names.remove(self.name)\n",
    "        self.name = new_name\n",
    "        net_names.append(new_name)\n",
    "    \n",
    "    def forward(self, x, training=True):\n",
    "        x = F.leaky_relu(self.conv00(x))\n",
    "        x = self.maxpool(x)\n",
    "        x = F.leaky_relu(self.conv01(x))\n",
    "        x = self.maxpool(x)\n",
    "        x = F.leaky_relu(self.conv02(x))\n",
    "        x = self.maxpool(x)\n",
    "        x = x.view(-1, (size_image//4//2)*(size_image//4//2)*depth[2])\n",
    "        \n",
    "        x = F.leaky_relu(self.fc00(x))\n",
    "        x = F.dropout(x, training=self.training)\n",
    "        x = F.leaky_relu(self.fc01(x))\n",
    "        x = self.bn1d(x)\n",
    "        x = F.leaky_relu(self.fc02(x))\n",
    "        \n",
    "        return x"
   ]
  },
  {
   "cell_type": "code",
   "execution_count": 11,
   "metadata": {
    "collapsed": true
   },
   "outputs": [],
   "source": [
    "def evaludate_acc(y, target):\n",
    "    if isinstance(target, torch.autograd.Variable):\n",
    "        target = target.cpu().data if use_cuda else target.data\n",
    "    if isinstance(y, torch.autograd.Variable):\n",
    "        y = y.cpu().data if use_cuda else y.data\n",
    "    pred = torch.max(y, dim=1)[-1]\n",
    "    rights = pred.eq(target).sum()\n",
    "    length = y.size()[0]\n",
    "    acc = 1.0 * rights / length\n",
    "    return (acc, rights, length)"
   ]
  },
  {
   "cell_type": "code",
   "execution_count": 12,
   "metadata": {
    "collapsed": true
   },
   "outputs": [],
   "source": [
    "# define training function using specified digits\n",
    "\n",
    "\n",
    "def train_net(net, loss_func, optimizer, digit_range, sum_epochs=15, interval_valid=50):\n",
    "    bag_loss = {'train':[], 'valid':[]}\n",
    "    bag_acc = {'train':[], 'valid':[]}\n",
    "    for epoch in range(sum_epochs):\n",
    "        for idx,batch in enumerate(dataloader_train):\n",
    "            # set net state\n",
    "            net.train()\n",
    "\n",
    "            # fetch batch for this round, then choose points that are in `digit_range`\n",
    "            xs_raw, ys_raw = batch\n",
    "            xs, ys = [], []\n",
    "            for (data,label) in zip(xs_raw, ys_raw):\n",
    "                if label in digit_range:\n",
    "                    xs.append(data.unsqueeze(0))\n",
    "                    ys.append(label)\n",
    "            xs = torch.cat(xs)\n",
    "            ys = torch.from_numpy(np.array(ys))\n",
    "            xs, ys = (xs.cuda(), ys.cuda()) if use_cuda else (xs, ys)\n",
    "            \n",
    "            # pack in Variable\n",
    "            xs, ys = Variable(xs), Variable(ys)  # easy to forget packing `ys` in `Variable`\n",
    "\n",
    "            # predictions\n",
    "            preds = net(xs)\n",
    "\n",
    "            # count loss\n",
    "            loss_train = loss_func(preds, ys)\n",
    "\n",
    "            # clear grad and backwoard\n",
    "            optimizer.zero_grad()\n",
    "            loss_train.backward()\n",
    "            optimizer.step()\n",
    "\n",
    "            if idx % interval_valid == 0:\n",
    "                # set net state\n",
    "                net.eval()\n",
    "\n",
    "                # TODO: validation\n",
    "                acc_valid, loss_valid = [], []\n",
    "                for jdx, batch_v in enumerate(dataloader_valid):\n",
    "                    xs_v, ys_v = batch_v\n",
    "                    xs_v, ys_v = (xs_v.cuda(), ys_v.cuda()) if use_cuda else (xs_v, ys_v)\n",
    "                    xs_v, ys_v = Variable(xs_v), Variable(ys_v)\n",
    "                    preds_v = net(xs_v)\n",
    "                    loss_valid_raw = loss_func(preds_v, ys_v)\n",
    "                    loss_valid.append(loss_valid_raw.cpu().data.numpy() if use_cuda else loss_valid_raw.data.numpy())\n",
    "                    acc_valid.append(evaludate_acc(preds_v, ys_v)[0])\n",
    "\n",
    "                train_xs_raw, train_ys_raw = (xs_raw.cuda(), ys_raw.cuda()) if use_cuda else (xs_raw, ys_raw)\n",
    "                acc_train = evaludate_acc(net(Variable(train_xs_raw)), Variable(train_ys_raw))[0]\n",
    "                acc_valid = np.mean(acc_valid)\n",
    "                loss_valid = np.mean(loss_valid)\n",
    "                bag_loss['train'].append(loss_train.cpu().data.numpy() if use_cuda else loss_train.data.numpy())\n",
    "                bag_loss['valid'].append(loss_valid)\n",
    "                bag_acc['train'].append(acc_train)\n",
    "                bag_acc['valid'].append(acc_valid)\n",
    "\n",
    "                print('[Epoch: {}/{}] [Batch: {}/{}] [Loss-mean(train): {:.4f}] [Loss-mean(validation): {:.4f}] \\\n",
    "[Acc-mean(train): {:.4f}] [Acc-mean(validation): {:.4f}]'.format(\n",
    "                    epoch, sum_epochs, idx, len(dataloader_train),\n",
    "                    np.mean(bag_loss['train']), \n",
    "                    np.mean(bag_loss['valid']), \n",
    "                    np.mean(bag_acc['train']), \n",
    "                    np.mean(bag_acc['valid'])\n",
    "                ), end='\\r')\n",
    "                \n",
    "    return (bag_loss, bag_acc, net)"
   ]
  },
  {
   "cell_type": "code",
   "execution_count": 13,
   "metadata": {
    "collapsed": true
   },
   "outputs": [],
   "source": [
    "# import module needed\n",
    "import copy\n",
    "import datetime\n",
    "import matplotlib.markers as plt_markers\n",
    "\n",
    "\n",
    "# define helper class\n",
    "class CoachTeam(object):\n",
    "    \n",
    "    def __init__(self, net, optimizer, loss_func, \n",
    "                 stage_names=['train', 'valid', 'test'], ind_names=['loss', 'acc']):\n",
    "        # net components\n",
    "        self.net = copy.deepcopy(net)\n",
    "        assert hasattr(self.net, 'name'), 'The nn object you want to use should have \\\n",
    "an attribute called `name`.'\n",
    "        self.optimizer = optimizer(self.net.parameters())\n",
    "        self.loss_func = loss_func\n",
    "\n",
    "        # storage\n",
    "        self.stage_names = stage_names\n",
    "        self.ind_names = ind_names\n",
    "        self.results = {ind:{stage:[] for stage in self.stage_names} for ind in self.ind_names}\n",
    "        \n",
    "    def pipeline_helper(self, n_iters, digit_rangesss, sum_epochs=15, interval_valid=50, dirname_prefix='outputs'):\n",
    "        # set dirname\n",
    "        self.dirname = dirname_prefix + '_' + datetime.datetime.now().strftime('%y%m%d-%H%M%S')\n",
    "        if not os.path.isdir(self.dirname):\n",
    "            os.mkdir(self.dirname)\n",
    "        for i in range(n_iters):\n",
    "            # reset data for each experiment\n",
    "            net = copy.deepcopy(self.net)\n",
    "            self.results = {ind:{stage:[] for stage in self.stage_names} for ind in self.ind_names}\n",
    "            \n",
    "            # working pipeline\n",
    "            self.train_helper(net, self.loss_func, self.optimizer, digit_rangesss, \n",
    "                              sum_epochs=sum_epochs, interval_valid=interval_valid)\n",
    "            self.test_helper(self.net)\n",
    "            self.save(mode='file', netname=net.name, suffix=str(i))\n",
    "            num_valid = sum_epochs * len(dataloader_train) // interval_valid\n",
    "            self.plot_single(net.name, plot_test=False, suffix=str(i), num_valid=num_valid)\n",
    "            self.plot_single(net.name, plot_test=True, suffix=str(i))\n",
    "            print('Round {}: OK'.format(i))\n",
    "            print('---------------------------------')\n",
    "        print('==================================================')\n",
    "        self.plot_whole(net.name, n_iters=n_iters, plot_test=False, plot_origin=True, plot_mean=True, num_valid=num_valid)\n",
    "        self.plot_whole(net.name, n_iters=n_iters, plot_test=False, plot_origin=True, plot_mean=False, num_valid=num_valid)\n",
    "        self.plot_whole(net.name, n_iters=n_iters, plot_test=False, plot_origin=False, plot_mean=True, num_valid=num_valid)\n",
    "        self.plot_whole(net.name, n_iters=n_iters, plot_test=True, plot_origin=True, plot_mean=True)\n",
    "        self.plot_whole(net.name, n_iters=n_iters, plot_test=True, plot_origin=True, plot_mean=False)\n",
    "        self.plot_whole(net.name, n_iters=n_iters, plot_test=True, plot_origin=False, plot_mean=True)\n",
    "        print('Finish all the pipeline.')    \n",
    "        \n",
    "        \n",
    "    def train_helper(self, net, loss_func, optimizer, digit_rangesss, sum_epochs=15, interval_valid=50):\n",
    "        # train and validate, using digit_range sequences\n",
    "        for idx,digit_range in enumerate(digit_rangesss):\n",
    "            raw_out = {ind:[] for ind in self.ind_names}\n",
    "\n",
    "            raw_out['loss'], raw_out['acc'], net = train_net(\n",
    "                net=net, loss_func=loss_func, optimizer=optimizer, digit_range=digit_range,\n",
    "                sum_epochs=sum_epochs//len(digit_rangesss), interval_valid=interval_valid\n",
    "            )\n",
    "            \n",
    "            # save in RAM: train_data and valid_data \n",
    "            self.save(mode='dict-results', data=raw_out)\n",
    "            print()\n",
    "            print('Save data(train & validation): OK in RAM, for', digit_range)\n",
    "        print('Train net: OK')\n",
    "        \n",
    "    def test_helper(self, net):\n",
    "        # test(evaluate)\n",
    "        net.eval()\n",
    "        \n",
    "        raw_out = {ind:{'test':[]} for ind in self.ind_names}\n",
    "        for kdx, batch_t in enumerate(dataloader_test):\n",
    "            xs_t, ys_t = batch_t\n",
    "            xs_t, ys_t = (xs_t.cuda(), ys_t.cuda()) if use_cuda else (xs_t, ys_t)\n",
    "            xs_t, ys_t = Variable(xs_t), Variable(ys_t)\n",
    "            preds_t = net(xs_t)\n",
    "            loss_test_raw = loss_func(preds_t, ys_t)\n",
    "            raw_out['loss']['test'].append(loss_test_raw.cpu().data.numpy() if use_cuda \\\n",
    "                                           else loss_test_raw.data.numpy())\n",
    "            raw_out['acc']['test'].append(evaludate_acc(preds_t, ys_t)[0])\n",
    "        \n",
    "        # save in RAM: test_data\n",
    "        self.save(mode='dict-results', data=raw_out, stages=['test'])\n",
    "        print('Save data(test): OK in RAM')\n",
    "        \n",
    "    def save(self, mode, data=None, netname=None, stages=['train', 'valid'], suffix=None):        \n",
    "        if 'dict-results' == mode:\n",
    "            assert data is not None, 'Your should specify the data you want to save in RAM.'\n",
    "            for ind in self.ind_names:\n",
    "                for stage in stages:\n",
    "                    items = [i[0] if isinstance(i, np.ndarray) else i for i in data[ind][stage]]\n",
    "                    if stage not in self.results[ind]:\n",
    "                        self.results[ind][stage] = copy.deepcopy(items)\n",
    "                    else:\n",
    "                        self.results[ind][stage].extend(items)\n",
    "        \n",
    "        if 'file' == mode:\n",
    "            assert netname is not None, 'You should specify the **NAME** of this neural network.'\n",
    "            \n",
    "            lacks = []\n",
    "            for stage in self.stage_names:\n",
    "                tmp_pd = {ind:copy.deepcopy(self.results[ind][stage]) for ind in self.ind_names}\n",
    "                tmp_pd = pd.DataFrame(data=tmp_pd, columns=self.ind_names)\n",
    "                if suffix:\n",
    "                    filename = os.path.join(os.getcwd(), self.dirname, \n",
    "                                            '{}-sheet-{}-{}.csv'.format(netname, stage, suffix))\n",
    "                else:\n",
    "                    filename = os.path.join(os.getcwd(), self.dirname, \n",
    "                                            '{}-sheet-{}.csv'.format(netname, stage))\n",
    "                    \n",
    "                # write to csv\n",
    "                if os.path.isfile(filename):\n",
    "                    pd_source = pd.read_csv(filename)\n",
    "                    tmp_pd = pd.concat([pd_source, tmp_pd])\n",
    "                    tmp_pd.to_csv(filename, index=False) \n",
    "                else:\n",
    "                    tmp_pd.to_csv(filename, index=False)\n",
    "                        \n",
    "                print('Save data in file OK:', filename)\n",
    "    \n",
    "    def plot_single(self, netname, suffix=None, plot_test=True, num_valid=None):        \n",
    "        if plot_test:\n",
    "            # plot: test\n",
    "            \n",
    "            x_inds = np.arange(len(dataloader_test))\n",
    "            fig, axes_raw = plt.subplots(1, len(self.ind_names), figsize=(15,5))\n",
    "            axes = {ind:axes_raw[i] for i,ind in enumerate(self.ind_names)}\n",
    "            for ind in self.ind_names:\n",
    "                axes[ind].plot(x_inds, self.results[ind]['test'], label='{}_test'.format(ind))\n",
    "                axes[ind].set_xlabel('num_iter')\n",
    "                axes[ind].set_ylabel(ind)\n",
    "            \n",
    "            if suffix:\n",
    "                filename = os.path.join(os.getcwd(), self.dirname, \n",
    "                                        '{}-curves_test-{}'.format(netname, suffix))\n",
    "            else:\n",
    "                filename = os.path.join(os.getcwd(), self.dirname, '{}-curves_test'.format(netname))\n",
    "                \n",
    "            plt.savefig(filename)\n",
    "            \n",
    "        if not plot_test:\n",
    "            # plot: train & validation\n",
    "            \n",
    "            fig, axes_raw = plt.subplots(1, len(self.ind_names), figsize=(15, 5))\n",
    "            axes = {self.ind_names[i]:ax for i,ax in enumerate(axes_raw) }\n",
    "            \n",
    "            assert num_valid is not None, 'You should specify how many times \\\n",
    "the validation process executed each round.'\n",
    "            x_inds = np.arange(num_valid)\n",
    "            for ind in ['loss', 'acc']:\n",
    "                for stage in ['train', 'valid']:\n",
    "                    axes[ind].plot(x_inds, self.results[ind][stage], label='{}_{}'.format(ind, stage))\n",
    "                \n",
    "                axes[ind].set_xlabel('num_iter')\n",
    "                axes[ind].set_ylabel(ind)\n",
    "                axes[ind].set_title('data on: convnet_0')\n",
    "                axes[ind].legend()\n",
    "            \n",
    "            plt.tight_layout(w_pad=10)\n",
    "            \n",
    "            if suffix:\n",
    "                filename = os.path.join(os.getcwd(), self.dirname, \n",
    "                                        '{}-curves-train_validation-{}'.format(netname, suffix))\n",
    "            else:\n",
    "                filename = os.path.join(os.getcwd(), self.dirname, '{}-curves-train_validation'.format(netname))\n",
    "                \n",
    "            plt.savefig(filename)\n",
    "\n",
    "            # # fig.show() \n",
    "            # comment the command above to avoid warning \n",
    "            #`UserWarning: matplotlib is currently using a non-GUI backend, so cannot show the figure`\n",
    "            \n",
    "    def plot_whole(self, netname, n_iters, num_valid=None, plot_test=False, plot_origin=True, plot_mean=False):\n",
    "        empty_markers = ['None', None, ' ', '']\n",
    "        plt_markers_list = list([mk for mk in plt_markers.MarkerStyle.markers.keys() if mk not in empty_markers])\n",
    "        plt_markers_gen = (mk for mk in plt_markers_list)\n",
    "        \n",
    "        fig, axes_raw = plt.subplots(1, 2, figsize=(15, 5))\n",
    "        axes = {ind:axes_raw[i] for i,ind in enumerate(self.ind_names)}\n",
    "        alpha_dict = {'train':0.7 ,'valid':1.0, 'test':1.0}\n",
    "\n",
    "        ind_data = {}\n",
    "        for ind in self.ind_names:\n",
    "            for stage in self.stage_names:\n",
    "                k = '{}_{}-mean'.format(ind, stage)\n",
    "                ind_data[k] = []\n",
    "                \n",
    "        if plot_test:\n",
    "            x_inds = np.arange(len(dataloader_test))\n",
    "            \n",
    "            for i in range(n_iters):\n",
    "                for stage in self.stage_names[-1:]:\n",
    "                    filename = '{}-sheet-{}-{}.csv'.format(netname, stage, i)\n",
    "                    filename = os.path.join(os.getcwd(), self.dirname, filename)\n",
    "                    df = pd.read_csv(filename)\n",
    "                    for ind in self.ind_names:\n",
    "                        # save data for the mean curve\n",
    "                        k = '{}_{}-mean'.format(ind, stage)\n",
    "                        ind_data[k].append(df[ind].values)\n",
    "                        \n",
    "                        # plot\n",
    "                        if plot_origin:\n",
    "                            axes[ind].plot(x_inds, df[ind], label='{}_{}-{}'.format(ind, stage, i), \n",
    "                                           marker=next(plt_markers_gen), alpha=alpha_dict[stage])\n",
    "            if plot_mean:\n",
    "                for ind in self.ind_names:\n",
    "                    for stage in self.stage_names[-1:]:\n",
    "                        k = '{}_{}-mean'.format(ind, stage)\n",
    "                        ind_data[k] = np.array(ind_data[k]).mean(axis=0)\n",
    "                        axes[ind].plot(x_inds, ind_data[k], label=k,\n",
    "                                       marker=next(plt_markers_gen), alpha=alpha_dict[stage])\n",
    "        \n",
    "            for ind in self.ind_names:    \n",
    "                axes[ind].legend()\n",
    "\n",
    "            plt.tight_layout(w_pad=10)\n",
    "\n",
    "            use_origin = 'Origin' if plot_origin else 'noOrigin'\n",
    "            use_mean = 'Mean' if plot_origin else 'noMean'\n",
    "            filename = '{}-curves-test-whole-{}{}'.format(netname, use_origin, use_mean)\n",
    "            filename = os.path.join(os.getcwd(), self.dirname, filename)\n",
    "            plt.savefig(filename)\n",
    "                \n",
    "        if not plot_test:\n",
    "            assert num_valid is not None, \"You must specify the num of iterations on validation.\"\n",
    "            # plot: train_validation\n",
    "            x_inds = np.arange(num_valid)\n",
    "            \n",
    "            for i in range(n_iters):\n",
    "                for stage in self.stage_names[:-1]:\n",
    "                    filename_base = '{}-sheet-{}-{}.csv'.format(netname, stage, i)\n",
    "                    filename = os.path.join(os.getcwd(), self.dirname, filename_base)\n",
    "                    assert os.path.isfile(filename), 'Lack file: '.format(filename_base)\n",
    "                    df = pd.read_csv(filename)\n",
    "                    for ind in self.ind_names:\n",
    "                        # save data for the mean curve\n",
    "                        k = '{}_{}-mean'.format(ind, stage)\n",
    "                        ind_data[k].append(df[ind].values)\n",
    "        \n",
    "                        # plot\n",
    "                        if plot_origin:\n",
    "                            axes[ind].plot(x_inds, df[ind], label='{}_{}-{}'.format(ind, stage, i), \n",
    "                                           marker=next(plt_markers_gen), alpha=alpha_dict[stage])\n",
    "\n",
    "            if plot_mean:\n",
    "                for ind in self.ind_names:\n",
    "                    for stage in self.stage_names[:-1]:\n",
    "                        k = '{}_{}-mean'.format(ind, stage)\n",
    "                        ind_data[k] = np.array(ind_data[k]).mean(axis=0)\n",
    "                        axes[ind].plot(x_inds, ind_data[k], label=k,\n",
    "                                       marker=next(plt_markers_gen), alpha=alpha_dict[stage])\n",
    "\n",
    "            for ind in self.ind_names:    \n",
    "                axes[ind].legend()\n",
    "            \n",
    "            plt.tight_layout(w_pad=10)\n",
    "            \n",
    "            use_origin = 'Origin' if plot_origin else 'noOrigin'\n",
    "            use_mean = 'Mean' if plot_origin else 'noMean'\n",
    "            filename = '{}-curves-train_validation-whole-{}{}'.format(netname, use_origin, use_mean)\n",
    "            filename = os.path.join(os.getcwd(), self.dirname, filename)\n",
    "            plt.savefig(filename)"
   ]
  },
  {
   "cell_type": "markdown",
   "metadata": {},
   "source": [
    "# 1. ConvNet_0 [0~4 -> 5~9]"
   ]
  },
  {
   "cell_type": "markdown",
   "metadata": {},
   "source": [
    "## 1.1 train and test"
   ]
  },
  {
   "cell_type": "markdown",
   "metadata": {},
   "source": [
    "报错过 `Assertion `cur_target >= 0 && cur_target < n_classes' failed.`，于是打印预测值，发现预测值是\n",
    "\n",
    "```\n",
    "0.1296\n",
    "-0.0020\n",
    "-0.0002\n",
    "-0.0004\n",
    " 0.0679\n",
    " 0.0892\n",
    "-0.0001\n",
    "-0.0057\n",
    "-0.0023\n",
    "-0.0033\n",
    " 0.4178\n",
    "-0.0057\n",
    " 0.3687\n",
    "-0.0001\n",
    " 0.4879\n",
    "-0.0012\n",
    "-0.0029\n",
    " 0.4439\n",
    "-0.0038\n",
    "-0.0007\n",
    "-0.0016\n",
    " 0.0780\n",
    "-0.0021\n",
    "-0.0010\n",
    "-0.0016\n",
    "-0.0034\n",
    " 0.2390\n",
    "-0.0039\n",
    "-0.0032\n",
    "-0.0005\n",
    "-0.0031\n",
    "-0.0033\n",
    "-0.0007\n",
    " 1.0161\n",
    "-0.0013\n",
    "-0.0033\n",
    " 0.1488\n",
    "```\n",
    "\n",
    "于是我估计前向传播出问题了，看了一下 `forward`，果然，由于延续了之前的代码，没有改成 softmax\n",
    "\n",
    "\n",
    "后来又报错 `Expected 2 or 4 dimensions (got 1) `，仔细查看网络结构，对比现有网络和之前成功的网络，发现自己通不过的网络里，最后一层全连接是 1 个结点，想到估计是这个导致 softmax 没法输出（本应接受 `n_class` 个输入才能有对应输出的）\n",
    "\n",
    "后来报错 `inconsistent tensor size, expected r_ [1000], ta [1000] and tb [100] to have the same number of elements, but got 1000, 1000 and 100 elements respectively at /opt/conda/conda-bld/pytorch_1502004572321/work/torch/lib/TH/generic/THTensorMath.c:2829`，然后我估计是形状不匹配，于是在测试前加入形状代码，发现现在一个输出是 10 维度，一个原始数据是 1 维，当然无法比较。那么为什么原来的网络可以呢？对比后发现，原来的网络在测试时使用了 `np.argmax` 来转换。于是我就想，干脆在网络输出前用 `torch.max` 来取值就好了"
   ]
  },
  {
   "cell_type": "code",
   "execution_count": 14,
   "metadata": {
    "collapsed": true
   },
   "outputs": [],
   "source": [
    "#####\n",
    "##需要在每次做新实验时重新初始化一个新的卷积网络\n",
    "##否则就相当于只是多了几个 epoch 而已，起点不同，无法比较\n",
    "\n",
    "## 每次实验重新初始化时也得清空保存结果所用的数据结构"
   ]
  },
  {
   "cell_type": "code",
   "execution_count": 20,
   "metadata": {
    "collapsed": true
   },
   "outputs": [],
   "source": [
    "net_names = []"
   ]
  },
  {
   "cell_type": "code",
   "execution_count": null,
   "metadata": {
    "scrolled": true
   },
   "outputs": [
    {
     "name": "stdout",
     "output_type": "stream",
     "text": [
      "[Epoch: 49/50] [Batch: 550/600] [Loss-mean(train): 2.3190] [Loss-mean(validation): 2.2961] [Acc-mean(train): 0.1259] [Acc-mean(validation): 0.1466]\n",
      "Save data(train & validation): OK in RAM, for range(0, 5)\n",
      "[Epoch: 49/50] [Batch: 550/600] [Loss-mean(train): 2.3210] [Loss-mean(validation): 2.2961] [Acc-mean(train): 0.1254] [Acc-mean(validation): 0.1466]\n",
      "Save data(train & validation): OK in RAM, for range(0, 5)\n",
      "[Epoch: 49/50] [Batch: 550/600] [Loss-mean(train): 2.3084] [Loss-mean(validation): 2.2962] [Acc-mean(train): 0.1246] [Acc-mean(validation): 0.1462]\n",
      "Save data(train & validation): OK in RAM, for range(5, 10)\n",
      "Train net: OK\n",
      "Save data(test): OK in RAM\n",
      "Save data in file OK: /output/outputs_170908-175215/net00-sheet-train-5.csv\n",
      "Save data in file OK: /output/outputs_170908-175215/net00-sheet-valid-5.csv\n",
      "Save data in file OK: /output/outputs_170908-175215/net00-sheet-test-5.csv\n",
      "Round 5: OK\n",
      "---------------------------------\n",
      "[Epoch: 49/50] [Batch: 550/600] [Loss-mean(train): 2.3206] [Loss-mean(validation): 2.2961] [Acc-mean(train): 0.1257] [Acc-mean(validation): 0.1463]\n",
      "Save data(train & validation): OK in RAM, for range(0, 5)\n",
      "[Epoch: 49/50] [Batch: 550/600] [Loss-mean(train): 2.3078] [Loss-mean(validation): 2.2962] [Acc-mean(train): 0.1251] [Acc-mean(validation): 0.1461]\n",
      "Save data(train & validation): OK in RAM, for range(5, 10)\n",
      "Train net: OK\n",
      "Save data(test): OK in RAM\n",
      "Save data in file OK: /output/outputs_170908-175215/net00-sheet-train-6.csv\n",
      "Save data in file OK: /output/outputs_170908-175215/net00-sheet-valid-6.csv\n",
      "Save data in file OK: /output/outputs_170908-175215/net00-sheet-test-6.csv\n",
      "Round 6: OK\n",
      "---------------------------------\n",
      "[Epoch: 49/50] [Batch: 550/600] [Loss-mean(train): 2.3203] [Loss-mean(validation): 2.2961] [Acc-mean(train): 0.1253] [Acc-mean(validation): 0.1463]\n",
      "Save data(train & validation): OK in RAM, for range(0, 5)\n",
      "[Epoch: 49/50] [Batch: 550/600] [Loss-mean(train): 2.3086] [Loss-mean(validation): 2.2962] [Acc-mean(train): 0.1240] [Acc-mean(validation): 0.1457]\n",
      "Save data(train & validation): OK in RAM, for range(5, 10)\n",
      "Train net: OK\n",
      "Save data(test): OK in RAM\n",
      "Save data in file OK: /output/outputs_170908-175215/net00-sheet-train-7.csv\n",
      "Save data in file OK: /output/outputs_170908-175215/net00-sheet-valid-7.csv\n",
      "Save data in file OK: /output/outputs_170908-175215/net00-sheet-test-7.csv\n",
      "Round 7: OK\n",
      "---------------------------------\n",
      "[Epoch: 24/50] [Batch: 0/600] [Loss-mean(train): 2.3198] [Loss-mean(validation): 2.2961] [Acc-mean(train): 0.1229] [Acc-mean(validation): 0.1463]3]\r"
     ]
    }
   ],
   "source": [
    "%%time\n",
    "\n",
    "# init\n",
    "\n",
    "net00 = ConvNet('net00').cuda() if use_cuda else ConvNet('net00')\n",
    "loss_func = nn.CrossEntropyLoss()\n",
    "optimizer = torch.optim.Adam# (net00.parameters())\n",
    "\n",
    "coach00 = CoachTeam(net00, optimizer, loss_func)\n",
    "\n",
    "coach00.pipeline_helper(\n",
    "    n_iters=10, \n",
    "    digit_rangesss=[range(4+1), range(4+1, 9+1)],\n",
    "    sum_epochs=100\n",
    ")"
   ]
  },
  {
   "cell_type": "code",
   "execution_count": null,
   "metadata": {
    "collapsed": true
   },
   "outputs": [],
   "source": [
    "print('good')"
   ]
  },
  {
   "cell_type": "markdown",
   "metadata": {},
   "source": [
    "## 1.2 details"
   ]
  },
  {
   "cell_type": "markdown",
   "metadata": {},
   "source": [
    "blabla..."
   ]
  },
  {
   "cell_type": "markdown",
   "metadata": {},
   "source": [
    "# 2. ConvNet_1 [0~4 -> 0~9]"
   ]
  },
  {
   "cell_type": "markdown",
   "metadata": {},
   "source": [
    "## 2.1 train and test"
   ]
  },
  {
   "cell_type": "code",
   "execution_count": null,
   "metadata": {
    "collapsed": true
   },
   "outputs": [],
   "source": [
    "%%time\n",
    "\n",
    "# init\n",
    "\n",
    "net01 = ConvNet('net01').cuda() if use_cuda else ConvNet('net01')\n",
    "loss_func = nn.CrossEntropyLoss()\n",
    "optimizer = torch.optim.Adam# (net00.parameters())\n",
    "\n",
    "coach01 = CoachTeam(net01, optimizer, loss_func)\n",
    "\n",
    "coach01.pipeline_helper(\n",
    "    n_iters=10, \n",
    "    digit_rangesss=[range(4+1), range(9+1)],\n",
    "    sum_epochs=100\n",
    ")"
   ]
  },
  {
   "cell_type": "markdown",
   "metadata": {},
   "source": [
    "## 2.2 details"
   ]
  },
  {
   "cell_type": "markdown",
   "metadata": {},
   "source": [
    "blabla..."
   ]
  },
  {
   "cell_type": "markdown",
   "metadata": {},
   "source": [
    "# 3. ConvNet_2 [0~9]"
   ]
  },
  {
   "cell_type": "markdown",
   "metadata": {},
   "source": [
    "## 3.1 train and test"
   ]
  },
  {
   "cell_type": "code",
   "execution_count": null,
   "metadata": {
    "collapsed": true
   },
   "outputs": [],
   "source": [
    "%%time\n",
    "\n",
    "# init\n",
    "\n",
    "net02 = ConvNet('net02').cuda() if use_cuda else ConvNet('net02')\n",
    "loss_func = nn.CrossEntropyLoss()\n",
    "optimizer = torch.optim.Adam# (net00.parameters())\n",
    "\n",
    "coach02 = CoachTeam(net02, optimizer, loss_func)\n",
    "\n",
    "coach02.pipeline_helper(\n",
    "    n_iters=10, \n",
    "    digit_rangesss=[range(9+1)],\n",
    "    sum_epochs=100\n",
    ")"
   ]
  },
  {
   "cell_type": "markdown",
   "metadata": {},
   "source": [
    "## 3.2 details"
   ]
  },
  {
   "cell_type": "markdown",
   "metadata": {},
   "source": [
    "blabla..."
   ]
  },
  {
   "cell_type": "code",
   "execution_count": null,
   "metadata": {
    "collapsed": true
   },
   "outputs": [],
   "source": []
  },
  {
   "cell_type": "code",
   "execution_count": null,
   "metadata": {
    "collapsed": true
   },
   "outputs": [],
   "source": []
  },
  {
   "cell_type": "code",
   "execution_count": null,
   "metadata": {
    "collapsed": true
   },
   "outputs": [],
   "source": []
  },
  {
   "cell_type": "code",
   "execution_count": null,
   "metadata": {
    "collapsed": true
   },
   "outputs": [],
   "source": []
  }
 ],
 "metadata": {
  "kernelspec": {
   "display_name": "Python 3",
   "language": "python",
   "name": "python3"
  },
  "language_info": {
   "codemirror_mode": {
    "name": "ipython",
    "version": 3
   },
   "file_extension": ".py",
   "mimetype": "text/x-python",
   "name": "python",
   "nbconvert_exporter": "python",
   "pygments_lexer": "ipython3",
   "version": "3.6.1"
  }
 },
 "nbformat": 4,
 "nbformat_minor": 2
}
