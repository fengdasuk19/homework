{
 "cells": [
  {
   "cell_type": "markdown",
   "metadata": {},
   "source": [
    "Under the condition where epoch = 100, compare three kinds of convnets using different training ways:\n",
    "\n",
    "1. Firstly train digits 0~4, then 5~9\n",
    "2. Firstly train digits 0~4, then 0~9\n",
    "3. Firstly train digits 0~9"
   ]
  },
  {
   "cell_type": "markdown",
   "metadata": {},
   "source": [
    "Compare way:\n",
    "\n",
    "1. curves' shape\n",
    "2. accuracy on test sets\n",
    "3. **[Note]** Conclusions must be based on means of results from multiple experients, 5 at least."
   ]
  },
  {
   "cell_type": "markdown",
   "metadata": {},
   "source": [
    "You should commit:\n",
    "\n",
    "1. Source code\n",
    "2. A PDF report with details of experiments, including details of methods, results in graphs and conclusion."
   ]
  },
  {
   "cell_type": "markdown",
   "metadata": {},
   "source": [
    " --------------------------------------------------------------"
   ]
  },
  {
   "cell_type": "markdown",
   "metadata": {},
   "source": [
    "# -1. Preparation"
   ]
  },
  {
   "cell_type": "code",
   "execution_count": 63,
   "metadata": {
    "collapsed": true
   },
   "outputs": [],
   "source": [
    "#import modules\n",
    "\n",
    "import numpy as np\n",
    "import pandas as pd\n",
    "import matplotlib.pyplot as plt\n",
    "\n",
    "import torch\n",
    "from torch import nn\n",
    "from torch.autograd import Variable\n",
    "\n",
    "from IPython.display import display\n",
    "%matplotlib inline"
   ]
  },
  {
   "cell_type": "code",
   "execution_count": 2,
   "metadata": {
    "collapsed": true
   },
   "outputs": [],
   "source": [
    "# define some constant variables\n",
    "\n",
    "use_cuda = torch.cuda.is_available()\n",
    "dtype_float = torch.cuda.FloatTensor if use_cuda else torch.FloatTensor\n",
    "dtype_long = torch.cuda.LongTensor if use_cuda else torch.LongTensor"
   ]
  },
  {
   "cell_type": "code",
   "execution_count": 29,
   "metadata": {},
   "outputs": [],
   "source": [
    "import torchvision\n",
    "\n",
    "# prepare MNIST\n",
    "\n",
    "path_datasets = './datasets'\n",
    "\n",
    "transform_set = torchvision.transforms.Compose([\n",
    "    torchvision.transforms.ToTensor()\n",
    "])\n",
    "data_train = torchvision.datasets.MNIST(root=path_datasets, train=True, download=True, \n",
    "                                        transform=transform_set) \n",
    "data_test = torchvision.datasets.MNIST(root=path_datasets, train=False, download=True,\n",
    "                                        transform=transform_set)"
   ]
  },
  {
   "cell_type": "code",
   "execution_count": 64,
   "metadata": {},
   "outputs": [],
   "source": [
    "batch_size = 100\n",
    "n_class = 10\n",
    "\n",
    "##dataloader_train\n",
    "dataloader_train = torch.utils.data.DataLoader(dataset=data_train, batch_size=batch_size, shuffle=True)\n",
    "\n",
    "##dataloader_valid\n",
    "\n",
    "indices_valid = range(len(data_test)//2)\n",
    "sampler_valid = torch.utils.data.sampler.SubsetRandomSampler(indices=indices_valid)\n",
    "dataloader_valid = torch.utils.data.DataLoader(dataset=data_test, batch_size=batch_size, sampler=sampler_valid)\n",
    "\n",
    "##dataloader_test\n",
    "\n",
    "indices_test = range(len(data_test)//2, len(data_test))\n",
    "sampler_test = torch.utils.data.sampler.SubsetRandomSampler(indices=indices_test)\n",
    "\n",
    "dataloader_test = torch.utils.data.DataLoader(dataset=data_test, batch_size=batch_size, sampler=sampler_test)"
   ]
  },
  {
   "cell_type": "markdown",
   "metadata": {},
   "source": [
    "## 查看三个数据迭代器的结果"
   ]
  },
  {
   "cell_type": "code",
   "execution_count": 86,
   "metadata": {
    "scrolled": false
   },
   "outputs": [
    {
     "data": {
      "text/html": [
       "<div>\n",
       "<style>\n",
       "    .dataframe thead tr:only-child th {\n",
       "        text-align: right;\n",
       "    }\n",
       "\n",
       "    .dataframe thead th {\n",
       "        text-align: left;\n",
       "    }\n",
       "\n",
       "    .dataframe tbody tr th {\n",
       "        vertical-align: top;\n",
       "    }\n",
       "</style>\n",
       "<table border=\"1\" class=\"dataframe\">\n",
       "  <thead>\n",
       "    <tr style=\"text-align: right;\">\n",
       "      <th></th>\n",
       "      <th>0</th>\n",
       "    </tr>\n",
       "  </thead>\n",
       "  <tbody>\n",
       "    <tr>\n",
       "      <th>0</th>\n",
       "      <td>5923</td>\n",
       "    </tr>\n",
       "    <tr>\n",
       "      <th>1</th>\n",
       "      <td>6742</td>\n",
       "    </tr>\n",
       "    <tr>\n",
       "      <th>2</th>\n",
       "      <td>5958</td>\n",
       "    </tr>\n",
       "    <tr>\n",
       "      <th>3</th>\n",
       "      <td>6131</td>\n",
       "    </tr>\n",
       "    <tr>\n",
       "      <th>4</th>\n",
       "      <td>5842</td>\n",
       "    </tr>\n",
       "    <tr>\n",
       "      <th>5</th>\n",
       "      <td>5421</td>\n",
       "    </tr>\n",
       "    <tr>\n",
       "      <th>6</th>\n",
       "      <td>5918</td>\n",
       "    </tr>\n",
       "    <tr>\n",
       "      <th>7</th>\n",
       "      <td>6265</td>\n",
       "    </tr>\n",
       "    <tr>\n",
       "      <th>8</th>\n",
       "      <td>5851</td>\n",
       "    </tr>\n",
       "    <tr>\n",
       "      <th>9</th>\n",
       "      <td>5949</td>\n",
       "    </tr>\n",
       "  </tbody>\n",
       "</table>\n",
       "</div>"
      ],
      "text/plain": [
       "      0\n",
       "0  5923\n",
       "1  6742\n",
       "2  5958\n",
       "3  6131\n",
       "4  5842\n",
       "5  5421\n",
       "6  5918\n",
       "7  6265\n",
       "8  5851\n",
       "9  5949"
      ]
     },
     "metadata": {},
     "output_type": "display_data"
    },
    {
     "data": {
      "image/png": "[encoded data removed]",
      "text/plain": [
       "<matplotlib.figure.Figure at 0x7f3b3a15fe80>"
      ]
     },
     "metadata": {},
     "output_type": "display_data"
    }
   ],
   "source": [
    "count = {i:0 for i in range(n_class)}\n",
    "for i,data in enumerate(dataloader_train):\n",
    "    xs,ys = data\n",
    "    for y in ys:\n",
    "        count[y] += 1\n",
    "\n",
    "count = [count[i] for i in range(n_class)]\n",
    "display(pd.DataFrame(data=count))\n",
    "plt.bar(left=np.arange(n_class), height=count)\n",
    "plt.xlabel('digit classes')\n",
    "plt.ylabel('num of samples')\n",
    "plt.title('simple stat: data_train')\n",
    "plt.show()"
   ]
  },
  {
   "cell_type": "code",
   "execution_count": 87,
   "metadata": {},
   "outputs": [
    {
     "data": {
      "text/html": [
       "<div>\n",
       "<style>\n",
       "    .dataframe thead tr:only-child th {\n",
       "        text-align: right;\n",
       "    }\n",
       "\n",
       "    .dataframe thead th {\n",
       "        text-align: left;\n",
       "    }\n",
       "\n",
       "    .dataframe tbody tr th {\n",
       "        vertical-align: top;\n",
       "    }\n",
       "</style>\n",
       "<table border=\"1\" class=\"dataframe\">\n",
       "  <thead>\n",
       "    <tr style=\"text-align: right;\">\n",
       "      <th></th>\n",
       "      <th>0</th>\n",
       "    </tr>\n",
       "  </thead>\n",
       "  <tbody>\n",
       "    <tr>\n",
       "      <th>0</th>\n",
       "      <td>460</td>\n",
       "    </tr>\n",
       "    <tr>\n",
       "      <th>1</th>\n",
       "      <td>571</td>\n",
       "    </tr>\n",
       "    <tr>\n",
       "      <th>2</th>\n",
       "      <td>530</td>\n",
       "    </tr>\n",
       "    <tr>\n",
       "      <th>3</th>\n",
       "      <td>500</td>\n",
       "    </tr>\n",
       "    <tr>\n",
       "      <th>4</th>\n",
       "      <td>500</td>\n",
       "    </tr>\n",
       "    <tr>\n",
       "      <th>5</th>\n",
       "      <td>456</td>\n",
       "    </tr>\n",
       "    <tr>\n",
       "      <th>6</th>\n",
       "      <td>462</td>\n",
       "    </tr>\n",
       "    <tr>\n",
       "      <th>7</th>\n",
       "      <td>512</td>\n",
       "    </tr>\n",
       "    <tr>\n",
       "      <th>8</th>\n",
       "      <td>489</td>\n",
       "    </tr>\n",
       "    <tr>\n",
       "      <th>9</th>\n",
       "      <td>520</td>\n",
       "    </tr>\n",
       "  </tbody>\n",
       "</table>\n",
       "</div>"
      ],
      "text/plain": [
       "     0\n",
       "0  460\n",
       "1  571\n",
       "2  530\n",
       "3  500\n",
       "4  500\n",
       "5  456\n",
       "6  462\n",
       "7  512\n",
       "8  489\n",
       "9  520"
      ]
     },
     "metadata": {},
     "output_type": "display_data"
    },
    {
     "data": {
      "image/png": "[encoded data removed]",
      "text/plain": [
       "<matplotlib.figure.Figure at 0x7f3b3a217710>"
      ]
     },
     "metadata": {},
     "output_type": "display_data"
    }
   ],
   "source": [
    "count = {i:0 for i in range(n_class)}\n",
    "for i,data in enumerate(dataloader_valid):\n",
    "    xs,ys = data\n",
    "    for y in ys:\n",
    "        count[y] += 1\n",
    "\n",
    "count = [count[i] for i in range(n_class)]\n",
    "display(pd.DataFrame(data=count))\n",
    "plt.bar(left=np.arange(n_class), height=count)\n",
    "plt.xlabel('digit classes')\n",
    "plt.ylabel('num of samples')\n",
    "plt.title('simple stat: data_valid')\n",
    "plt.show()"
   ]
  },
  {
   "cell_type": "code",
   "execution_count": 88,
   "metadata": {},
   "outputs": [
    {
     "data": {
      "text/html": [
       "<div>\n",
       "<style>\n",
       "    .dataframe thead tr:only-child th {\n",
       "        text-align: right;\n",
       "    }\n",
       "\n",
       "    .dataframe thead th {\n",
       "        text-align: left;\n",
       "    }\n",
       "\n",
       "    .dataframe tbody tr th {\n",
       "        vertical-align: top;\n",
       "    }\n",
       "</style>\n",
       "<table border=\"1\" class=\"dataframe\">\n",
       "  <thead>\n",
       "    <tr style=\"text-align: right;\">\n",
       "      <th></th>\n",
       "      <th>0</th>\n",
       "    </tr>\n",
       "  </thead>\n",
       "  <tbody>\n",
       "    <tr>\n",
       "      <th>0</th>\n",
       "      <td>520</td>\n",
       "    </tr>\n",
       "    <tr>\n",
       "      <th>1</th>\n",
       "      <td>564</td>\n",
       "    </tr>\n",
       "    <tr>\n",
       "      <th>2</th>\n",
       "      <td>502</td>\n",
       "    </tr>\n",
       "    <tr>\n",
       "      <th>3</th>\n",
       "      <td>510</td>\n",
       "    </tr>\n",
       "    <tr>\n",
       "      <th>4</th>\n",
       "      <td>482</td>\n",
       "    </tr>\n",
       "    <tr>\n",
       "      <th>5</th>\n",
       "      <td>436</td>\n",
       "    </tr>\n",
       "    <tr>\n",
       "      <th>6</th>\n",
       "      <td>496</td>\n",
       "    </tr>\n",
       "    <tr>\n",
       "      <th>7</th>\n",
       "      <td>516</td>\n",
       "    </tr>\n",
       "    <tr>\n",
       "      <th>8</th>\n",
       "      <td>485</td>\n",
       "    </tr>\n",
       "    <tr>\n",
       "      <th>9</th>\n",
       "      <td>489</td>\n",
       "    </tr>\n",
       "  </tbody>\n",
       "</table>\n",
       "</div>"
      ],
      "text/plain": [
       "     0\n",
       "0  520\n",
       "1  564\n",
       "2  502\n",
       "3  510\n",
       "4  482\n",
       "5  436\n",
       "6  496\n",
       "7  516\n",
       "8  485\n",
       "9  489"
      ]
     },
     "metadata": {},
     "output_type": "display_data"
    },
    {
     "data": {
      "image/png": "[encoded data removed]",
      "text/plain": [
       "<matplotlib.figure.Figure at 0x7f3b3a1796d8>"
      ]
     },
     "metadata": {},
     "output_type": "display_data"
    }
   ],
   "source": [
    "count = {i:0 for i in range(n_class)}\n",
    "for i,data in enumerate(dataloader_test):\n",
    "    xs,ys = data\n",
    "    for y in ys:\n",
    "        count[y] += 1\n",
    "\n",
    "count = [count[i] for i in range(n_class)]\n",
    "display(pd.DataFrame(data=count))\n",
    "plt.bar(left=np.arange(n_class), height=count)\n",
    "plt.xlabel('digit classes')\n",
    "plt.ylabel('num of samples')\n",
    "plt.title('simple stat: data_test')\n",
    "plt.show()"
   ]
  },
  {
   "cell_type": "markdown",
   "metadata": {},
   "source": [
    "# 0. ConvNet class"
   ]
  },
  {
   "cell_type": "code",
   "execution_count": 39,
   "metadata": {},
   "outputs": [],
   "source": [
    "from  torch.nn import functional as F\n",
    "\n",
    "n_channels = 1\n",
    "n_class = 10\n",
    "n_epoch = 100\n",
    "size_image = 28\n",
    "\n",
    "\n",
    "depth = [16, 32, 64]\n",
    "fc = [1024, 128, 1]\n",
    "ksize = [5, 5, 5]\n",
    "pad = [2, 2, 2]\n",
    "\n",
    "\n",
    "# define class\n",
    "\n",
    "class ConvNet(nn.Module):\n",
    "    \n",
    "    def __init__(self):\n",
    "        super(ConvNet).__init__()\n",
    "        self.conv00 = nn.Conv2d(in_channels=n_channels, out_channels=depth[0], kernel_size=ksize[0], padding=pad[0])\n",
    "        self.conv01 = nn.Conv2d(in_channels=depth[0], out_channels=depth[1], kernel_size=ksize[1], padding=pad[1])\n",
    "        self.conv02 = nn.Conv2d(in_channels=depth[1], out_channels=depth[2], kernel_size=ksize[2], padding=pad[2])\n",
    "        self.maxpool = nn.MaxPool2d(kernel_size=2, stride=2)\n",
    "        \n",
    "        self.fc00 = nn.Linear(in_features=(size_image//4//2)*(size_image//4//2)*depth[2], out_features=fc[0])\n",
    "        self.fc01 = nn.Linear(in_features=fc[0], out_features=fc[1])\n",
    "        self.fc02 = nn.Linear(in_features=fc[1], out_features=fc[2])\n",
    "        \n",
    "        self.bn1d = nn.BatchNorm1d(num_features=fc[1])\n",
    "    \n",
    "    def forward(self, x, training=True):\n",
    "        x = F.leaky_relu(self.conv00(inp))\n",
    "        x = self.maxpool(x)\n",
    "        x = F.leaky_relu(self.conv01(x))\n",
    "        x = self.maxpool(x)\n",
    "        x = F.leaky_relu(self.conv02(x))\n",
    "        x = self.maxpool(x)\n",
    "        x = x.view(-1, (size_image//4//2)*(size_image//4//2)*depth[2])\n",
    "        \n",
    "        x = F.leaky_relu(self.fc00(x))\n",
    "        x = F.dropout(y, training=self.training)\n",
    "        x = F.leaky_relu(self.fc01(x))\n",
    "        x = self.bn1d(x)\n",
    "        x = F.leaky_relu(self.fc02(x))\n",
    "        \n",
    "        return x    "
   ]
  },
  {
   "cell_type": "markdown",
   "metadata": {},
   "source": [
    "# 1. ConvNet_0 [0~4 -> 5~9]"
   ]
  },
  {
   "cell_type": "markdown",
   "metadata": {},
   "source": [
    "## 1.1 train and test"
   ]
  },
  {
   "cell_type": "code",
   "execution_count": null,
   "metadata": {
    "collapsed": true
   },
   "outputs": [],
   "source": [
    "# init\n",
    "n"
   ]
  },
  {
   "cell_type": "code",
   "execution_count": null,
   "metadata": {
    "collapsed": true
   },
   "outputs": [],
   "source": [
    "# train using 0~4"
   ]
  },
  {
   "cell_type": "code",
   "execution_count": null,
   "metadata": {
    "collapsed": true
   },
   "outputs": [],
   "source": [
    "# train using 5~9"
   ]
  },
  {
   "cell_type": "code",
   "execution_count": null,
   "metadata": {
    "collapsed": true
   },
   "outputs": [],
   "source": [
    "# test"
   ]
  },
  {
   "cell_type": "markdown",
   "metadata": {},
   "source": [
    "## 1.2 details"
   ]
  },
  {
   "cell_type": "markdown",
   "metadata": {},
   "source": [
    "blabla..."
   ]
  },
  {
   "cell_type": "markdown",
   "metadata": {},
   "source": [
    "# 2. ConvNet_1 [0~4 -> 0~9]"
   ]
  },
  {
   "cell_type": "markdown",
   "metadata": {},
   "source": [
    "## 2.1 train and test"
   ]
  },
  {
   "cell_type": "code",
   "execution_count": null,
   "metadata": {
    "collapsed": true
   },
   "outputs": [],
   "source": [
    "# define class"
   ]
  },
  {
   "cell_type": "code",
   "execution_count": null,
   "metadata": {
    "collapsed": true
   },
   "outputs": [],
   "source": [
    "# train using 0~4"
   ]
  },
  {
   "cell_type": "code",
   "execution_count": null,
   "metadata": {
    "collapsed": true
   },
   "outputs": [],
   "source": [
    "# train using 0~9"
   ]
  },
  {
   "cell_type": "code",
   "execution_count": null,
   "metadata": {
    "collapsed": true
   },
   "outputs": [],
   "source": [
    "# test"
   ]
  },
  {
   "cell_type": "markdown",
   "metadata": {},
   "source": [
    "## 2.2 details"
   ]
  },
  {
   "cell_type": "markdown",
   "metadata": {},
   "source": [
    "blabla..."
   ]
  },
  {
   "cell_type": "markdown",
   "metadata": {},
   "source": [
    "# 3. ConvNet_2 [0~9]"
   ]
  },
  {
   "cell_type": "markdown",
   "metadata": {},
   "source": [
    "## 3.1 train and test"
   ]
  },
  {
   "cell_type": "code",
   "execution_count": null,
   "metadata": {
    "collapsed": true
   },
   "outputs": [],
   "source": [
    "# define class"
   ]
  },
  {
   "cell_type": "code",
   "execution_count": null,
   "metadata": {
    "collapsed": true
   },
   "outputs": [],
   "source": [
    "# train using 0~9"
   ]
  },
  {
   "cell_type": "code",
   "execution_count": null,
   "metadata": {
    "collapsed": true
   },
   "outputs": [],
   "source": [
    "# test"
   ]
  },
  {
   "cell_type": "markdown",
   "metadata": {},
   "source": [
    "## 3.2 details"
   ]
  },
  {
   "cell_type": "markdown",
   "metadata": {},
   "source": [
    "blabla..."
   ]
  },
  {
   "cell_type": "code",
   "execution_count": null,
   "metadata": {
    "collapsed": true
   },
   "outputs": [],
   "source": []
  },
  {
   "cell_type": "code",
   "execution_count": null,
   "metadata": {
    "collapsed": true
   },
   "outputs": [],
   "source": []
  },
  {
   "cell_type": "code",
   "execution_count": null,
   "metadata": {
    "collapsed": true
   },
   "outputs": [],
   "source": []
  },
  {
   "cell_type": "code",
   "execution_count": null,
   "metadata": {
    "collapsed": true
   },
   "outputs": [],
   "source": []
  }
 ],
 "metadata": {
  "kernelspec": {
   "display_name": "Python 3",
   "language": "python",
   "name": "python3"
  },
  "language_info": {
   "codemirror_mode": {
    "name": "ipython",
    "version": 3
   },
   "file_extension": ".py",
   "mimetype": "text/x-python",
   "name": "python",
   "nbconvert_exporter": "python",
   "pygments_lexer": "ipython3",
   "version": "3.6.1"
  }
 },
 "nbformat": 4,
 "nbformat_minor": 2
}
